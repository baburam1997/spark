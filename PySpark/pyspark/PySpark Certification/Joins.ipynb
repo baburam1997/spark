{
 "cells": [
  {
   "cell_type": "code",
   "execution_count": 2,
   "id": "a6698448",
   "metadata": {},
   "outputs": [
    {
     "name": "stderr",
     "output_type": "stream",
     "text": [
      "23/06/10 14:19:35 WARN SparkSession: Using an existing Spark session; only runtime SQL configurations will take effect.\n"
     ]
    }
   ],
   "source": [
    "from pyspark.sql import SparkSession\n",
    "\n",
    "spark = SparkSession.builder.appName(\"Joins\").getOrCreate()"
   ]
  },
  {
   "cell_type": "markdown",
   "id": "2dc4a558",
   "metadata": {},
   "source": [
    "# Creating Dataframes"
   ]
  },
  {
   "cell_type": "code",
   "execution_count": 9,
   "id": "652daf68",
   "metadata": {},
   "outputs": [],
   "source": [
    "person = spark\\\n",
    "    .createDataFrame([\n",
    "                    (0, \"Bill Chambers\", 0, [100]),\n",
    "                    (1, \"Matei Zaharia\", 1, [500, 250, 100]),\n",
    "                    (3, \"matte Silwal\", 1, [500, 2550, 100]),\n",
    "                    (4, \"Devid Shrestha\", 1, [5040, 2550, 1040]),\n",
    "                    (5, \"Matei Panday\", 1, [500, 2500, 1500]),\n",
    "                    (6, \"Michael Armbrust\", 1, [250, 1000])])\\\n",
    "    .toDF(\"id\", \"name\", \"graduate_program\", \"spark_status\")\n",
    "\n",
    "graduateProgram = spark\\\n",
    "    .createDataFrame([\n",
    "                    (0, \"PHD\", \"School of Information\", \"UC Berkeley\"),\n",
    "                    (2, \"Masters\", \"KEC\", \"UC Berkeley\"),\n",
    "                    (3, \"Bachelors\", \"EECS\", \"UC Berkeley\"),\n",
    "                    (4, \"Masters\", \"EEC\", \"UC Berkeley w\"),\n",
    "                    (1, \"Ph.D.\", \"EECS\", \"UC Berkeley\")])\\\n",
    "    .toDF(\"id\", \"degree\", \"department\", \"school\")\n",
    "\n",
    "sparkStatus = spark\\\n",
    "    .createDataFrame([\n",
    "                    (500, \"Vice President\"),\n",
    "                    (1000, \"PMC Member\"),\n",
    "                    (2550, \"PMC Chief\"),\n",
    "                    (1040, \"PMC Leader\"),\n",
    "                    (100, \"Contributor\")])\\\n",
    "    .toDF(\"id\", \"status\")"
   ]
  },
  {
   "cell_type": "markdown",
   "id": "90d768d2",
   "metadata": {},
   "source": [
    "# Inner join"
   ]
  },
  {
   "cell_type": "code",
   "execution_count": 4,
   "id": "01bf7111",
   "metadata": {},
   "outputs": [
    {
     "name": "stderr",
     "output_type": "stream",
     "text": [
      "[Stage 1:=================================>                        (7 + 5) / 12]\r"
     ]
    },
    {
     "name": "stdout",
     "output_type": "stream",
     "text": [
      "+---+----------------+----------------+------------------+---+------+--------------------+-----------+\n",
      "| id|            name|graduate_program|      spark_status| id|degree|          department|     school|\n",
      "+---+----------------+----------------+------------------+---+------+--------------------+-----------+\n",
      "|  0|   Bill Chambers|               0|             [100]|  0|   PHD|School of Informa...|UC Berkeley|\n",
      "|  1|   Matei Zaharia|               1|   [500, 250, 100]|  1| Ph.D.|                EECS|UC Berkeley|\n",
      "|  3|    matte Silwal|               1|  [500, 2550, 100]|  1| Ph.D.|                EECS|UC Berkeley|\n",
      "|  4|  Devid Shrestha|               1|[5040, 2550, 1040]|  1| Ph.D.|                EECS|UC Berkeley|\n",
      "|  5|    Matei Panday|               1| [500, 2500, 1500]|  1| Ph.D.|                EECS|UC Berkeley|\n",
      "|  6|Michael Armbrust|               1|       [250, 1000]|  1| Ph.D.|                EECS|UC Berkeley|\n",
      "+---+----------------+----------------+------------------+---+------+--------------------+-----------+\n",
      "\n"
     ]
    },
    {
     "name": "stderr",
     "output_type": "stream",
     "text": [
      "\r",
      "                                                                                \r"
     ]
    }
   ],
   "source": [
    "joinExpression = person[\"graduate_program\"] == graduateProgram['id']\n",
    "person.join(graduateProgram, joinExpression).show()"
   ]
  },
  {
   "cell_type": "code",
   "execution_count": 5,
   "id": "929d0efd",
   "metadata": {},
   "outputs": [
    {
     "name": "stderr",
     "output_type": "stream",
     "text": [
      "[Stage 6:====================================================>    (11 + 1) / 12]\r"
     ]
    },
    {
     "name": "stdout",
     "output_type": "stream",
     "text": [
      "+---+----+----------------+------------+---+------+----------+------+\n",
      "| id|name|graduate_program|spark_status| id|degree|department|school|\n",
      "+---+----+----------------+------------+---+------+----------+------+\n",
      "+---+----+----------------+------------+---+------+----------+------+\n",
      "\n"
     ]
    },
    {
     "name": "stderr",
     "output_type": "stream",
     "text": [
      "\r",
      "                                                                                \r"
     ]
    }
   ],
   "source": [
    "wrongJoinExpression = person[\"name\"] == graduateProgram[\"school\"]\n",
    "person.join(graduateProgram, wrongJoinExpression).show()"
   ]
  },
  {
   "cell_type": "code",
   "execution_count": 8,
   "id": "a252aa1c",
   "metadata": {},
   "outputs": [
    {
     "name": "stderr",
     "output_type": "stream",
     "text": [
      "[Stage 21:=========>                                              (2 + 10) / 12]\r"
     ]
    },
    {
     "name": "stdout",
     "output_type": "stream",
     "text": [
      "+---+----------------+----------------+------------------+---+------+--------------------+-----------+\n",
      "| id|            name|graduate_program|      spark_status| id|degree|          department|     school|\n",
      "+---+----------------+----------------+------------------+---+------+--------------------+-----------+\n",
      "|  0|   Bill Chambers|               0|             [100]|  0|   PHD|School of Informa...|UC Berkeley|\n",
      "|  1|   Matei Zaharia|               1|   [500, 250, 100]|  1| Ph.D.|                EECS|UC Berkeley|\n",
      "|  3|    matte Silwal|               1|  [500, 2550, 100]|  1| Ph.D.|                EECS|UC Berkeley|\n",
      "|  4|  Devid Shrestha|               1|[5040, 2550, 1040]|  1| Ph.D.|                EECS|UC Berkeley|\n",
      "|  5|    Matei Panday|               1| [500, 2500, 1500]|  1| Ph.D.|                EECS|UC Berkeley|\n",
      "|  6|Michael Armbrust|               1|       [250, 1000]|  1| Ph.D.|                EECS|UC Berkeley|\n",
      "+---+----------------+----------------+------------------+---+------+--------------------+-----------+\n",
      "\n"
     ]
    },
    {
     "name": "stderr",
     "output_type": "stream",
     "text": [
      "\r",
      "                                                                                \r"
     ]
    }
   ],
   "source": [
    "joinExpression = person[\"graduate_program\"] == graduateProgram['id']\n",
    "joinType = \"inner\"\n",
    "person.join(graduateProgram, joinExpression, joinType).show()"
   ]
  },
  {
   "cell_type": "markdown",
   "id": "6ee3d518",
   "metadata": {},
   "source": [
    "# Outer Join"
   ]
  },
  {
   "cell_type": "code",
   "execution_count": 10,
   "id": "b71141dc",
   "metadata": {},
   "outputs": [
    {
     "name": "stderr",
     "output_type": "stream",
     "text": [
      "\r",
      "[Stage 25:=========>       (7 + 5) / 12][Stage 26:>                (0 + 7) / 12]\r",
      "\r",
      "[Stage 26:============================>                            (6 + 6) / 12]\r"
     ]
    },
    {
     "name": "stdout",
     "output_type": "stream",
     "text": [
      "+----+----------------+----------------+------------------+---+---------+--------------------+-------------+\n",
      "|  id|            name|graduate_program|      spark_status| id|   degree|          department|       school|\n",
      "+----+----------------+----------------+------------------+---+---------+--------------------+-------------+\n",
      "|   0|   Bill Chambers|               0|             [100]|  0|      PHD|School of Informa...|  UC Berkeley|\n",
      "|   1|   Matei Zaharia|               1|   [500, 250, 100]|  1|    Ph.D.|                EECS|  UC Berkeley|\n",
      "|   3|    matte Silwal|               1|  [500, 2550, 100]|  1|    Ph.D.|                EECS|  UC Berkeley|\n",
      "|   4|  Devid Shrestha|               1|[5040, 2550, 1040]|  1|    Ph.D.|                EECS|  UC Berkeley|\n",
      "|   5|    Matei Panday|               1| [500, 2500, 1500]|  1|    Ph.D.|                EECS|  UC Berkeley|\n",
      "|   6|Michael Armbrust|               1|       [250, 1000]|  1|    Ph.D.|                EECS|  UC Berkeley|\n",
      "|null|            null|            null|              null|  2|  Masters|                 KEC|  UC Berkeley|\n",
      "|null|            null|            null|              null|  3|Bachelors|                EECS|  UC Berkeley|\n",
      "|null|            null|            null|              null|  4|  Masters|                 EEC|UC Berkeley w|\n",
      "+----+----------------+----------------+------------------+---+---------+--------------------+-------------+\n",
      "\n"
     ]
    },
    {
     "name": "stderr",
     "output_type": "stream",
     "text": [
      "\r",
      "                                                                                \r"
     ]
    }
   ],
   "source": [
    "joinExpression = person[\"graduate_program\"] == graduateProgram['id']\n",
    "joinType = \"outer\"\n",
    "person.join(graduateProgram, joinExpression, joinType).show()"
   ]
  },
  {
   "cell_type": "markdown",
   "id": "0a1ceae8",
   "metadata": {},
   "source": [
    "# Left Outer join"
   ]
  },
  {
   "cell_type": "code",
   "execution_count": 11,
   "id": "97cb4667",
   "metadata": {},
   "outputs": [
    {
     "name": "stderr",
     "output_type": "stream",
     "text": [
      "                                                                                \r"
     ]
    },
    {
     "name": "stdout",
     "output_type": "stream",
     "text": [
      "+---+---------+--------------------+-------------+----+----------------+----------------+------------------+\n",
      "| id|   degree|          department|       school|  id|            name|graduate_program|      spark_status|\n",
      "+---+---------+--------------------+-------------+----+----------------+----------------+------------------+\n",
      "|  0|      PHD|School of Informa...|  UC Berkeley|   0|   Bill Chambers|               0|             [100]|\n",
      "|  2|  Masters|                 KEC|  UC Berkeley|null|            null|            null|              null|\n",
      "|  3|Bachelors|                EECS|  UC Berkeley|null|            null|            null|              null|\n",
      "|  4|  Masters|                 EEC|UC Berkeley w|null|            null|            null|              null|\n",
      "|  1|    Ph.D.|                EECS|  UC Berkeley|   6|Michael Armbrust|               1|       [250, 1000]|\n",
      "|  1|    Ph.D.|                EECS|  UC Berkeley|   5|    Matei Panday|               1| [500, 2500, 1500]|\n",
      "|  1|    Ph.D.|                EECS|  UC Berkeley|   4|  Devid Shrestha|               1|[5040, 2550, 1040]|\n",
      "|  1|    Ph.D.|                EECS|  UC Berkeley|   3|    matte Silwal|               1|  [500, 2550, 100]|\n",
      "|  1|    Ph.D.|                EECS|  UC Berkeley|   1|   Matei Zaharia|               1|   [500, 250, 100]|\n",
      "+---+---------+--------------------+-------------+----+----------------+----------------+------------------+\n",
      "\n"
     ]
    }
   ],
   "source": [
    "joinExpression = person[\"graduate_program\"] == graduateProgram['id']\n",
    "joinType = \"left_outer\"\n",
    "graduateProgram.join(person, joinExpression, joinType).show()"
   ]
  },
  {
   "cell_type": "markdown",
   "id": "3fef1366",
   "metadata": {},
   "source": [
    "# right Outer join"
   ]
  },
  {
   "cell_type": "code",
   "execution_count": 14,
   "id": "6fdad7b3",
   "metadata": {},
   "outputs": [
    {
     "name": "stderr",
     "output_type": "stream",
     "text": [
      "\r",
      "[Stage 42:=================================>                       (7 + 5) / 12]\r",
      "\r",
      "[Stage 43:====>                                                   (1 + 11) / 12]\r"
     ]
    },
    {
     "name": "stdout",
     "output_type": "stream",
     "text": [
      "+---+------+--------------------+-----------+---+----------------+----------------+------------------+\n",
      "| id|degree|          department|     school| id|            name|graduate_program|      spark_status|\n",
      "+---+------+--------------------+-----------+---+----------------+----------------+------------------+\n",
      "|  0|   PHD|School of Informa...|UC Berkeley|  0|   Bill Chambers|               0|             [100]|\n",
      "|  1| Ph.D.|                EECS|UC Berkeley|  1|   Matei Zaharia|               1|   [500, 250, 100]|\n",
      "|  1| Ph.D.|                EECS|UC Berkeley|  3|    matte Silwal|               1|  [500, 2550, 100]|\n",
      "|  1| Ph.D.|                EECS|UC Berkeley|  4|  Devid Shrestha|               1|[5040, 2550, 1040]|\n",
      "|  1| Ph.D.|                EECS|UC Berkeley|  5|    Matei Panday|               1| [500, 2500, 1500]|\n",
      "|  1| Ph.D.|                EECS|UC Berkeley|  6|Michael Armbrust|               1|       [250, 1000]|\n",
      "+---+------+--------------------+-----------+---+----------------+----------------+------------------+\n",
      "\n"
     ]
    },
    {
     "name": "stderr",
     "output_type": "stream",
     "text": [
      "\r",
      "[Stage 43:============================>                            (6 + 6) / 12]\r",
      "\r",
      "                                                                                \r"
     ]
    }
   ],
   "source": [
    "joinExpression = person[\"graduate_program\"] == graduateProgram['id']\n",
    "joinType = \"right_outer\"\n",
    "graduateProgram.join(person, joinExpression, joinType).show()"
   ]
  },
  {
   "cell_type": "markdown",
   "id": "ccb8d2c7",
   "metadata": {},
   "source": [
    "# left semi join"
   ]
  },
  {
   "cell_type": "code",
   "execution_count": 17,
   "id": "15a34554",
   "metadata": {},
   "outputs": [
    {
     "name": "stderr",
     "output_type": "stream",
     "text": [
      "[Stage 54:===================================================>    (11 + 1) / 12]\r"
     ]
    },
    {
     "name": "stdout",
     "output_type": "stream",
     "text": [
      "+---+------+--------------------+-----------+\n",
      "| id|degree|          department|     school|\n",
      "+---+------+--------------------+-----------+\n",
      "|  0|   PHD|School of Informa...|UC Berkeley|\n",
      "|  1| Ph.D.|                EECS|UC Berkeley|\n",
      "+---+------+--------------------+-----------+\n",
      "\n"
     ]
    },
    {
     "name": "stderr",
     "output_type": "stream",
     "text": [
      "\r",
      "                                                                                \r"
     ]
    }
   ],
   "source": [
    "joinExpression = person[\"graduate_program\"] == graduateProgram['id']\n",
    "joinType = \"left_semi\"\n",
    "graduateProgram.join(person, joinExpression, joinType).show()"
   ]
  },
  {
   "cell_type": "markdown",
   "id": "f17adb4a",
   "metadata": {},
   "source": [
    "# left anti join"
   ]
  },
  {
   "cell_type": "code",
   "execution_count": 18,
   "id": "0f186f14",
   "metadata": {},
   "outputs": [
    {
     "name": "stderr",
     "output_type": "stream",
     "text": [
      "\r",
      "[Stage 59:>                                                       (0 + 12) / 12]\r",
      "\r",
      "[Stage 59:==========================================>              (9 + 3) / 12]\r"
     ]
    },
    {
     "name": "stdout",
     "output_type": "stream",
     "text": [
      "+---+------+--------------------+-----------+\n",
      "| id|degree|          department|     school|\n",
      "+---+------+--------------------+-----------+\n",
      "|  0|   PHD|School of Informa...|UC Berkeley|\n",
      "|  1| Ph.D.|                EECS|UC Berkeley|\n",
      "+---+------+--------------------+-----------+\n",
      "\n"
     ]
    },
    {
     "name": "stderr",
     "output_type": "stream",
     "text": [
      "\r",
      "                                                                                \r"
     ]
    }
   ],
   "source": [
    "joinExpression = person[\"graduate_program\"] == graduateProgram['id']\n",
    "joinType = \"left_semi\"\n",
    "graduateProgram.join(person, joinExpression, joinType).show()"
   ]
  },
  {
   "cell_type": "markdown",
   "id": "f82d18d7",
   "metadata": {},
   "source": [
    "# Anti join"
   ]
  },
  {
   "cell_type": "code",
   "execution_count": 20,
   "id": "2ac8099d",
   "metadata": {},
   "outputs": [
    {
     "name": "stderr",
     "output_type": "stream",
     "text": [
      "                                                                                \r"
     ]
    },
    {
     "name": "stdout",
     "output_type": "stream",
     "text": [
      "+---+---------+----------+-------------+\n",
      "| id|   degree|department|       school|\n",
      "+---+---------+----------+-------------+\n",
      "|  2|  Masters|       KEC|  UC Berkeley|\n",
      "|  3|Bachelors|      EECS|  UC Berkeley|\n",
      "|  4|  Masters|       EEC|UC Berkeley w|\n",
      "+---+---------+----------+-------------+\n",
      "\n"
     ]
    }
   ],
   "source": [
    "joinExpression = person[\"graduate_program\"] == graduateProgram['id']\n",
    "joinType = \"anti\"\n",
    "graduateProgram.join(person, joinExpression, joinType).show()"
   ]
  },
  {
   "cell_type": "markdown",
   "id": "70b60c9d",
   "metadata": {},
   "source": [
    "# cross join"
   ]
  },
  {
   "cell_type": "code",
   "execution_count": 21,
   "id": "919723ac",
   "metadata": {},
   "outputs": [
    {
     "name": "stderr",
     "output_type": "stream",
     "text": [
      "[Stage 70:===================================================>    (11 + 1) / 12]\r"
     ]
    },
    {
     "name": "stdout",
     "output_type": "stream",
     "text": [
      "+---+------+--------------------+-----------+---+----------------+----------------+------------------+\n",
      "| id|degree|          department|     school| id|            name|graduate_program|      spark_status|\n",
      "+---+------+--------------------+-----------+---+----------------+----------------+------------------+\n",
      "|  0|   PHD|School of Informa...|UC Berkeley|  0|   Bill Chambers|               0|             [100]|\n",
      "|  1| Ph.D.|                EECS|UC Berkeley|  1|   Matei Zaharia|               1|   [500, 250, 100]|\n",
      "|  1| Ph.D.|                EECS|UC Berkeley|  3|    matte Silwal|               1|  [500, 2550, 100]|\n",
      "|  1| Ph.D.|                EECS|UC Berkeley|  4|  Devid Shrestha|               1|[5040, 2550, 1040]|\n",
      "|  1| Ph.D.|                EECS|UC Berkeley|  5|    Matei Panday|               1| [500, 2500, 1500]|\n",
      "|  1| Ph.D.|                EECS|UC Berkeley|  6|Michael Armbrust|               1|       [250, 1000]|\n",
      "+---+------+--------------------+-----------+---+----------------+----------------+------------------+\n",
      "\n"
     ]
    },
    {
     "name": "stderr",
     "output_type": "stream",
     "text": [
      "\r",
      "                                                                                \r"
     ]
    }
   ],
   "source": [
    "joinExpression = person[\"graduate_program\"] == graduateProgram['id']\n",
    "joinType = \"cross\"\n",
    "graduateProgram.join(person, joinExpression, joinType).show()"
   ]
  },
  {
   "cell_type": "code",
   "execution_count": null,
   "id": "f0fbbb68",
   "metadata": {},
   "outputs": [],
   "source": []
  },
  {
   "cell_type": "code",
   "execution_count": null,
   "id": "4a082a86",
   "metadata": {},
   "outputs": [],
   "source": []
  }
 ],
 "metadata": {
  "kernelspec": {
   "display_name": "Python 3 (ipykernel)",
   "language": "python",
   "name": "python3"
  },
  "language_info": {
   "codemirror_mode": {
    "name": "ipython",
    "version": 3
   },
   "file_extension": ".py",
   "mimetype": "text/x-python",
   "name": "python",
   "nbconvert_exporter": "python",
   "pygments_lexer": "ipython3",
   "version": "3.10.6"
  }
 },
 "nbformat": 4,
 "nbformat_minor": 5
}
