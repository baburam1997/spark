{
 "cells": [
  {
   "cell_type": "code",
   "execution_count": 2,
   "id": "d57eccc3",
   "metadata": {},
   "outputs": [],
   "source": [
    "from pyspark.sql import SparkSession\n",
    "# Create a SparkSession\n",
    "spark = SparkSession.builder.appName(\"RDD-Resilient Distributed Datasets\").getOrCreate()"
   ]
  },
  {
   "cell_type": "markdown",
   "id": "200d1d36",
   "metadata": {},
   "source": [
    "from pyspark import SparkContext\n",
    "sparkcontext = SparkContext(\"local\", \"RDD-Resilient Distributed Datasets\")"
   ]
  },
  {
   "cell_type": "code",
   "execution_count": 6,
   "id": "575df14d",
   "metadata": {},
   "outputs": [
    {
     "data": {
      "text/plain": [
       "[Row(id=0),\n",
       " Row(id=1),\n",
       " Row(id=2),\n",
       " Row(id=3),\n",
       " Row(id=4),\n",
       " Row(id=5),\n",
       " Row(id=6),\n",
       " Row(id=7),\n",
       " Row(id=8),\n",
       " Row(id=9)]"
      ]
     },
     "execution_count": 6,
     "metadata": {},
     "output_type": "execute_result"
    }
   ],
   "source": [
    "range = spark.range(10).rdd\n",
    "range.collect()"
   ]
  },
  {
   "cell_type": "code",
   "execution_count": 7,
   "id": "50db6254",
   "metadata": {},
   "outputs": [
    {
     "name": "stderr",
     "output_type": "stream",
     "text": [
      "\r",
      "[Stage 2:>                                                          (0 + 1) / 1]\r",
      "\r",
      "                                                                                \r"
     ]
    },
    {
     "data": {
      "text/plain": [
       "[0, 1, 2, 3, 4, 5, 6, 7, 8, 9]"
      ]
     },
     "execution_count": 7,
     "metadata": {},
     "output_type": "execute_result"
    }
   ],
   "source": [
    "range1 = spark.range(10).toDF(\"id\").rdd.map(lambda row: row[0])\n",
    "range1.collect()"
   ]
  },
  {
   "cell_type": "code",
   "execution_count": 9,
   "id": "03c0866f",
   "metadata": {},
   "outputs": [
    {
     "name": "stdout",
     "output_type": "stream",
     "text": [
      "+---+\n",
      "| id|\n",
      "+---+\n",
      "|  0|\n",
      "|  1|\n",
      "|  2|\n",
      "|  3|\n",
      "|  4|\n",
      "|  5|\n",
      "|  6|\n",
      "|  7|\n",
      "|  8|\n",
      "|  9|\n",
      "+---+\n",
      "\n"
     ]
    }
   ],
   "source": [
    "spark.range(10).rdd.toDF().show()"
   ]
  },
  {
   "cell_type": "code",
   "execution_count": 11,
   "id": "28694966",
   "metadata": {},
   "outputs": [
    {
     "data": {
      "text/plain": [
       "['Spark',\n",
       " 'The',\n",
       " 'Definitive',\n",
       " 'Guide',\n",
       " 'Big',\n",
       " 'Data',\n",
       " 'Processing',\n",
       " 'Made',\n",
       " 'Simple']"
      ]
     },
     "execution_count": 11,
     "metadata": {},
     "output_type": "execute_result"
    }
   ],
   "source": [
    "myCollection = \"Spark The Definitive Guide Big Data Processing Made Simple\".split(\" \")\n",
    "words = spark.sparkContext.parallelize(myCollection, 3)\n",
    "words.collect()"
   ]
  },
  {
   "cell_type": "code",
   "execution_count": 12,
   "id": "b5cac87a",
   "metadata": {},
   "outputs": [
    {
     "data": {
      "text/plain": [
       "'myWords'"
      ]
     },
     "execution_count": 12,
     "metadata": {},
     "output_type": "execute_result"
    }
   ],
   "source": [
    "words.setName(\"myWords\")\n",
    "words.name() # myWords"
   ]
  },
  {
   "cell_type": "code",
   "execution_count": 13,
   "id": "b7174aae",
   "metadata": {},
   "outputs": [
    {
     "data": {
      "text/plain": [
       "['Spark',\n",
       " 'The',\n",
       " 'Definitive',\n",
       " 'Guide',\n",
       " 'Big',\n",
       " 'Data',\n",
       " 'Processing',\n",
       " 'Made',\n",
       " 'Simple']"
      ]
     },
     "execution_count": 13,
     "metadata": {},
     "output_type": "execute_result"
    }
   ],
   "source": [
    "words.collect()"
   ]
  },
  {
   "cell_type": "code",
   "execution_count": 15,
   "id": "89368ccf",
   "metadata": {},
   "outputs": [
    {
     "data": {
      "text/plain": [
       "['appName: Sets the name of the Spark application.',\n",
       " 'Example: .appName(\"My Spark Application\")',\n",
       " '',\n",
       " 'master: Specifies the cluster manager to connect to. It can be set to \"local\" for running Spark in local mode or a URL for connecting to a remote cluster.',\n",
       " 'Example: .master(\"local\")',\n",
       " '',\n",
       " 'config: Allows you to set various configuration options for Spark. These options can be specified as key-value pairs.',\n",
       " 'Example: .config(\"spark.some.config.option\", \"some-value\")',\n",
       " '',\n",
       " \"enableHiveSupport: Enables Hive support in the Spark session, allowing you to use Hive's SQL dialect and Hive metastore.\",\n",
       " 'Example: .enableHiveSupport()',\n",
       " '',\n",
       " 'spark.executor.memory: Sets the amount of memory to be allocated per executor. It can be specified with a size suffix such as \"g\" for gigabytes or \"m\" for megabytes.',\n",
       " 'Example: .config(\"spark.executor.memory\", \"4g\")',\n",
       " '',\n",
       " 'spark.driver.memory: Sets the amount of memory to be allocated for the Spark driver program.',\n",
       " 'Example: .config(\"spark.driver.memory\", \"2g\")',\n",
       " '',\n",
       " 'spark.sql.shuffle.partitions: Sets the number of partitions to be used when shuffling data in Spark SQL.',\n",
       " 'Example: .config(\"spark.sql.shuffle.partitions\", \"200\")',\n",
       " '',\n",
       " 'spark.sql.catalogImplementation: Sets the catalog implementation for Spark SQL. It can be set to \"hive\" for Hive catalog or \"in-memory\" for an in-memory catalog.',\n",
       " 'Example: .config(\"spark.sql.catalogImplementation\", \"hive\")',\n",
       " '',\n",
       " 'spark.jars: Specifies a comma-separated list of JAR files to be distributed with the Spark application.',\n",
       " 'Example: .config(\"spark.jars\", \"path/to/jar1,path/to/jar2\")',\n",
       " '',\n",
       " '']"
      ]
     },
     "execution_count": 15,
     "metadata": {},
     "output_type": "execute_result"
    }
   ],
   "source": [
    "spark.sparkContext.textFile(\"data/text/sample_text_data.txt\").collect()"
   ]
  },
  {
   "cell_type": "code",
   "execution_count": 17,
   "id": "70f836f7",
   "metadata": {},
   "outputs": [
    {
     "data": {
      "text/plain": [
       "[('file:/home/fm-pc-lt-323/FuseM/pyspark/PySpark Certification/data/text/sample_text_data.txt',\n",
       "  'appName: Sets the name of the Spark application.\\nExample: .appName(\"My Spark Application\")\\n\\nmaster: Specifies the cluster manager to connect to. It can be set to \"local\" for running Spark in local mode or a URL for connecting to a remote cluster.\\nExample: .master(\"local\")\\n\\nconfig: Allows you to set various configuration options for Spark. These options can be specified as key-value pairs.\\nExample: .config(\"spark.some.config.option\", \"some-value\")\\n\\nenableHiveSupport: Enables Hive support in the Spark session, allowing you to use Hive\\'s SQL dialect and Hive metastore.\\nExample: .enableHiveSupport()\\n\\nspark.executor.memory: Sets the amount of memory to be allocated per executor. It can be specified with a size suffix such as \"g\" for gigabytes or \"m\" for megabytes.\\nExample: .config(\"spark.executor.memory\", \"4g\")\\n\\nspark.driver.memory: Sets the amount of memory to be allocated for the Spark driver program.\\nExample: .config(\"spark.driver.memory\", \"2g\")\\n\\nspark.sql.shuffle.partitions: Sets the number of partitions to be used when shuffling data in Spark SQL.\\nExample: .config(\"spark.sql.shuffle.partitions\", \"200\")\\n\\nspark.sql.catalogImplementation: Sets the catalog implementation for Spark SQL. It can be set to \"hive\" for Hive catalog or \"in-memory\" for an in-memory catalog.\\nExample: .config(\"spark.sql.catalogImplementation\", \"hive\")\\n\\nspark.jars: Specifies a comma-separated list of JAR files to be distributed with the Spark application.\\nExample: .config(\"spark.jars\", \"path/to/jar1,path/to/jar2\")\\n\\n\\n')]"
      ]
     },
     "execution_count": 17,
     "metadata": {},
     "output_type": "execute_result"
    }
   ],
   "source": [
    "spark.sparkContext.wholeTextFiles(\"data/text/sample_text_data.txt\").collect()"
   ]
  },
  {
   "cell_type": "code",
   "execution_count": null,
   "id": "14ed3bea",
   "metadata": {},
   "outputs": [],
   "source": []
  }
 ],
 "metadata": {
  "kernelspec": {
   "display_name": "Python 3 (ipykernel)",
   "language": "python",
   "name": "python3"
  },
  "language_info": {
   "codemirror_mode": {
    "name": "ipython",
    "version": 3
   },
   "file_extension": ".py",
   "mimetype": "text/x-python",
   "name": "python",
   "nbconvert_exporter": "python",
   "pygments_lexer": "ipython3",
   "version": "3.10.6"
  }
 },
 "nbformat": 4,
 "nbformat_minor": 5
}
