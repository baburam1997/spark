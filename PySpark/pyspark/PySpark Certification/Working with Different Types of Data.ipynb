{
 "cells": [
  {
   "cell_type": "code",
   "execution_count": 1,
   "id": "59f03da1",
   "metadata": {},
   "outputs": [],
   "source": [
    "from pyspark.sql import SparkSession"
   ]
  },
  {
   "cell_type": "code",
   "execution_count": 2,
   "id": "e2dfa207",
   "metadata": {},
   "outputs": [
    {
     "name": "stderr",
     "output_type": "stream",
     "text": [
      "23/05/30 15:16:12 WARN Utils: Your hostname, FM-PC-LT-323 resolves to a loopback address: 127.0.1.1; using 192.168.18.19 instead (on interface wlp0s20f3)\n",
      "23/05/30 15:16:12 WARN Utils: Set SPARK_LOCAL_IP if you need to bind to another address\n",
      "Setting default log level to \"WARN\".\n",
      "To adjust logging level use sc.setLogLevel(newLevel). For SparkR, use setLogLevel(newLevel).\n",
      "23/05/30 15:16:12 WARN NativeCodeLoader: Unable to load native-hadoop library for your platform... using builtin-java classes where applicable\n",
      "23/05/30 15:16:13 WARN Utils: Service 'SparkUI' could not bind on port 4040. Attempting port 4041.\n"
     ]
    }
   ],
   "source": [
    "# Create a SparkSession\n",
    "spark = SparkSession.builder.appName(\"Working with Different Types of Data\").getOrCreate()"
   ]
  },
  {
   "cell_type": "code",
   "execution_count": 3,
   "id": "029e07f7",
   "metadata": {},
   "outputs": [],
   "source": [
    "from pyspark.sql.types import (\n",
    "    StructType, \n",
    "    StructField, \n",
    "    StringType, \n",
    "    IntegerType, \n",
    "    DateType, \n",
    "    BooleanType, \n",
    "    DoubleType, \n",
    "    FloatType, \n",
    "    TimestampType\n",
    "    )"
   ]
  },
  {
   "cell_type": "code",
   "execution_count": 4,
   "id": "601c0476",
   "metadata": {},
   "outputs": [],
   "source": [
    "# Define the schema\n",
    "schema = StructType([\n",
    "    StructField(\"name\", StringType(), nullable=False),\n",
    "    StructField(\"age\", IntegerType(), nullable=False),\n",
    "    StructField(\"date_of_birth\", StringType(), nullable=False),\n",
    "    StructField(\"address\", StringType(), nullable=False),\n",
    "    StructField(\"country\", StringType(), nullable=False),\n",
    "    StructField(\"region\", StringType(), nullable=False),\n",
    "    StructField(\"phone_number\", StringType(), nullable=False),\n",
    "    StructField(\"height\", DoubleType(), nullable=False),\n",
    "    StructField(\"gender\", StringType(), nullable=False),\n",
    "    StructField(\"marriage_state\", BooleanType(), nullable=False),\n",
    "    StructField(\"created_at\", StringType(), nullable=False),\n",
    "    StructField(\"updated_at\", StringType(), nullable=False)\n",
    "])"
   ]
  },
  {
   "cell_type": "code",
   "execution_count": 5,
   "id": "910356bd",
   "metadata": {},
   "outputs": [],
   "source": [
    "# Create sample data\n",
    "data = [\n",
    "    (\"John Doe\", 30, \"1990-05-15\", \"12345\", \"USA\", \"West\", \"123-456-7890\", 5.9, \"M\", True, \"2023-05-01 10:00:00\", \"2023-05-01 10:00:00\"),\n",
    "    (\"Jane Smith\", 25, \"1995-02-20\", \"54321\", \"Canada\", \"East\", \"987-654-3210\", 5.5, \"F\", False, \"2023-05-02 11:30:00\", \"2023-05-02 11:30:00\"),\n",
    "    (\"Alice Johnson\", 35, \"1987-09-12\", \"56789\", \"USA\", \"South\", \"555-123-4567\", 5.7, \"F\", True, \"2023-05-03 09:15:00\", \"2023-05-03 09:15:00\"),\n",
    "    (\"Robert Williams\", 40, \"1982-03-25\", \"98765\", \"USA\", \"West\", \"777-888-9999\", 6.0, \"M\", True, \"2023-05-04 14:20:00\", \"2023-05-04 14:20:00\"),\n",
    "    (\"Emily Brown\", 28, \"1995-11-30\", \"45678\", \"USA\", \"East\", \"444-555-6666\", 5.4, \"F\", False, \"2023-05-05 16:45:00\", \"2023-05-05 16:45:00\"),\n",
    "    (\"Michael Davis\", 45, \"1978-07-02\", \"23456\", \"USA\", \"North\", \"222-333-4444\", 5.11, \"M\", True, \"2023-05-06 12:10:00\", \"2023-05-06 12:10:00\"),\n",
    "    (\"Sophia Wilson\", 32, \"1991-06-18\", \"87654\", \"Canada\", \"West\", \"999-888-7777\", 5.8, \"F\", False, \"2023-05-07 17:30:00\", \"2023-05-07 17:30:00\"),\n",
    "    (\"William Johnson\", 38, \"1984-12-05\", \"54321\", \"USA\", \"East\", \"111-222-3333\", 5.9, \"M\", True, \"2023-05-08 10:45:00\", \"2023-05-08 10:45:00\"),\n",
    "    (\"Olivia Anderson\", 29, \"1992-08-22\", \"12345\", \"Canada\", \"West\", \"888-777-6666\", 5.6, \"F\", False, \"2023-05-09 15:00:00\", \"2023-05-09 15:00:00\"),\n",
    "    (\"James Brown\", 42, \"1979-04-10\", \"98765\", \"USA\", \"South\", \"222-333-4444\", 6.2, \"M\", True, \"2023-05-10 11:20:00\", \"2023-05-10 11:20:00\"),\n",
    "    (\"Ava Taylor\", 31, \"1990-03-08\", \"56789\", \"USA\", \"West\", \"333-444-5555\", 5.5, \"F\", False, \"2023-05-11 09:40:00\", \"2023-05-11 09:40:00\"),\n",
    "    (\"Ethan Martinez\", 37, \"1984-11-15\", \"23456\", \"Canada\", \"East\", \"777-888-9999\", 5.10, \"M\", True, \"2023-05-12 14:15:00\", \"2023-05-12 14:15:00\"),\n",
    "    (\"Isabella Davis\", 27, \"1996-01-25\", \"87654\", \"USA\", \"North\", \"555-444-3333\", 5.3, \"F\", False, \"2023-05-13 16:30:00\", \"2023-05-13 16:30:00\"),\n",
    "    (\"Liam Miller\", 44, \"1979-09-14\", \"45678\", \"USA\", \"West\", \"999-888-7777\", 6.1, \"M\", True, \"2023-05-14 12:50:00\", \"2023-05-14 12:50:00\"),\n",
    "    (\"John Ddoe\", 30, \"1990-05-15\", \"12345\", \"USA\", \"West\", \"123-456-7890\", 5.9, \"M\", True, \"2023-05-01 10:00:00\", \"2023-05-01 10:00:00\"),\n",
    "    (\"Jane Smsith\", 25, \"1995-02-20\", \"54321\", \"Canada\", \"East\", \"987-654-3210\", 5.5, \"F\", False, \"2023-05-02 11:30:00\", \"2023-05-02 11:30:00\"),\n",
    "]"
   ]
  },
  {
   "cell_type": "code",
   "execution_count": 6,
   "id": "d17e0016",
   "metadata": {},
   "outputs": [],
   "source": [
    "# Create DataFrame\n",
    "random_data_dataframe = spark.createDataFrame(data, schema)"
   ]
  },
  {
   "cell_type": "code",
   "execution_count": 7,
   "id": "f191f64d",
   "metadata": {},
   "outputs": [
    {
     "name": "stderr",
     "output_type": "stream",
     "text": [
      "\r",
      "[Stage 0:>                                                          (0 + 1) / 1]\r",
      "\r",
      "                                                                                \r"
     ]
    },
    {
     "name": "stdout",
     "output_type": "stream",
     "text": [
      "+---------------+---+-------------+-------+-------+------+------------+------+------+--------------+-------------------+-------------------+\n",
      "|           name|age|date_of_birth|address|country|region|phone_number|height|gender|marriage_state|         created_at|         updated_at|\n",
      "+---------------+---+-------------+-------+-------+------+------------+------+------+--------------+-------------------+-------------------+\n",
      "|       John Doe| 30|   1990-05-15|  12345|    USA|  West|123-456-7890|   5.9|     M|          true|2023-05-01 10:00:00|2023-05-01 10:00:00|\n",
      "|     Jane Smith| 25|   1995-02-20|  54321| Canada|  East|987-654-3210|   5.5|     F|         false|2023-05-02 11:30:00|2023-05-02 11:30:00|\n",
      "|  Alice Johnson| 35|   1987-09-12|  56789|    USA| South|555-123-4567|   5.7|     F|          true|2023-05-03 09:15:00|2023-05-03 09:15:00|\n",
      "|Robert Williams| 40|   1982-03-25|  98765|    USA|  West|777-888-9999|   6.0|     M|          true|2023-05-04 14:20:00|2023-05-04 14:20:00|\n",
      "|    Emily Brown| 28|   1995-11-30|  45678|    USA|  East|444-555-6666|   5.4|     F|         false|2023-05-05 16:45:00|2023-05-05 16:45:00|\n",
      "|  Michael Davis| 45|   1978-07-02|  23456|    USA| North|222-333-4444|  5.11|     M|          true|2023-05-06 12:10:00|2023-05-06 12:10:00|\n",
      "|  Sophia Wilson| 32|   1991-06-18|  87654| Canada|  West|999-888-7777|   5.8|     F|         false|2023-05-07 17:30:00|2023-05-07 17:30:00|\n",
      "|William Johnson| 38|   1984-12-05|  54321|    USA|  East|111-222-3333|   5.9|     M|          true|2023-05-08 10:45:00|2023-05-08 10:45:00|\n",
      "|Olivia Anderson| 29|   1992-08-22|  12345| Canada|  West|888-777-6666|   5.6|     F|         false|2023-05-09 15:00:00|2023-05-09 15:00:00|\n",
      "|    James Brown| 42|   1979-04-10|  98765|    USA| South|222-333-4444|   6.2|     M|          true|2023-05-10 11:20:00|2023-05-10 11:20:00|\n",
      "|     Ava Taylor| 31|   1990-03-08|  56789|    USA|  West|333-444-5555|   5.5|     F|         false|2023-05-11 09:40:00|2023-05-11 09:40:00|\n",
      "| Ethan Martinez| 37|   1984-11-15|  23456| Canada|  East|777-888-9999|   5.1|     M|          true|2023-05-12 14:15:00|2023-05-12 14:15:00|\n",
      "| Isabella Davis| 27|   1996-01-25|  87654|    USA| North|555-444-3333|   5.3|     F|         false|2023-05-13 16:30:00|2023-05-13 16:30:00|\n",
      "|    Liam Miller| 44|   1979-09-14|  45678|    USA|  West|999-888-7777|   6.1|     M|          true|2023-05-14 12:50:00|2023-05-14 12:50:00|\n",
      "|      John Ddoe| 30|   1990-05-15|  12345|    USA|  West|123-456-7890|   5.9|     M|          true|2023-05-01 10:00:00|2023-05-01 10:00:00|\n",
      "|    Jane Smsith| 25|   1995-02-20|  54321| Canada|  East|987-654-3210|   5.5|     F|         false|2023-05-02 11:30:00|2023-05-02 11:30:00|\n",
      "+---------------+---+-------------+-------+-------+------+------------+------+------+--------------+-------------------+-------------------+\n",
      "\n"
     ]
    }
   ],
   "source": [
    "random_data_dataframe.show()"
   ]
  },
  {
   "cell_type": "code",
   "execution_count": 8,
   "id": "eef388f9",
   "metadata": {},
   "outputs": [
    {
     "name": "stdout",
     "output_type": "stream",
     "text": [
      "root\n",
      " |-- name: string (nullable = false)\n",
      " |-- age: integer (nullable = false)\n",
      " |-- date_of_birth: string (nullable = false)\n",
      " |-- address: string (nullable = false)\n",
      " |-- country: string (nullable = false)\n",
      " |-- region: string (nullable = false)\n",
      " |-- phone_number: string (nullable = false)\n",
      " |-- height: double (nullable = false)\n",
      " |-- gender: string (nullable = false)\n",
      " |-- marriage_state: boolean (nullable = false)\n",
      " |-- created_at: string (nullable = false)\n",
      " |-- updated_at: string (nullable = false)\n",
      "\n"
     ]
    }
   ],
   "source": [
    "random_data_dataframe.printSchema()"
   ]
  },
  {
   "cell_type": "code",
   "execution_count": 20,
   "id": "191e942a",
   "metadata": {},
   "outputs": [],
   "source": [
    "from pyspark.sql.functions import *\n",
    "# random_data_dataframe.select(col(\"date_of_birth\")).to_date(col(\"date_of_birth\"),\"yyyy-mm-dd\")\n",
    "\n",
    "random_data_dataframe = random_data_dataframe\\\n",
    "    .withColumn('date_of_birth',to_date('date_of_birth').cast('date'))\\\n",
    "    .withColumn('created_at',to_timestamp('created_at').cast('timestamp'))\\\n",
    "    .withColumn('updated_at',to_timestamp('updated_at').cast('timestamp'))"
   ]
  },
  {
   "cell_type": "code",
   "execution_count": 21,
   "id": "aafdb6f5",
   "metadata": {},
   "outputs": [
    {
     "name": "stdout",
     "output_type": "stream",
     "text": [
      "+---------------+---+-------------+-------+-------+------+------------+------+------+--------------+-------------------+-------------------+\n",
      "|           name|age|date_of_birth|address|country|region|phone_number|height|gender|marriage_state|         created_at|         updated_at|\n",
      "+---------------+---+-------------+-------+-------+------+------------+------+------+--------------+-------------------+-------------------+\n",
      "|       John Doe| 30|   1990-05-15|   null|    USA|  West|123-456-7890|   5.9|     M|          true|2023-05-01 10:00:00|2023-05-01 10:00:00|\n",
      "|     Jane Smith| 25|   1995-02-20|   null| Canada|  East|987-654-3210|   5.5|     F|         false|2023-05-02 11:30:00|2023-05-02 11:30:00|\n",
      "|  Alice Johnson| 35|   1987-09-12|   null|    USA| South|555-123-4567|   5.7|     F|          true|2023-05-03 09:15:00|2023-05-03 09:15:00|\n",
      "|Robert Williams| 40|   1982-03-25|   null|    USA|  West|777-888-9999|   6.0|     M|          true|2023-05-04 14:20:00|2023-05-04 14:20:00|\n",
      "|    Emily Brown| 28|   1995-11-30|   null|    USA|  East|444-555-6666|   5.4|     F|         false|2023-05-05 16:45:00|2023-05-05 16:45:00|\n",
      "|  Michael Davis| 45|   1978-07-02|   null|    USA| North|222-333-4444|  5.11|     M|          true|2023-05-06 12:10:00|2023-05-06 12:10:00|\n",
      "|  Sophia Wilson| 32|   1991-06-18|   null| Canada|  West|999-888-7777|   5.8|     F|         false|2023-05-07 17:30:00|2023-05-07 17:30:00|\n",
      "|William Johnson| 38|   1984-12-05|   null|    USA|  East|111-222-3333|   5.9|     M|          true|2023-05-08 10:45:00|2023-05-08 10:45:00|\n",
      "|Olivia Anderson| 29|   1992-08-22|   null| Canada|  West|888-777-6666|   5.6|     F|         false|2023-05-09 15:00:00|2023-05-09 15:00:00|\n",
      "|    James Brown| 42|   1979-04-10|   null|    USA| South|222-333-4444|   6.2|     M|          true|2023-05-10 11:20:00|2023-05-10 11:20:00|\n",
      "|     Ava Taylor| 31|   1990-03-08|   null|    USA|  West|333-444-5555|   5.5|     F|         false|2023-05-11 09:40:00|2023-05-11 09:40:00|\n",
      "| Ethan Martinez| 37|   1984-11-15|   null| Canada|  East|777-888-9999|   5.1|     M|          true|2023-05-12 14:15:00|2023-05-12 14:15:00|\n",
      "| Isabella Davis| 27|   1996-01-25|   null|    USA| North|555-444-3333|   5.3|     F|         false|2023-05-13 16:30:00|2023-05-13 16:30:00|\n",
      "|    Liam Miller| 44|   1979-09-14|   null|    USA|  West|999-888-7777|   6.1|     M|          true|2023-05-14 12:50:00|2023-05-14 12:50:00|\n",
      "|      John Ddoe| 30|   1990-05-15|   null|    USA|  West|123-456-7890|   5.9|     M|          true|2023-05-01 10:00:00|2023-05-01 10:00:00|\n",
      "|    Jane Smsith| 25|   1995-02-20|   null| Canada|  East|987-654-3210|   5.5|     F|         false|2023-05-02 11:30:00|2023-05-02 11:30:00|\n",
      "+---------------+---+-------------+-------+-------+------+------------+------+------+--------------+-------------------+-------------------+\n",
      "\n"
     ]
    }
   ],
   "source": [
    "random_data_dataframe.show()"
   ]
  },
  {
   "cell_type": "code",
   "execution_count": 17,
   "id": "b2de8789",
   "metadata": {},
   "outputs": [
    {
     "name": "stdout",
     "output_type": "stream",
     "text": [
      "root\n",
      " |-- name: string (nullable = false)\n",
      " |-- age: integer (nullable = false)\n",
      " |-- date_of_birth: date (nullable = true)\n",
      " |-- address: integer (nullable = true)\n",
      " |-- country: string (nullable = false)\n",
      " |-- region: string (nullable = false)\n",
      " |-- phone_number: string (nullable = false)\n",
      " |-- height: double (nullable = false)\n",
      " |-- gender: string (nullable = false)\n",
      " |-- marriage_state: boolean (nullable = false)\n",
      " |-- created_at: timestamp (nullable = true)\n",
      " |-- updated_at: timestamp (nullable = true)\n",
      "\n"
     ]
    }
   ],
   "source": [
    "random_data_dataframe.printSchema()"
   ]
  },
  {
   "cell_type": "code",
   "execution_count": 18,
   "id": "4d547a75",
   "metadata": {},
   "outputs": [],
   "source": [
    "random_data_dataframe.createOrReplaceTempView(\"random_data_table\")"
   ]
  },
  {
   "cell_type": "code",
   "execution_count": 23,
   "id": "540d192d",
   "metadata": {},
   "outputs": [
    {
     "name": "stdout",
     "output_type": "stream",
     "text": [
      "+---------------+---+-------------+------+--------------+------+-------+-------------------+\n",
      "|           name|age|date_of_birth|gender|marriage_state|height|country|         created_at|\n",
      "+---------------+---+-------------+------+--------------+------+-------+-------------------+\n",
      "|       John Doe| 30|   1990-05-15|     M|          true|   5.9|    USA|2023-05-01 10:00:00|\n",
      "|     Jane Smith| 25|   1995-02-20|     F|         false|   5.5| Canada|2023-05-02 11:30:00|\n",
      "|  Alice Johnson| 35|   1987-09-12|     F|          true|   5.7|    USA|2023-05-03 09:15:00|\n",
      "|Robert Williams| 40|   1982-03-25|     M|          true|   6.0|    USA|2023-05-04 14:20:00|\n",
      "|    Emily Brown| 28|   1995-11-30|     F|         false|   5.4|    USA|2023-05-05 16:45:00|\n",
      "|  Michael Davis| 45|   1978-07-02|     M|          true|  5.11|    USA|2023-05-06 12:10:00|\n",
      "|  Sophia Wilson| 32|   1991-06-18|     F|         false|   5.8| Canada|2023-05-07 17:30:00|\n",
      "|William Johnson| 38|   1984-12-05|     M|          true|   5.9|    USA|2023-05-08 10:45:00|\n",
      "|Olivia Anderson| 29|   1992-08-22|     F|         false|   5.6| Canada|2023-05-09 15:00:00|\n",
      "|    James Brown| 42|   1979-04-10|     M|          true|   6.2|    USA|2023-05-10 11:20:00|\n",
      "|     Ava Taylor| 31|   1990-03-08|     F|         false|   5.5|    USA|2023-05-11 09:40:00|\n",
      "| Ethan Martinez| 37|   1984-11-15|     M|          true|   5.1| Canada|2023-05-12 14:15:00|\n",
      "| Isabella Davis| 27|   1996-01-25|     F|         false|   5.3|    USA|2023-05-13 16:30:00|\n",
      "|    Liam Miller| 44|   1979-09-14|     M|          true|   6.1|    USA|2023-05-14 12:50:00|\n",
      "|      John Ddoe| 30|   1990-05-15|     M|          true|   5.9|    USA|2023-05-01 10:00:00|\n",
      "|    Jane Smsith| 25|   1995-02-20|     F|         false|   5.5| Canada|2023-05-02 11:30:00|\n",
      "+---------------+---+-------------+------+--------------+------+-------+-------------------+\n",
      "\n"
     ]
    }
   ],
   "source": [
    "query = \"\"\"\n",
    "    select \n",
    "        name,\n",
    "        age,\n",
    "        date_of_birth,\n",
    "        gender,\n",
    "        marriage_state,\n",
    "        round(height,2) as height,\n",
    "        country,\n",
    "        created_at \n",
    "    from random_data_table\n",
    "    \"\"\"\n",
    "spark.sql(query).show()"
   ]
  },
  {
   "cell_type": "code",
   "execution_count": 26,
   "id": "f4632186",
   "metadata": {},
   "outputs": [
    {
     "name": "stdout",
     "output_type": "stream",
     "text": [
      "+---------------+---+-------------+------+--------------+------+-------+-------------------+\n",
      "|           name|age|date_of_birth|gender|marriage_state|height|country|         created_at|\n",
      "+---------------+---+-------------+------+--------------+------+-------+-------------------+\n",
      "|       John Doe| 30|   1990-05-15|     M|          true|   5.9|    USA|2023-05-01 10:00:00|\n",
      "|     Jane Smith| 25|   1995-02-20|     F|         false|   5.5| Canada|2023-05-02 11:30:00|\n",
      "|  Alice Johnson| 35|   1987-09-12|     F|          true|   5.7|    USA|2023-05-03 09:15:00|\n",
      "|Robert Williams| 40|   1982-03-25|     M|          true|   6.0|    USA|2023-05-04 14:20:00|\n",
      "|    Emily Brown| 28|   1995-11-30|     F|         false|   5.4|    USA|2023-05-05 16:45:00|\n",
      "|  Michael Davis| 45|   1978-07-02|     M|          true|  5.11|    USA|2023-05-06 12:10:00|\n",
      "|  Sophia Wilson| 32|   1991-06-18|     F|         false|   5.8| Canada|2023-05-07 17:30:00|\n",
      "|William Johnson| 38|   1984-12-05|     M|          true|   5.9|    USA|2023-05-08 10:45:00|\n",
      "|Olivia Anderson| 29|   1992-08-22|     F|         false|   5.6| Canada|2023-05-09 15:00:00|\n",
      "|    James Brown| 42|   1979-04-10|     M|          true|   6.2|    USA|2023-05-10 11:20:00|\n",
      "|     Ava Taylor| 31|   1990-03-08|     F|         false|   5.5|    USA|2023-05-11 09:40:00|\n",
      "| Ethan Martinez| 37|   1984-11-15|     M|          true|   5.1| Canada|2023-05-12 14:15:00|\n",
      "| Isabella Davis| 27|   1996-01-25|     F|         false|   5.3|    USA|2023-05-13 16:30:00|\n",
      "|    Liam Miller| 44|   1979-09-14|     M|          true|   6.1|    USA|2023-05-14 12:50:00|\n",
      "|      John Ddoe| 30|   1990-05-15|     M|          true|   5.9|    USA|2023-05-01 10:00:00|\n",
      "|    Jane Smsith| 25|   1995-02-20|     F|         false|   5.5| Canada|2023-05-02 11:30:00|\n",
      "+---------------+---+-------------+------+--------------+------+-------+-------------------+\n",
      "\n"
     ]
    }
   ],
   "source": [
    "random_data_dataframe = spark.sql(query)\n",
    "random_data_dataframe.show()"
   ]
  },
  {
   "cell_type": "code",
   "execution_count": 27,
   "id": "116b9893",
   "metadata": {},
   "outputs": [
    {
     "name": "stdout",
     "output_type": "stream",
     "text": [
      "root\n",
      " |-- name: string (nullable = false)\n",
      " |-- age: integer (nullable = false)\n",
      " |-- date_of_birth: date (nullable = true)\n",
      " |-- gender: string (nullable = false)\n",
      " |-- marriage_state: boolean (nullable = false)\n",
      " |-- height: double (nullable = true)\n",
      " |-- country: string (nullable = false)\n",
      " |-- created_at: timestamp (nullable = true)\n",
      "\n"
     ]
    }
   ],
   "source": [
    "random_data_dataframe.printSchema()"
   ]
  },
  {
   "cell_type": "code",
   "execution_count": 28,
   "id": "67b8ecc0",
   "metadata": {},
   "outputs": [],
   "source": [
    "random_data_dataframe.createOrReplaceTempView(\"random_data_table\")"
   ]
  },
  {
   "cell_type": "code",
   "execution_count": 29,
   "id": "c0e4e0a2",
   "metadata": {},
   "outputs": [
    {
     "name": "stderr",
     "output_type": "stream",
     "text": [
      "23/05/30 15:23:38 WARN MemoryManager: Total allocation exceeds 95.00% (1,020,054,720 bytes) of heap memory\n",
      "Scaling row group sizes to 95.00% for 8 writers\n",
      "23/05/30 15:23:38 WARN MemoryManager: Total allocation exceeds 95.00% (1,020,054,720 bytes) of heap memory\n",
      "Scaling row group sizes to 84.44% for 9 writers\n",
      "23/05/30 15:23:38 WARN MemoryManager: Total allocation exceeds 95.00% (1,020,054,720 bytes) of heap memory\n",
      "Scaling row group sizes to 76.00% for 10 writers\n",
      "23/05/30 15:23:38 WARN MemoryManager: Total allocation exceeds 95.00% (1,020,054,720 bytes) of heap memory\n",
      "Scaling row group sizes to 69.09% for 11 writers\n",
      "23/05/30 15:23:38 WARN MemoryManager: Total allocation exceeds 95.00% (1,020,054,720 bytes) of heap memory\n",
      "Scaling row group sizes to 63.33% for 12 writers\n",
      "23/05/30 15:23:39 WARN MemoryManager: Total allocation exceeds 95.00% (1,020,054,720 bytes) of heap memory\n",
      "Scaling row group sizes to 69.09% for 11 writers\n",
      "23/05/30 15:23:39 WARN MemoryManager: Total allocation exceeds 95.00% (1,020,054,720 bytes) of heap memory\n",
      "Scaling row group sizes to 76.00% for 10 writers\n",
      "23/05/30 15:23:39 WARN MemoryManager: Total allocation exceeds 95.00% (1,020,054,720 bytes) of heap memory\n",
      "Scaling row group sizes to 84.44% for 9 writers\n",
      "23/05/30 15:23:39 WARN MemoryManager: Total allocation exceeds 95.00% (1,020,054,720 bytes) of heap memory\n",
      "Scaling row group sizes to 95.00% for 8 writers\n",
      "                                                                                \r"
     ]
    }
   ],
   "source": [
    "random_data_dataframe.write.mode('overwrite').csv(\"data/random_data_csv.csv\")\n",
    "random_data_dataframe.write.mode('overwrite').json(\"data/random_data_json.json\")\n",
    "random_data_dataframe.write.mode('overwrite').parquet(\"data/random_data_parquet.parquet\")"
   ]
  },
  {
   "cell_type": "code",
   "execution_count": 30,
   "id": "b5090cb6",
   "metadata": {},
   "outputs": [],
   "source": [
    "random_data_dataframe.write.mode('append').csv(\"data/random_data_csv.csv\")\n",
    "random_data_dataframe.write.mode('append').json(\"data/random_data_json.json\")\n",
    "random_data_dataframe.write.mode('append').parquet(\"data/random_data_parquet.parquet\")"
   ]
  },
  {
   "cell_type": "code",
   "execution_count": null,
   "id": "0b2cbdcf",
   "metadata": {},
   "outputs": [],
   "source": []
  }
 ],
 "metadata": {
  "kernelspec": {
   "display_name": "Python 3 (ipykernel)",
   "language": "python",
   "name": "python3"
  },
  "language_info": {
   "codemirror_mode": {
    "name": "ipython",
    "version": 3
   },
   "file_extension": ".py",
   "mimetype": "text/x-python",
   "name": "python",
   "nbconvert_exporter": "python",
   "pygments_lexer": "ipython3",
   "version": "3.10.6"
  }
 },
 "nbformat": 4,
 "nbformat_minor": 5
}
