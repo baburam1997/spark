{
 "cells": [
  {
   "cell_type": "markdown",
   "metadata": {},
   "source": [
    "# We can expect one or more questions on each function from the below list"
   ]
  },
  {
   "cell_type": "code",
   "execution_count": 1,
   "metadata": {},
   "outputs": [],
   "source": [
    "import pyspark\n",
    "from pyspark.sql import SparkSession\n",
    "import pyspark.sql.functions as F\n",
    "import pyspark.sql.types as T"
   ]
  },
  {
   "cell_type": "code",
   "execution_count": 2,
   "metadata": {},
   "outputs": [
    {
     "name": "stderr",
     "output_type": "stream",
     "text": [
      "23/10/31 09:40:35 WARN Utils: Your hostname, FM-PC-LT-323 resolves to a loopback address: 127.0.1.1; using 172.16.5.219 instead (on interface wlp0s20f3)\n",
      "23/10/31 09:40:35 WARN Utils: Set SPARK_LOCAL_IP if you need to bind to another address\n",
      "Setting default log level to \"WARN\".\n",
      "To adjust logging level use sc.setLogLevel(newLevel). For SparkR, use setLogLevel(newLevel).\n",
      "23/10/31 09:40:36 WARN NativeCodeLoader: Unable to load native-hadoop library for your platform... using builtin-java classes where applicable\n"
     ]
    }
   ],
   "source": [
    "spark = SparkSession.builder\\\n",
    "      .master(\"local\")\\\n",
    "      .appName(\"expected_question_pyspark\")\\\n",
    "      .getOrCreate()"
   ]
  },
  {
   "cell_type": "markdown",
   "metadata": {},
   "source": [
    "# Reading csv file and printing the schema of each dataframe"
   ]
  },
  {
   "cell_type": "code",
   "execution_count": 3,
   "metadata": {},
   "outputs": [
    {
     "name": "stdout",
     "output_type": "stream",
     "text": [
      "root\n",
      " |-- d_id: integer (nullable = true)\n",
      " |-- dept_name: string (nullable = true)\n",
      "\n",
      "root\n",
      " |-- eid: integer (nullable = true)\n",
      " |-- name: string (nullable = true)\n",
      " |-- post: string (nullable = true)\n",
      " |-- salary: integer (nullable = true)\n",
      " |-- did: integer (nullable = true)\n",
      "\n",
      "root\n",
      " |-- Id: integer (nullable = true)\n",
      " |-- Correlationid: string (nullable = true)\n",
      " |-- Operationname: string (nullable = true)\n",
      " |-- Status: string (nullable = true)\n",
      " |-- Eventcategory: string (nullable = true)\n",
      " |-- Level: string (nullable = true)\n",
      " |-- Time: string (nullable = true)\n",
      " |-- Subscription: string (nullable = true)\n",
      " |-- Eventinitiatedby: string (nullable = true)\n",
      " |-- Resourcetype: string (nullable = true)\n",
      " |-- Resourcegroup: string (nullable = true)\n",
      "\n"
     ]
    }
   ],
   "source": [
    "csv_file_path= 'data/department.csv'\n",
    "department_df = spark.read.csv(\n",
    "    csv_file_path,\n",
    "    header=True,             \n",
    "    inferSchema=True,\n",
    "    sep=\",\",\n",
    "    encoding=\"UTF-8\",\n",
    "    nullValue=\"NA\",\n",
    "    dateFormat=\"yyyy-MM-dd\",\n",
    "    timestampFormat=\"yyyy-MM-dd HH:mm:ss\",\n",
    "    mode=\"PERMISSIVE\"\n",
    ")\n",
    "department_df.printSchema()\n",
    "csv_file_path= 'data/employee.csv'\n",
    "employee_df = spark.read.csv(\n",
    "    csv_file_path,\n",
    "    header=True,             \n",
    "    inferSchema=True,\n",
    "    sep=\",\",\n",
    "    encoding=\"UTF-8\",\n",
    "    nullValue=\"NA\",\n",
    "    dateFormat=\"yyyy-MM-dd\",\n",
    "    timestampFormat=\"yyyy-MM-dd HH:mm:ss\",\n",
    "    mode=\"PERMISSIVE\"\n",
    ")\n",
    "employee_df.printSchema()\n",
    "csv_file_path= 'data/Log.csv'\n",
    "log_df = spark.read.csv(\n",
    "    csv_file_path,\n",
    "    header=True,             \n",
    "    inferSchema=True,\n",
    "    sep=\",\",\n",
    "    encoding=\"UTF-8\",\n",
    "    nullValue=\"NA\",\n",
    "    dateFormat=\"yyyy-MM-dd\",\n",
    "    timestampFormat=\"yyyy-MM-dd HH:mm:ss\",\n",
    "    mode=\"PERMISSIVE\"\n",
    ")\n",
    "log_df.printSchema()"
   ]
  },
  {
   "cell_type": "markdown",
   "metadata": {},
   "source": [
    "# Actions"
   ]
  },
  {
   "cell_type": "markdown",
   "metadata": {},
   "source": [
    "### In PySpark, \"Actions\" are operations that trigger the actual execution of transformations and return results to the driver program or display them in the console. "
   ]
  },
  {
   "cell_type": "markdown",
   "metadata": {},
   "source": [
    "The collect action retrieves all the elements from a distributed collection (like a DataFrame or an RDD) and returns them as an array to the driver program. This action should be used with caution because it brings all the data to the driver, and if the dataset is large, it can lead to memory issues."
   ]
  },
  {
   "cell_type": "code",
   "execution_count": 107,
   "metadata": {},
   "outputs": [
    {
     "data": {
      "text/plain": [
       "[Row(d_id=101, dept_name='Engineering'),\n",
       " Row(d_id=102, dept_name='IT'),\n",
       " Row(d_id=103, dept_name='Design'),\n",
       " Row(d_id=104, dept_name='Support'),\n",
       " Row(d_id=105, dept_name='Network'),\n",
       " Row(d_id=106, dept_name='Software')]"
      ]
     },
     "execution_count": 107,
     "metadata": {},
     "output_type": "execute_result"
    }
   ],
   "source": [
    "department_df.collect()"
   ]
  },
  {
   "cell_type": "markdown",
   "metadata": {},
   "source": [
    "The show action displays the first n rows of a DataFrame in a tabular format. The truncate parameter determines whether to truncate long strings in the output for better readability."
   ]
  },
  {
   "cell_type": "code",
   "execution_count": 108,
   "metadata": {},
   "outputs": [
    {
     "name": "stdout",
     "output_type": "stream",
     "text": [
      "+----+-----------+\n",
      "|d_id|  dept_name|\n",
      "+----+-----------+\n",
      "| 101|Engineering|\n",
      "| 102|         IT|\n",
      "| 103|     Design|\n",
      "| 104|    Support|\n",
      "| 105|    Network|\n",
      "| 106|   Software|\n",
      "+----+-----------+\n",
      "\n"
     ]
    }
   ],
   "source": [
    "department_df.show()"
   ]
  },
  {
   "cell_type": "markdown",
   "metadata": {},
   "source": [
    "The first action returns the first element (or the top element) of a DataFrame or RDD. It's useful when you want to quickly inspect the first row of your data."
   ]
  },
  {
   "cell_type": "code",
   "execution_count": 109,
   "metadata": {},
   "outputs": [
    {
     "data": {
      "text/plain": [
       "Row(d_id=101, dept_name='Engineering')"
      ]
     },
     "execution_count": 109,
     "metadata": {},
     "output_type": "execute_result"
    }
   ],
   "source": [
    "department_df.first()"
   ]
  },
  {
   "cell_type": "markdown",
   "metadata": {},
   "source": [
    "The count action counts the number of elements in a DataFrame or RDD and returns an integer representing the count."
   ]
  },
  {
   "cell_type": "code",
   "execution_count": 110,
   "metadata": {},
   "outputs": [
    {
     "data": {
      "text/plain": [
       "6"
      ]
     },
     "execution_count": 110,
     "metadata": {},
     "output_type": "execute_result"
    }
   ],
   "source": [
    "department_df.count()"
   ]
  },
  {
   "cell_type": "markdown",
   "metadata": {},
   "source": [
    "The tail action effectively allows you to get the last 'n' rows of a DataFrame."
   ]
  },
  {
   "cell_type": "code",
   "execution_count": 111,
   "metadata": {},
   "outputs": [
    {
     "data": {
      "text/plain": [
       "[Row(d_id=104, dept_name='Support'),\n",
       " Row(d_id=105, dept_name='Network'),\n",
       " Row(d_id=106, dept_name='Software')]"
      ]
     },
     "execution_count": 111,
     "metadata": {},
     "output_type": "execute_result"
    }
   ],
   "source": [
    "department_df.tail(3)"
   ]
  },
  {
   "cell_type": "markdown",
   "metadata": {},
   "source": [
    " The take action returns the first n elements of a DataFrame or RDD as an array. It's similar to head, but it returns an array instead of displaying the data."
   ]
  },
  {
   "cell_type": "code",
   "execution_count": 112,
   "metadata": {},
   "outputs": [
    {
     "data": {
      "text/plain": [
       "[Row(d_id=101, dept_name='Engineering'),\n",
       " Row(d_id=102, dept_name='IT'),\n",
       " Row(d_id=103, dept_name='Design')]"
      ]
     },
     "execution_count": 112,
     "metadata": {},
     "output_type": "execute_result"
    }
   ],
   "source": [
    "department_df.take(3)"
   ]
  },
  {
   "cell_type": "markdown",
   "metadata": {},
   "source": [
    "The head action returns the first n elements of a DataFrame or RDD as an array. This is similar to first, but it allows you to specify how many elements you want to retrieve."
   ]
  },
  {
   "cell_type": "markdown",
   "metadata": {},
   "source": [
    "department_df.head(3)\n",
    "The toLocalIterator action returns an iterator over the elements in a DataFrame or RDD. It's useful when you want to process the elements locally on the driver program. Be cautious with this action if the dataset is large because it will bring the data to the driver."
   ]
  },
  {
   "cell_type": "code",
   "execution_count": 113,
   "metadata": {},
   "outputs": [
    {
     "name": "stdout",
     "output_type": "stream",
     "text": [
      "Department ID: 101, Department Name: Engineering\n",
      "Department ID: 102, Department Name: IT\n",
      "Department ID: 103, Department Name: Design\n",
      "Department ID: 104, Department Name: Support\n",
      "Department ID: 105, Department Name: Network\n",
      "Department ID: 106, Department Name: Software\n"
     ]
    }
   ],
   "source": [
    "iterator = department_df.toLocalIterator()\n",
    "for row in iterator:\n",
    "    department_id = row.d_id\n",
    "    department_nmae = row.dept_name\n",
    "    print(f\"Department ID: {department_id}, Department Name: {department_nmae}\")\n"
   ]
  },
  {
   "cell_type": "markdown",
   "metadata": {},
   "source": [
    "# Typed Transformations "
   ]
  },
  {
   "cell_type": "markdown",
   "metadata": {},
   "source": [
    "### Typed Transformations: coalesce, distinct, dropDuplicates, filter, limit, orderBy, repartition, sample, select, sort, union, unionAll, where, repartition,"
   ]
  },
  {
   "cell_type": "markdown",
   "metadata": {},
   "source": [
    "### Showing Dataframe and Schema"
   ]
  },
  {
   "cell_type": "code",
   "execution_count": null,
   "metadata": {},
   "outputs": [],
   "source": [
    "log_df.printSchema()\n",
    "log_df.show()"
   ]
  },
  {
   "cell_type": "markdown",
   "metadata": {},
   "source": [
    "## repartition\n",
    "### https://sparkbyexamples.com/spark/spark-repartition-vs-coalesce/"
   ]
  },
  {
   "cell_type": "code",
   "execution_count": 115,
   "metadata": {},
   "outputs": [
    {
     "data": {
      "text/plain": [
       "1"
      ]
     },
     "execution_count": 115,
     "metadata": {},
     "output_type": "execute_result"
    }
   ],
   "source": [
    "current_partition = log_df.rdd.getNumPartitions()\n",
    "current_partition"
   ]
  },
  {
   "cell_type": "code",
   "execution_count": 116,
   "metadata": {},
   "outputs": [
    {
     "data": {
      "text/plain": [
       "6"
      ]
     },
     "execution_count": 116,
     "metadata": {},
     "output_type": "execute_result"
    }
   ],
   "source": [
    "num_partition = 6\n",
    "repartition_df = log_df.repartition(num_partition)\n",
    "current_partition = repartition_df.rdd.getNumPartitions()\n",
    "current_partition"
   ]
  },
  {
   "cell_type": "markdown",
   "metadata": {},
   "source": [
    "## coalesce"
   ]
  },
  {
   "cell_type": "code",
   "execution_count": 117,
   "metadata": {},
   "outputs": [
    {
     "data": {
      "text/plain": [
       "6"
      ]
     },
     "execution_count": 117,
     "metadata": {},
     "output_type": "execute_result"
    }
   ],
   "source": [
    "current_partition = repartition_df.rdd.getNumPartitions()\n",
    "current_partition"
   ]
  },
  {
   "cell_type": "code",
   "execution_count": 119,
   "metadata": {},
   "outputs": [
    {
     "data": {
      "text/plain": [
       "3"
      ]
     },
     "execution_count": 119,
     "metadata": {},
     "output_type": "execute_result"
    }
   ],
   "source": [
    "num_partition = 3\n",
    "coalesce_df = repartition_df.coalesce(num_partition)\n",
    "current_partition = coalesce_df.rdd.getNumPartitions()\n",
    "current_partition"
   ]
  },
  {
   "cell_type": "markdown",
   "metadata": {},
   "source": [
    "## repartition by column name"
   ]
  },
  {
   "cell_type": "code",
   "execution_count": 129,
   "metadata": {},
   "outputs": [
    {
     "data": {
      "text/plain": [
       "1"
      ]
     },
     "execution_count": 129,
     "metadata": {},
     "output_type": "execute_result"
    }
   ],
   "source": [
    "current_partition = log_df.rdd.getNumPartitions()\n",
    "current_partition\n"
   ]
  },
  {
   "cell_type": "code",
   "execution_count": 131,
   "metadata": {},
   "outputs": [
    {
     "data": {
      "text/plain": [
       "3"
      ]
     },
     "execution_count": 131,
     "metadata": {},
     "output_type": "execute_result"
    }
   ],
   "source": [
    "num_partition = 3\n",
    "repatition_by_column_df = log_df.repartition(num_partition,\"Operationname\")\n",
    "current_partition = repatition_by_column_df.rdd.getNumPartitions()\n",
    "current_partition"
   ]
  },
  {
   "cell_type": "code",
   "execution_count": 135,
   "metadata": {},
   "outputs": [
    {
     "data": {
      "text/plain": [
       "4"
      ]
     },
     "execution_count": 135,
     "metadata": {},
     "output_type": "execute_result"
    }
   ],
   "source": [
    "num_partition = 4\n",
    "repatition_by_column_df = log_df.repartition(num_partition,\"Operationname\",\"Status\")\n",
    "current_partition = repatition_by_column_df.rdd.getNumPartitions()\n",
    "current_partition"
   ]
  },
  {
   "cell_type": "code",
   "execution_count": 138,
   "metadata": {},
   "outputs": [
    {
     "data": {
      "text/plain": [
       "12"
      ]
     },
     "execution_count": 138,
     "metadata": {},
     "output_type": "execute_result"
    }
   ],
   "source": [
    "unique_statuses = log_df.select(\"Operationname\").distinct().rdd.flatMap(lambda x: x).collect()\n",
    "num_partition = len(unique_statuses)\n",
    "repartitioned_df = log_df.repartition(num_partition, \"Operationname\")\n",
    "current_partition = repartitioned_df.rdd.getNumPartitions()\n",
    "current_partition"
   ]
  },
  {
   "cell_type": "markdown",
   "metadata": {},
   "source": [
    "## Filter "
   ]
  },
  {
   "cell_type": "code",
   "execution_count": 86,
   "metadata": {},
   "outputs": [
    {
     "name": "stdout",
     "output_type": "stream",
     "text": [
      "+---+--------------------+-------------------+---------+--------------+-------------+--------------------+--------------------+--------------------+--------------------+--------------------+\n",
      "| Id|       Correlationid|      Operationname|   Status| Eventcategory|        Level|                Time|        Subscription|    Eventinitiatedby|        Resourcetype|       Resourcegroup|\n",
      "+---+--------------------+-------------------+---------+--------------+-------------+--------------------+--------------------+--------------------+--------------------+--------------------+\n",
      "|  1|66641e13-d19f-4ce...|Delete SQL database|Succeeded|Administrative|Informational|2021-06-15T04:44:...|20c6eec9-2d80-470...|Microsoft Azure S...|Microsoft.Sql/ser...|synapseworkspace-...|\n",
      "|  4|e2958162-93d9-464...|    Delete SqlPools|Succeeded|Administrative|Informational|2021-06-15T04:44:...|20c6eec9-2d80-470...|techsup1000@gmail...|Microsoft.Synapse...|             new-grp|\n",
      "+---+--------------------+-------------------+---------+--------------+-------------+--------------------+--------------------+--------------------+--------------------+--------------------+\n",
      "\n"
     ]
    },
    {
     "data": {
      "text/plain": [
       "2"
      ]
     },
     "execution_count": 86,
     "metadata": {},
     "output_type": "execute_result"
    }
   ],
   "source": [
    "filtered_df = log_df.filter(\n",
    "    (F.col(\"Status\") == \"Succeeded\") &\n",
    "    (F.col(\"Operationname\").isin([\"Delete SQL database\", \"Delete SqlPools\"]))\n",
    ")\n",
    "filtered_df.show()\n",
    "filtered_df.count()"
   ]
  },
  {
   "cell_type": "code",
   "execution_count": 91,
   "metadata": {},
   "outputs": [
    {
     "name": "stdout",
     "output_type": "stream",
     "text": [
      "+---+--------------------+--------------------+---------+--------------+-------------+--------------------+--------------------+--------------------+--------------------+--------------------+\n",
      "| Id|       Correlationid|       Operationname|   Status| Eventcategory|        Level|                Time|        Subscription|    Eventinitiatedby|        Resourcetype|       Resourcegroup|\n",
      "+---+--------------------+--------------------+---------+--------------+-------------+--------------------+--------------------+--------------------+--------------------+--------------------+\n",
      "|  1|66641e13-d19f-4ce...| Delete SQL database|Succeeded|Administrative|Informational|2021-06-15T04:44:...|20c6eec9-2d80-470...|Microsoft Azure S...|Microsoft.Sql/ser...|synapseworkspace-...|\n",
      "|  2|66641e13-d19f-4ce...| Delete SQL database|  Started|Administrative|Informational|2021-06-15T04:44:...|20c6eec9-2d80-470...|Microsoft Azure S...|Microsoft.Sql/ser...|synapseworkspace-...|\n",
      "|  3|66641e13-d19f-4ce...| Delete SQL database| Accepted|Administrative|Informational|2021-06-15T04:44:...|20c6eec9-2d80-470...|Microsoft Azure S...|Microsoft.Sql/ser...|synapseworkspace-...|\n",
      "|  4|e2958162-93d9-464...|     Delete SqlPools|Succeeded|Administrative|Informational|2021-06-15T04:44:...|20c6eec9-2d80-470...|techsup1000@gmail...|Microsoft.Synapse...|             new-grp|\n",
      "|  5|e2958162-93d9-464...|     Delete SqlPools|  Started|Administrative|Informational|2021-06-15T04:44:...|20c6eec9-2d80-470...|techsup1000@gmail...|Microsoft.Synapse...|             new-grp|\n",
      "|  6|e2958162-93d9-464...|     Delete SqlPools| Accepted|Administrative|Informational|2021-06-15T04:44:...|20c6eec9-2d80-470...|techsup1000@gmail...|Microsoft.Synapse...|             new-grp|\n",
      "|  7|08cd2e19-477c-4ec...|Pause SQL Analyti...|Succeeded|Administrative|Informational|2021-06-14T17:57:...|20c6eec9-2d80-470...|techsup1000@gmail...|Microsoft.Synapse...|             new-grp|\n",
      "| 10|d2d9d7c4-2766-4e7...|Pause a Datawareh...|Succeeded|Administrative|Informational|2021-06-14T17:56:...|20c6eec9-2d80-470...|Microsoft Azure S...|Microsoft.Sql/ser...|synapseworkspace-...|\n",
      "| 13|1c735927-517e-470...| Create Pipeline Run|Succeeded|Administrative|Informational|2021-06-14T14:24:...|20c6eec9-2d80-470...|techsup1000@gmail...|Microsoft.DataFac...|             new-grp|\n",
      "| 15|0ae558f0-ebbd-4e9...|Create or Update ...|Succeeded|Administrative|Informational|2021-06-14T14:24:...|20c6eec9-2d80-470...|techsup1000@gmail...|Microsoft.DataFac...|             new-grp|\n",
      "| 17|072d5d31-b4b0-4bd...|Create or Update ...|Succeeded|Administrative|Informational|2021-06-14T14:24:...|20c6eec9-2d80-470...|techsup1000@gmail...|Microsoft.DataFac...|             new-grp|\n",
      "| 19|77152ae0-297f-4d1...|Create or Update ...|Succeeded|Administrative|Informational|2021-06-14T14:24:...|20c6eec9-2d80-470...|techsup1000@gmail...|Microsoft.DataFac...|             new-grp|\n",
      "| 21|781dc10c-a838-46c...|Create or Update ...|Succeeded|Administrative|Informational|2021-06-14T14:22:...|20c6eec9-2d80-470...|techsup1000@gmail...|Microsoft.DataFac...|             new-grp|\n",
      "| 23|e2725ed8-301d-4ff...|List Storage Acco...|Succeeded|Administrative|Informational|2021-06-14T14:22:...|20c6eec9-2d80-470...|techsup1000@gmail...|Microsoft.Storage...|             new-grp|\n",
      "| 25|638aec0d-c9f8-47a...|Create or Update ...|Succeeded|Administrative|Informational|2021-06-14T14:20:...|20c6eec9-2d80-470...|techsup1000@gmail...|Microsoft.DataFac...|             new-grp|\n",
      "| 27|0e35c291-d741-4f9...| Create Pipeline Run|Succeeded|Administrative|Informational|2021-06-14T13:44:...|20c6eec9-2d80-470...|techsup1000@gmail...|Microsoft.DataFac...|             new-grp|\n",
      "+---+--------------------+--------------------+---------+--------------+-------------+--------------------+--------------------+--------------------+--------------------+--------------------+\n",
      "\n"
     ]
    },
    {
     "data": {
      "text/plain": [
       "18"
      ]
     },
     "execution_count": 91,
     "metadata": {},
     "output_type": "execute_result"
    }
   ],
   "source": [
    "filtered_df = log_df.filter(\n",
    "    (F.col(\"Status\") == \"Succeeded\") |\n",
    "    (F.col(\"Operationname\").isin([\"Delete SQL database\", \"Delete SqlPools\"]))\n",
    ")\n",
    "filtered_df.limit(16).show()\n",
    "filtered_df.limit(18).count()"
   ]
  },
  {
   "cell_type": "markdown",
   "metadata": {},
   "source": [
    "## Where "
   ]
  },
  {
   "cell_type": "code",
   "execution_count": 139,
   "metadata": {},
   "outputs": [
    {
     "name": "stdout",
     "output_type": "stream",
     "text": [
      "+---+--------------------+-------------------+---------+--------------+-------------+--------------------+--------------------+--------------------+--------------------+--------------------+\n",
      "| Id|       Correlationid|      Operationname|   Status| Eventcategory|        Level|                Time|        Subscription|    Eventinitiatedby|        Resourcetype|       Resourcegroup|\n",
      "+---+--------------------+-------------------+---------+--------------+-------------+--------------------+--------------------+--------------------+--------------------+--------------------+\n",
      "|  1|66641e13-d19f-4ce...|Delete SQL database|Succeeded|Administrative|Informational|2021-06-15T04:44:...|20c6eec9-2d80-470...|Microsoft Azure S...|Microsoft.Sql/ser...|synapseworkspace-...|\n",
      "|  4|e2958162-93d9-464...|    Delete SqlPools|Succeeded|Administrative|Informational|2021-06-15T04:44:...|20c6eec9-2d80-470...|techsup1000@gmail...|Microsoft.Synapse...|             new-grp|\n",
      "+---+--------------------+-------------------+---------+--------------+-------------+--------------------+--------------------+--------------------+--------------------+--------------------+\n",
      "\n"
     ]
    },
    {
     "data": {
      "text/plain": [
       "2"
      ]
     },
     "execution_count": 139,
     "metadata": {},
     "output_type": "execute_result"
    }
   ],
   "source": [
    "where_df = log_df.where(\n",
    "    (F.col(\"Status\") == \"Succeeded\") &\n",
    "    (F.col(\"Operationname\").isin([\"Delete SQL database\", \"Delete SqlPools\"]))\n",
    ")\n",
    "where_df.show()\n",
    "where_df.count()"
   ]
  },
  {
   "cell_type": "code",
   "execution_count": 140,
   "metadata": {},
   "outputs": [
    {
     "name": "stdout",
     "output_type": "stream",
     "text": [
      "+---+--------------------+--------------------+---------+--------------+-------------+--------------------+--------------------+--------------------+--------------------+--------------------+\n",
      "| Id|       Correlationid|       Operationname|   Status| Eventcategory|        Level|                Time|        Subscription|    Eventinitiatedby|        Resourcetype|       Resourcegroup|\n",
      "+---+--------------------+--------------------+---------+--------------+-------------+--------------------+--------------------+--------------------+--------------------+--------------------+\n",
      "|  1|66641e13-d19f-4ce...| Delete SQL database|Succeeded|Administrative|Informational|2021-06-15T04:44:...|20c6eec9-2d80-470...|Microsoft Azure S...|Microsoft.Sql/ser...|synapseworkspace-...|\n",
      "|  2|66641e13-d19f-4ce...| Delete SQL database|  Started|Administrative|Informational|2021-06-15T04:44:...|20c6eec9-2d80-470...|Microsoft Azure S...|Microsoft.Sql/ser...|synapseworkspace-...|\n",
      "|  3|66641e13-d19f-4ce...| Delete SQL database| Accepted|Administrative|Informational|2021-06-15T04:44:...|20c6eec9-2d80-470...|Microsoft Azure S...|Microsoft.Sql/ser...|synapseworkspace-...|\n",
      "|  4|e2958162-93d9-464...|     Delete SqlPools|Succeeded|Administrative|Informational|2021-06-15T04:44:...|20c6eec9-2d80-470...|techsup1000@gmail...|Microsoft.Synapse...|             new-grp|\n",
      "|  5|e2958162-93d9-464...|     Delete SqlPools|  Started|Administrative|Informational|2021-06-15T04:44:...|20c6eec9-2d80-470...|techsup1000@gmail...|Microsoft.Synapse...|             new-grp|\n",
      "|  6|e2958162-93d9-464...|     Delete SqlPools| Accepted|Administrative|Informational|2021-06-15T04:44:...|20c6eec9-2d80-470...|techsup1000@gmail...|Microsoft.Synapse...|             new-grp|\n",
      "|  7|08cd2e19-477c-4ec...|Pause SQL Analyti...|Succeeded|Administrative|Informational|2021-06-14T17:57:...|20c6eec9-2d80-470...|techsup1000@gmail...|Microsoft.Synapse...|             new-grp|\n",
      "| 10|d2d9d7c4-2766-4e7...|Pause a Datawareh...|Succeeded|Administrative|Informational|2021-06-14T17:56:...|20c6eec9-2d80-470...|Microsoft Azure S...|Microsoft.Sql/ser...|synapseworkspace-...|\n",
      "| 13|1c735927-517e-470...| Create Pipeline Run|Succeeded|Administrative|Informational|2021-06-14T14:24:...|20c6eec9-2d80-470...|techsup1000@gmail...|Microsoft.DataFac...|             new-grp|\n",
      "| 15|0ae558f0-ebbd-4e9...|Create or Update ...|Succeeded|Administrative|Informational|2021-06-14T14:24:...|20c6eec9-2d80-470...|techsup1000@gmail...|Microsoft.DataFac...|             new-grp|\n",
      "| 17|072d5d31-b4b0-4bd...|Create or Update ...|Succeeded|Administrative|Informational|2021-06-14T14:24:...|20c6eec9-2d80-470...|techsup1000@gmail...|Microsoft.DataFac...|             new-grp|\n",
      "| 19|77152ae0-297f-4d1...|Create or Update ...|Succeeded|Administrative|Informational|2021-06-14T14:24:...|20c6eec9-2d80-470...|techsup1000@gmail...|Microsoft.DataFac...|             new-grp|\n",
      "| 21|781dc10c-a838-46c...|Create or Update ...|Succeeded|Administrative|Informational|2021-06-14T14:22:...|20c6eec9-2d80-470...|techsup1000@gmail...|Microsoft.DataFac...|             new-grp|\n",
      "| 23|e2725ed8-301d-4ff...|List Storage Acco...|Succeeded|Administrative|Informational|2021-06-14T14:22:...|20c6eec9-2d80-470...|techsup1000@gmail...|Microsoft.Storage...|             new-grp|\n",
      "| 25|638aec0d-c9f8-47a...|Create or Update ...|Succeeded|Administrative|Informational|2021-06-14T14:20:...|20c6eec9-2d80-470...|techsup1000@gmail...|Microsoft.DataFac...|             new-grp|\n",
      "| 27|0e35c291-d741-4f9...| Create Pipeline Run|Succeeded|Administrative|Informational|2021-06-14T13:44:...|20c6eec9-2d80-470...|techsup1000@gmail...|Microsoft.DataFac...|             new-grp|\n",
      "+---+--------------------+--------------------+---------+--------------+-------------+--------------------+--------------------+--------------------+--------------------+--------------------+\n",
      "\n"
     ]
    },
    {
     "data": {
      "text/plain": [
       "18"
      ]
     },
     "execution_count": 140,
     "metadata": {},
     "output_type": "execute_result"
    }
   ],
   "source": [
    "where_df = log_df.where(\n",
    "    (F.col(\"Status\") == \"Succeeded\") |\n",
    "    (F.col(\"Operationname\").isin([\"Delete SQL database\", \"Delete SqlPools\"]))\n",
    ")\n",
    "where_df.limit(16).show()\n",
    "where_df.limit(18).count()"
   ]
  },
  {
   "cell_type": "markdown",
   "metadata": {},
   "source": [
    "## Selecting"
   ]
  },
  {
   "cell_type": "code",
   "execution_count": 141,
   "metadata": {},
   "outputs": [
    {
     "name": "stdout",
     "output_type": "stream",
     "text": [
      "+--------------------+--------------------+--------------+\n",
      "|       Correlationid|       Operationname| Eventcategory|\n",
      "+--------------------+--------------------+--------------+\n",
      "|66641e13-d19f-4ce...| Delete SQL database|Administrative|\n",
      "|66641e13-d19f-4ce...| Delete SQL database|Administrative|\n",
      "|66641e13-d19f-4ce...| Delete SQL database|Administrative|\n",
      "|e2958162-93d9-464...|     Delete SqlPools|Administrative|\n",
      "|e2958162-93d9-464...|     Delete SqlPools|Administrative|\n",
      "|e2958162-93d9-464...|     Delete SqlPools|Administrative|\n",
      "|08cd2e19-477c-4ec...|Pause SQL Analyti...|Administrative|\n",
      "|08cd2e19-477c-4ec...|Pause SQL Analyti...|Administrative|\n",
      "|08cd2e19-477c-4ec...|Pause SQL Analyti...|Administrative|\n",
      "|d2d9d7c4-2766-4e7...|Pause a Datawareh...|Administrative|\n",
      "|d2d9d7c4-2766-4e7...|Pause a Datawareh...|Administrative|\n",
      "|d2d9d7c4-2766-4e7...|Pause a Datawareh...|Administrative|\n",
      "|1c735927-517e-470...| Create Pipeline Run|Administrative|\n",
      "|1c735927-517e-470...| Create Pipeline Run|Administrative|\n",
      "|0ae558f0-ebbd-4e9...|Create or Update ...|Administrative|\n",
      "|0ae558f0-ebbd-4e9...|Create or Update ...|Administrative|\n",
      "|072d5d31-b4b0-4bd...|Create or Update ...|Administrative|\n",
      "|072d5d31-b4b0-4bd...|Create or Update ...|Administrative|\n",
      "|77152ae0-297f-4d1...|Create or Update ...|Administrative|\n",
      "|77152ae0-297f-4d1...|Create or Update ...|Administrative|\n",
      "+--------------------+--------------------+--------------+\n",
      "only showing top 20 rows\n",
      "\n"
     ]
    },
    {
     "data": {
      "text/plain": [
       "49"
      ]
     },
     "execution_count": 141,
     "metadata": {},
     "output_type": "execute_result"
    }
   ],
   "source": [
    "part_log_df = log_df.select(\"Correlationid\", \"Operationname\",\"Eventcategory\")\n",
    "part_log_df.show()\n",
    "part_log_df.count()"
   ]
  },
  {
   "cell_type": "markdown",
   "metadata": {},
   "source": [
    "## Duplicates and Distincts"
   ]
  },
  {
   "cell_type": "code",
   "execution_count": 76,
   "metadata": {},
   "outputs": [
    {
     "name": "stdout",
     "output_type": "stream",
     "text": [
      "+--------------------+--------------------+--------------+\n",
      "|       Correlationid|       Operationname| Eventcategory|\n",
      "+--------------------+--------------------+--------------+\n",
      "|1c735927-517e-470...| Create Pipeline Run|Administrative|\n",
      "|02c57e3c-6a26-4e7...|Create or update ...|Administrative|\n",
      "|781dc10c-a838-46c...|Create or Update ...|Administrative|\n",
      "|e2725ed8-301d-4ff...|List Storage Acco...|Administrative|\n",
      "|638aec0d-c9f8-47a...|Create or Update ...|Administrative|\n",
      "|977afba3-bc1e-4f4...| Create Pipeline Run|Administrative|\n",
      "|66641e13-d19f-4ce...| Delete SQL database|Administrative|\n",
      "|5b41a078-0ff1-40c...|   Delete Deployment|Administrative|\n",
      "|02c57e3c-6a26-4e7...|   Create Deployment|Administrative|\n",
      "|1593862e-3db3-475...|   Create Deployment|Administrative|\n",
      "|072d5d31-b4b0-4bd...|Create or Update ...|Administrative|\n",
      "|e2958162-93d9-464...|     Delete SqlPools|Administrative|\n",
      "|6b8133f8-62b5-4e5...|   Delete Deployment|Administrative|\n",
      "|08cd2e19-477c-4ec...|Pause SQL Analyti...|Administrative|\n",
      "|02c57e3c-6a26-4e7...|Create or Update ...|Administrative|\n",
      "|a0f02543-43a9-4b2...|   Delete Deployment|Administrative|\n",
      "|77152ae0-297f-4d1...|Create or Update ...|Administrative|\n",
      "|1593862e-3db3-475...|Create or Update ...|Administrative|\n",
      "|0ae558f0-ebbd-4e9...|Create or Update ...|Administrative|\n",
      "|d2d9d7c4-2766-4e7...|Pause a Datawareh...|Administrative|\n",
      "+--------------------+--------------------+--------------+\n",
      "only showing top 20 rows\n",
      "\n"
     ]
    },
    {
     "data": {
      "text/plain": [
       "21"
      ]
     },
     "execution_count": 76,
     "metadata": {},
     "output_type": "execute_result"
    }
   ],
   "source": [
    "distinct_log_df = part_log_df.distinct()\n",
    "distinct_log_df.show()\n",
    "distinct_log_df.count()"
   ]
  },
  {
   "cell_type": "code",
   "execution_count": 78,
   "metadata": {},
   "outputs": [
    {
     "name": "stdout",
     "output_type": "stream",
     "text": [
      "+--------------------+--------------------+--------------+\n",
      "|       Correlationid|       Operationname| Eventcategory|\n",
      "+--------------------+--------------------+--------------+\n",
      "|1c735927-517e-470...| Create Pipeline Run|Administrative|\n",
      "|02c57e3c-6a26-4e7...|Create or update ...|Administrative|\n",
      "|781dc10c-a838-46c...|Create or Update ...|Administrative|\n",
      "|e2725ed8-301d-4ff...|List Storage Acco...|Administrative|\n",
      "|638aec0d-c9f8-47a...|Create or Update ...|Administrative|\n",
      "|977afba3-bc1e-4f4...| Create Pipeline Run|Administrative|\n",
      "|66641e13-d19f-4ce...| Delete SQL database|Administrative|\n",
      "|5b41a078-0ff1-40c...|   Delete Deployment|Administrative|\n",
      "|02c57e3c-6a26-4e7...|   Create Deployment|Administrative|\n",
      "|1593862e-3db3-475...|   Create Deployment|Administrative|\n",
      "|072d5d31-b4b0-4bd...|Create or Update ...|Administrative|\n",
      "|e2958162-93d9-464...|     Delete SqlPools|Administrative|\n",
      "|6b8133f8-62b5-4e5...|   Delete Deployment|Administrative|\n",
      "|08cd2e19-477c-4ec...|Pause SQL Analyti...|Administrative|\n",
      "|02c57e3c-6a26-4e7...|Create or Update ...|Administrative|\n",
      "|a0f02543-43a9-4b2...|   Delete Deployment|Administrative|\n",
      "|77152ae0-297f-4d1...|Create or Update ...|Administrative|\n",
      "|1593862e-3db3-475...|Create or Update ...|Administrative|\n",
      "|0ae558f0-ebbd-4e9...|Create or Update ...|Administrative|\n",
      "|d2d9d7c4-2766-4e7...|Pause a Datawareh...|Administrative|\n",
      "+--------------------+--------------------+--------------+\n",
      "only showing top 20 rows\n",
      "\n"
     ]
    },
    {
     "data": {
      "text/plain": [
       "21"
      ]
     },
     "execution_count": 78,
     "metadata": {},
     "output_type": "execute_result"
    }
   ],
   "source": [
    "drop_log_df = part_log_df.dropDuplicates()\n",
    "drop_log_df.show()\n",
    "drop_log_df.count()"
   ]
  },
  {
   "cell_type": "code",
   "execution_count": 79,
   "metadata": {},
   "outputs": [
    {
     "name": "stdout",
     "output_type": "stream",
     "text": [
      "+--------------------+--------------------+--------------+\n",
      "|       Correlationid|       Operationname| Eventcategory|\n",
      "+--------------------+--------------------+--------------+\n",
      "|1c735927-517e-470...| Create Pipeline Run|Administrative|\n",
      "|02c57e3c-6a26-4e7...|Create or update ...|Administrative|\n",
      "|781dc10c-a838-46c...|Create or Update ...|Administrative|\n",
      "|e2725ed8-301d-4ff...|List Storage Acco...|Administrative|\n",
      "|638aec0d-c9f8-47a...|Create or Update ...|Administrative|\n",
      "|977afba3-bc1e-4f4...| Create Pipeline Run|Administrative|\n",
      "|66641e13-d19f-4ce...| Delete SQL database|Administrative|\n",
      "|66641e13-d19f-4ce...| Delete SQL database|Administrative|\n",
      "|02c57e3c-6a26-4e7...|   Create Deployment|Administrative|\n",
      "|02c57e3c-6a26-4e7...|   Create Deployment|Administrative|\n",
      "|1593862e-3db3-475...|   Create Deployment|Administrative|\n",
      "|1593862e-3db3-475...|   Create Deployment|Administrative|\n",
      "|072d5d31-b4b0-4bd...|Create or Update ...|Administrative|\n",
      "|e2958162-93d9-464...|     Delete SqlPools|Administrative|\n",
      "|e2958162-93d9-464...|     Delete SqlPools|Administrative|\n",
      "|6b8133f8-62b5-4e5...|   Delete Deployment|Administrative|\n",
      "|08cd2e19-477c-4ec...|Pause SQL Analyti...|Administrative|\n",
      "|08cd2e19-477c-4ec...|Pause SQL Analyti...|Administrative|\n",
      "|02c57e3c-6a26-4e7...|Create or Update ...|Administrative|\n",
      "|02c57e3c-6a26-4e7...|Create or Update ...|Administrative|\n",
      "+--------------------+--------------------+--------------+\n",
      "only showing top 20 rows\n",
      "\n"
     ]
    },
    {
     "data": {
      "text/plain": [
       "28"
      ]
     },
     "execution_count": 79,
     "metadata": {},
     "output_type": "execute_result"
    }
   ],
   "source": [
    "duplicate_df = part_log_df.exceptAll(part_log_df.dropDuplicates())\n",
    "duplicate_df.show()\n",
    "duplicate_df.count()"
   ]
  },
  {
   "cell_type": "markdown",
   "metadata": {},
   "source": [
    "## Sorting (asc and desc)"
   ]
  },
  {
   "cell_type": "code",
   "execution_count": 148,
   "metadata": {},
   "outputs": [
    {
     "name": "stdout",
     "output_type": "stream",
     "text": [
      "+---+--------------------+--------------------+---------+--------------+-------------+--------------------+--------------------+--------------------+--------------------+-------------+\n",
      "| Id|       Correlationid|       Operationname|   Status| Eventcategory|        Level|                Time|        Subscription|    Eventinitiatedby|        Resourcetype|Resourcegroup|\n",
      "+---+--------------------+--------------------+---------+--------------+-------------+--------------------+--------------------+--------------------+--------------------+-------------+\n",
      "| 31|1593862e-3db3-475...|   Create Deployment|Succeeded|Administrative|Informational|2021-06-14T13:44:...|20c6eec9-2d80-470...|techsup1000@gmail...|Microsoft.Resourc...|      new-grp|\n",
      "| 32|1593862e-3db3-475...|   Create Deployment|  Started|Administrative|Informational|2021-06-14T13:43:...|20c6eec9-2d80-470...|techsup1000@gmail...|Microsoft.Resourc...|      new-grp|\n",
      "| 33|1593862e-3db3-475...|   Create Deployment| Accepted|Administrative|Informational|2021-06-14T13:43:...|20c6eec9-2d80-470...|techsup1000@gmail...|Microsoft.Resourc...|      new-grp|\n",
      "| 38|02c57e3c-6a26-4e7...|   Create Deployment|Succeeded|Administrative|Informational|2021-06-14T13:43:...|20c6eec9-2d80-470...|techsup1000@gmail...|Microsoft.Resourc...|      new-grp|\n",
      "| 39|02c57e3c-6a26-4e7...|   Create Deployment|  Started|Administrative|Informational|2021-06-14T13:43:...|20c6eec9-2d80-470...|techsup1000@gmail...|Microsoft.Resourc...|      new-grp|\n",
      "| 40|02c57e3c-6a26-4e7...|   Create Deployment| Accepted|Administrative|Informational|2021-06-14T13:43:...|20c6eec9-2d80-470...|techsup1000@gmail...|Microsoft.Resourc...|      new-grp|\n",
      "| 13|1c735927-517e-470...| Create Pipeline Run|Succeeded|Administrative|Informational|2021-06-14T14:24:...|20c6eec9-2d80-470...|techsup1000@gmail...|Microsoft.DataFac...|      new-grp|\n",
      "| 14|1c735927-517e-470...| Create Pipeline Run|  Started|Administrative|Informational|2021-06-14T14:24:...|20c6eec9-2d80-470...|techsup1000@gmail...|Microsoft.DataFac...|      new-grp|\n",
      "| 27|0e35c291-d741-4f9...| Create Pipeline Run|Succeeded|Administrative|Informational|2021-06-14T13:44:...|20c6eec9-2d80-470...|techsup1000@gmail...|Microsoft.DataFac...|      new-grp|\n",
      "| 28|0e35c291-d741-4f9...| Create Pipeline Run|  Started|Administrative|Informational|2021-06-14T13:44:...|20c6eec9-2d80-470...|techsup1000@gmail...|Microsoft.DataFac...|      new-grp|\n",
      "| 47|977afba3-bc1e-4f4...| Create Pipeline Run|Succeeded|Administrative|Informational|2021-06-14T13:41:...|20c6eec9-2d80-470...|techsup1000@gmail...|Microsoft.DataFac...|      new-grp|\n",
      "| 48|977afba3-bc1e-4f4...| Create Pipeline Run|  Started|Administrative|Informational|2021-06-14T13:41:...|20c6eec9-2d80-470...|techsup1000@gmail...|Microsoft.DataFac...|      new-grp|\n",
      "| 17|072d5d31-b4b0-4bd...|Create or Update ...|Succeeded|Administrative|Informational|2021-06-14T14:24:...|20c6eec9-2d80-470...|techsup1000@gmail...|Microsoft.DataFac...|      new-grp|\n",
      "| 18|072d5d31-b4b0-4bd...|Create or Update ...|  Started|Administrative|Informational|2021-06-14T14:24:...|20c6eec9-2d80-470...|techsup1000@gmail...|Microsoft.DataFac...|      new-grp|\n",
      "| 19|77152ae0-297f-4d1...|Create or Update ...|Succeeded|Administrative|Informational|2021-06-14T14:24:...|20c6eec9-2d80-470...|techsup1000@gmail...|Microsoft.DataFac...|      new-grp|\n",
      "| 20|77152ae0-297f-4d1...|Create or Update ...|  Started|Administrative|Informational|2021-06-14T14:24:...|20c6eec9-2d80-470...|techsup1000@gmail...|Microsoft.DataFac...|      new-grp|\n",
      "| 42|02c57e3c-6a26-4e7...|Create or Update ...|  Started|Administrative|Informational|2021-06-14T13:43:...|20c6eec9-2d80-470...|techsup1000@gmail...|Microsoft.DataFac...|      new-grp|\n",
      "| 41|02c57e3c-6a26-4e7...|Create or Update ...|  Started|Administrative|Informational|2021-06-14T13:43:...|20c6eec9-2d80-470...|techsup1000@gmail...|Microsoft.DataFac...|      new-grp|\n",
      "| 43|02c57e3c-6a26-4e7...|Create or Update ...|Succeeded|Administrative|Informational|2021-06-14T13:43:...|20c6eec9-2d80-470...|techsup1000@gmail...|Microsoft.DataFac...|      new-grp|\n",
      "| 44|02c57e3c-6a26-4e7...|Create or Update ...|Succeeded|Administrative|Informational|2021-06-14T13:43:...|20c6eec9-2d80-470...|techsup1000@gmail...|Microsoft.DataFac...|      new-grp|\n",
      "+---+--------------------+--------------------+---------+--------------+-------------+--------------------+--------------------+--------------------+--------------------+-------------+\n",
      "only showing top 20 rows\n",
      "\n"
     ]
    }
   ],
   "source": [
    "# sort_asc_df = log_df.sort(\"Operationname\")\n",
    "sort_asc_df = log_df.sort(F.col(\"Operationname\").asc())\n",
    "sort_asc_df.show()"
   ]
  },
  {
   "cell_type": "code",
   "execution_count": 151,
   "metadata": {},
   "outputs": [
    {
     "name": "stdout",
     "output_type": "stream",
     "text": [
      "+---+--------------------+--------------------+---------+--------------+-------------+--------------------+--------------------+--------------------+--------------------+-------------+\n",
      "| Id|       Correlationid|       Operationname|   Status| Eventcategory|        Level|                Time|        Subscription|    Eventinitiatedby|        Resourcetype|Resourcegroup|\n",
      "+---+--------------------+--------------------+---------+--------------+-------------+--------------------+--------------------+--------------------+--------------------+-------------+\n",
      "| 33|1593862e-3db3-475...|   Create Deployment| Accepted|Administrative|Informational|2021-06-14T13:43:...|20c6eec9-2d80-470...|techsup1000@gmail...|Microsoft.Resourc...|      new-grp|\n",
      "| 40|02c57e3c-6a26-4e7...|   Create Deployment| Accepted|Administrative|Informational|2021-06-14T13:43:...|20c6eec9-2d80-470...|techsup1000@gmail...|Microsoft.Resourc...|      new-grp|\n",
      "| 32|1593862e-3db3-475...|   Create Deployment|  Started|Administrative|Informational|2021-06-14T13:43:...|20c6eec9-2d80-470...|techsup1000@gmail...|Microsoft.Resourc...|      new-grp|\n",
      "| 39|02c57e3c-6a26-4e7...|   Create Deployment|  Started|Administrative|Informational|2021-06-14T13:43:...|20c6eec9-2d80-470...|techsup1000@gmail...|Microsoft.Resourc...|      new-grp|\n",
      "| 31|1593862e-3db3-475...|   Create Deployment|Succeeded|Administrative|Informational|2021-06-14T13:44:...|20c6eec9-2d80-470...|techsup1000@gmail...|Microsoft.Resourc...|      new-grp|\n",
      "| 38|02c57e3c-6a26-4e7...|   Create Deployment|Succeeded|Administrative|Informational|2021-06-14T13:43:...|20c6eec9-2d80-470...|techsup1000@gmail...|Microsoft.Resourc...|      new-grp|\n",
      "| 14|1c735927-517e-470...| Create Pipeline Run|  Started|Administrative|Informational|2021-06-14T14:24:...|20c6eec9-2d80-470...|techsup1000@gmail...|Microsoft.DataFac...|      new-grp|\n",
      "| 28|0e35c291-d741-4f9...| Create Pipeline Run|  Started|Administrative|Informational|2021-06-14T13:44:...|20c6eec9-2d80-470...|techsup1000@gmail...|Microsoft.DataFac...|      new-grp|\n",
      "| 48|977afba3-bc1e-4f4...| Create Pipeline Run|  Started|Administrative|Informational|2021-06-14T13:41:...|20c6eec9-2d80-470...|techsup1000@gmail...|Microsoft.DataFac...|      new-grp|\n",
      "| 13|1c735927-517e-470...| Create Pipeline Run|Succeeded|Administrative|Informational|2021-06-14T14:24:...|20c6eec9-2d80-470...|techsup1000@gmail...|Microsoft.DataFac...|      new-grp|\n",
      "| 27|0e35c291-d741-4f9...| Create Pipeline Run|Succeeded|Administrative|Informational|2021-06-14T13:44:...|20c6eec9-2d80-470...|techsup1000@gmail...|Microsoft.DataFac...|      new-grp|\n",
      "| 47|977afba3-bc1e-4f4...| Create Pipeline Run|Succeeded|Administrative|Informational|2021-06-14T13:41:...|20c6eec9-2d80-470...|techsup1000@gmail...|Microsoft.DataFac...|      new-grp|\n",
      "| 18|072d5d31-b4b0-4bd...|Create or Update ...|  Started|Administrative|Informational|2021-06-14T14:24:...|20c6eec9-2d80-470...|techsup1000@gmail...|Microsoft.DataFac...|      new-grp|\n",
      "| 20|77152ae0-297f-4d1...|Create or Update ...|  Started|Administrative|Informational|2021-06-14T14:24:...|20c6eec9-2d80-470...|techsup1000@gmail...|Microsoft.DataFac...|      new-grp|\n",
      "| 42|02c57e3c-6a26-4e7...|Create or Update ...|  Started|Administrative|Informational|2021-06-14T13:43:...|20c6eec9-2d80-470...|techsup1000@gmail...|Microsoft.DataFac...|      new-grp|\n",
      "| 41|02c57e3c-6a26-4e7...|Create or Update ...|  Started|Administrative|Informational|2021-06-14T13:43:...|20c6eec9-2d80-470...|techsup1000@gmail...|Microsoft.DataFac...|      new-grp|\n",
      "| 17|072d5d31-b4b0-4bd...|Create or Update ...|Succeeded|Administrative|Informational|2021-06-14T14:24:...|20c6eec9-2d80-470...|techsup1000@gmail...|Microsoft.DataFac...|      new-grp|\n",
      "| 19|77152ae0-297f-4d1...|Create or Update ...|Succeeded|Administrative|Informational|2021-06-14T14:24:...|20c6eec9-2d80-470...|techsup1000@gmail...|Microsoft.DataFac...|      new-grp|\n",
      "| 43|02c57e3c-6a26-4e7...|Create or Update ...|Succeeded|Administrative|Informational|2021-06-14T13:43:...|20c6eec9-2d80-470...|techsup1000@gmail...|Microsoft.DataFac...|      new-grp|\n",
      "| 44|02c57e3c-6a26-4e7...|Create or Update ...|Succeeded|Administrative|Informational|2021-06-14T13:43:...|20c6eec9-2d80-470...|techsup1000@gmail...|Microsoft.DataFac...|      new-grp|\n",
      "+---+--------------------+--------------------+---------+--------------+-------------+--------------------+--------------------+--------------------+--------------------+-------------+\n",
      "only showing top 20 rows\n",
      "\n"
     ]
    }
   ],
   "source": [
    "sort_asc_df = log_df.sort(F.col(\"Operationname\").asc(),F.col(\"Status\").asc())\n",
    "sort_asc_df.show()"
   ]
  },
  {
   "cell_type": "code",
   "execution_count": 152,
   "metadata": {},
   "outputs": [
    {
     "name": "stdout",
     "output_type": "stream",
     "text": [
      "+---+--------------------+--------------------+---------+--------------+-------------+--------------------+--------------------+--------------------+--------------------+-------------+\n",
      "| Id|       Correlationid|       Operationname|   Status| Eventcategory|        Level|                Time|        Subscription|    Eventinitiatedby|        Resourcetype|Resourcegroup|\n",
      "+---+--------------------+--------------------+---------+--------------+-------------+--------------------+--------------------+--------------------+--------------------+-------------+\n",
      "| 31|1593862e-3db3-475...|   Create Deployment|Succeeded|Administrative|Informational|2021-06-14T13:44:...|20c6eec9-2d80-470...|techsup1000@gmail...|Microsoft.Resourc...|      new-grp|\n",
      "| 38|02c57e3c-6a26-4e7...|   Create Deployment|Succeeded|Administrative|Informational|2021-06-14T13:43:...|20c6eec9-2d80-470...|techsup1000@gmail...|Microsoft.Resourc...|      new-grp|\n",
      "| 32|1593862e-3db3-475...|   Create Deployment|  Started|Administrative|Informational|2021-06-14T13:43:...|20c6eec9-2d80-470...|techsup1000@gmail...|Microsoft.Resourc...|      new-grp|\n",
      "| 39|02c57e3c-6a26-4e7...|   Create Deployment|  Started|Administrative|Informational|2021-06-14T13:43:...|20c6eec9-2d80-470...|techsup1000@gmail...|Microsoft.Resourc...|      new-grp|\n",
      "| 33|1593862e-3db3-475...|   Create Deployment| Accepted|Administrative|Informational|2021-06-14T13:43:...|20c6eec9-2d80-470...|techsup1000@gmail...|Microsoft.Resourc...|      new-grp|\n",
      "| 40|02c57e3c-6a26-4e7...|   Create Deployment| Accepted|Administrative|Informational|2021-06-14T13:43:...|20c6eec9-2d80-470...|techsup1000@gmail...|Microsoft.Resourc...|      new-grp|\n",
      "| 13|1c735927-517e-470...| Create Pipeline Run|Succeeded|Administrative|Informational|2021-06-14T14:24:...|20c6eec9-2d80-470...|techsup1000@gmail...|Microsoft.DataFac...|      new-grp|\n",
      "| 27|0e35c291-d741-4f9...| Create Pipeline Run|Succeeded|Administrative|Informational|2021-06-14T13:44:...|20c6eec9-2d80-470...|techsup1000@gmail...|Microsoft.DataFac...|      new-grp|\n",
      "| 47|977afba3-bc1e-4f4...| Create Pipeline Run|Succeeded|Administrative|Informational|2021-06-14T13:41:...|20c6eec9-2d80-470...|techsup1000@gmail...|Microsoft.DataFac...|      new-grp|\n",
      "| 14|1c735927-517e-470...| Create Pipeline Run|  Started|Administrative|Informational|2021-06-14T14:24:...|20c6eec9-2d80-470...|techsup1000@gmail...|Microsoft.DataFac...|      new-grp|\n",
      "| 28|0e35c291-d741-4f9...| Create Pipeline Run|  Started|Administrative|Informational|2021-06-14T13:44:...|20c6eec9-2d80-470...|techsup1000@gmail...|Microsoft.DataFac...|      new-grp|\n",
      "| 48|977afba3-bc1e-4f4...| Create Pipeline Run|  Started|Administrative|Informational|2021-06-14T13:41:...|20c6eec9-2d80-470...|techsup1000@gmail...|Microsoft.DataFac...|      new-grp|\n",
      "| 17|072d5d31-b4b0-4bd...|Create or Update ...|Succeeded|Administrative|Informational|2021-06-14T14:24:...|20c6eec9-2d80-470...|techsup1000@gmail...|Microsoft.DataFac...|      new-grp|\n",
      "| 19|77152ae0-297f-4d1...|Create or Update ...|Succeeded|Administrative|Informational|2021-06-14T14:24:...|20c6eec9-2d80-470...|techsup1000@gmail...|Microsoft.DataFac...|      new-grp|\n",
      "| 43|02c57e3c-6a26-4e7...|Create or Update ...|Succeeded|Administrative|Informational|2021-06-14T13:43:...|20c6eec9-2d80-470...|techsup1000@gmail...|Microsoft.DataFac...|      new-grp|\n",
      "| 44|02c57e3c-6a26-4e7...|Create or Update ...|Succeeded|Administrative|Informational|2021-06-14T13:43:...|20c6eec9-2d80-470...|techsup1000@gmail...|Microsoft.DataFac...|      new-grp|\n",
      "| 18|072d5d31-b4b0-4bd...|Create or Update ...|  Started|Administrative|Informational|2021-06-14T14:24:...|20c6eec9-2d80-470...|techsup1000@gmail...|Microsoft.DataFac...|      new-grp|\n",
      "| 20|77152ae0-297f-4d1...|Create or Update ...|  Started|Administrative|Informational|2021-06-14T14:24:...|20c6eec9-2d80-470...|techsup1000@gmail...|Microsoft.DataFac...|      new-grp|\n",
      "| 42|02c57e3c-6a26-4e7...|Create or Update ...|  Started|Administrative|Informational|2021-06-14T13:43:...|20c6eec9-2d80-470...|techsup1000@gmail...|Microsoft.DataFac...|      new-grp|\n",
      "| 41|02c57e3c-6a26-4e7...|Create or Update ...|  Started|Administrative|Informational|2021-06-14T13:43:...|20c6eec9-2d80-470...|techsup1000@gmail...|Microsoft.DataFac...|      new-grp|\n",
      "+---+--------------------+--------------------+---------+--------------+-------------+--------------------+--------------------+--------------------+--------------------+-------------+\n",
      "only showing top 20 rows\n",
      "\n"
     ]
    }
   ],
   "source": [
    "sort_asc_df = log_df.sort(F.col(\"Operationname\").asc(),F.col(\"Status\").desc())\n",
    "sort_asc_df.show()"
   ]
  },
  {
   "cell_type": "code",
   "execution_count": 153,
   "metadata": {},
   "outputs": [
    {
     "name": "stdout",
     "output_type": "stream",
     "text": [
      "+---+--------------------+--------------------+---------+--------------+-------------+--------------------+--------------------+--------------------+--------------------+--------------------+\n",
      "| Id|       Correlationid|       Operationname|   Status| Eventcategory|        Level|                Time|        Subscription|    Eventinitiatedby|        Resourcetype|       Resourcegroup|\n",
      "+---+--------------------+--------------------+---------+--------------+-------------+--------------------+--------------------+--------------------+--------------------+--------------------+\n",
      "| 12|d2d9d7c4-2766-4e7...|Pause a Datawareh...| Accepted|Administrative|Informational|2021-06-14T17:55:...|20c6eec9-2d80-470...|Microsoft Azure S...|Microsoft.Sql/ser...|synapseworkspace-...|\n",
      "| 11|d2d9d7c4-2766-4e7...|Pause a Datawareh...|  Started|Administrative|Informational|2021-06-14T17:55:...|20c6eec9-2d80-470...|Microsoft Azure S...|Microsoft.Sql/ser...|synapseworkspace-...|\n",
      "| 10|d2d9d7c4-2766-4e7...|Pause a Datawareh...|Succeeded|Administrative|Informational|2021-06-14T17:56:...|20c6eec9-2d80-470...|Microsoft Azure S...|Microsoft.Sql/ser...|synapseworkspace-...|\n",
      "|  9|08cd2e19-477c-4ec...|Pause SQL Analyti...| Accepted|Administrative|Informational|2021-06-14T17:55:...|20c6eec9-2d80-470...|techsup1000@gmail...|Microsoft.Synapse...|             new-grp|\n",
      "|  8|08cd2e19-477c-4ec...|Pause SQL Analyti...|  Started|Administrative|Informational|2021-06-14T17:55:...|20c6eec9-2d80-470...|techsup1000@gmail...|Microsoft.Synapse...|             new-grp|\n",
      "|  7|08cd2e19-477c-4ec...|Pause SQL Analyti...|Succeeded|Administrative|Informational|2021-06-14T17:57:...|20c6eec9-2d80-470...|techsup1000@gmail...|Microsoft.Synapse...|             new-grp|\n",
      "| 24|e2725ed8-301d-4ff...|List Storage Acco...|  Started|Administrative|Informational|2021-06-14T14:22:...|20c6eec9-2d80-470...|techsup1000@gmail...|Microsoft.Storage...|             new-grp|\n",
      "| 23|e2725ed8-301d-4ff...|List Storage Acco...|Succeeded|Administrative|Informational|2021-06-14T14:22:...|20c6eec9-2d80-470...|techsup1000@gmail...|Microsoft.Storage...|             new-grp|\n",
      "|  6|e2958162-93d9-464...|     Delete SqlPools| Accepted|Administrative|Informational|2021-06-15T04:44:...|20c6eec9-2d80-470...|techsup1000@gmail...|Microsoft.Synapse...|             new-grp|\n",
      "|  5|e2958162-93d9-464...|     Delete SqlPools|  Started|Administrative|Informational|2021-06-15T04:44:...|20c6eec9-2d80-470...|techsup1000@gmail...|Microsoft.Synapse...|             new-grp|\n",
      "|  4|e2958162-93d9-464...|     Delete SqlPools|Succeeded|Administrative|Informational|2021-06-15T04:44:...|20c6eec9-2d80-470...|techsup1000@gmail...|Microsoft.Synapse...|             new-grp|\n",
      "|  3|66641e13-d19f-4ce...| Delete SQL database| Accepted|Administrative|Informational|2021-06-15T04:44:...|20c6eec9-2d80-470...|Microsoft Azure S...|Microsoft.Sql/ser...|synapseworkspace-...|\n",
      "|  2|66641e13-d19f-4ce...| Delete SQL database|  Started|Administrative|Informational|2021-06-15T04:44:...|20c6eec9-2d80-470...|Microsoft Azure S...|Microsoft.Sql/ser...|synapseworkspace-...|\n",
      "|  1|66641e13-d19f-4ce...| Delete SQL database|Succeeded|Administrative|Informational|2021-06-15T04:44:...|20c6eec9-2d80-470...|Microsoft Azure S...|Microsoft.Sql/ser...|synapseworkspace-...|\n",
      "| 29|6b8133f8-62b5-4e5...|   Delete Deployment| Accepted|Administrative|Informational|2021-06-14T13:44:...|20c6eec9-2d80-470...|techsup1000@gmail...|Microsoft.Resourc...|             new-grp|\n",
      "| 36|a0f02543-43a9-4b2...|   Delete Deployment| Accepted|Administrative|Informational|2021-06-14T13:43:...|20c6eec9-2d80-470...|techsup1000@gmail...|Microsoft.Resourc...|             new-grp|\n",
      "| 49|5b41a078-0ff1-40c...|   Delete Deployment| Accepted|Administrative|Informational|2021-06-14T13:41:...|20c6eec9-2d80-470...|techsup1000@gmail...|Microsoft.Resourc...|             new-grp|\n",
      "| 30|6b8133f8-62b5-4e5...|   Delete Deployment|  Started|Administrative|Informational|2021-06-14T13:44:...|20c6eec9-2d80-470...|techsup1000@gmail...|Microsoft.Resourc...|             new-grp|\n",
      "| 37|a0f02543-43a9-4b2...|   Delete Deployment|  Started|Administrative|Informational|2021-06-14T13:43:...|20c6eec9-2d80-470...|techsup1000@gmail...|Microsoft.Resourc...|             new-grp|\n",
      "| 45|02c57e3c-6a26-4e7...|Create or update ...|  Started|Administrative|Informational|2021-06-14T13:43:...|20c6eec9-2d80-470...|techsup1000@gmail...|Microsoft.DataFac...|             new-grp|\n",
      "+---+--------------------+--------------------+---------+--------------+-------------+--------------------+--------------------+--------------------+--------------------+--------------------+\n",
      "only showing top 20 rows\n",
      "\n"
     ]
    }
   ],
   "source": [
    "sort_asc_df = log_df.sort(F.col(\"Operationname\").desc(),F.col(\"Status\").asc())\n",
    "sort_asc_df.show()"
   ]
  },
  {
   "cell_type": "markdown",
   "metadata": {},
   "source": [
    "## union and unionAll\n",
    "### https://sparkbyexamples.com/spark/spark-dataframe-union-and-union-all/"
   ]
  },
  {
   "cell_type": "code",
   "execution_count": null,
   "metadata": {},
   "outputs": [],
   "source": [
    "head_log_df = log_df.sort(\"Operationname\").limit(15)\n",
    "head_log_df.show()\n",
    "head_log_df.count()"
   ]
  },
  {
   "cell_type": "code",
   "execution_count": 174,
   "metadata": {},
   "outputs": [
    {
     "name": "stdout",
     "output_type": "stream",
     "text": [
      "+---+--------------------+-------------------+---------+--------------+-------------+--------------------+--------------------+--------------------+--------------------+-------------+\n",
      "| Id|       Correlationid|      Operationname|   Status| Eventcategory|        Level|                Time|        Subscription|    Eventinitiatedby|        Resourcetype|Resourcegroup|\n",
      "+---+--------------------+-------------------+---------+--------------+-------------+--------------------+--------------------+--------------------+--------------------+-------------+\n",
      "| 40|02c57e3c-6a26-4e7...|  Create Deployment| Accepted|Administrative|Informational|2021-06-14T13:43:...|20c6eec9-2d80-470...|techsup1000@gmail...|Microsoft.Resourc...|      new-grp|\n",
      "| 39|02c57e3c-6a26-4e7...|  Create Deployment|  Started|Administrative|Informational|2021-06-14T13:43:...|20c6eec9-2d80-470...|techsup1000@gmail...|Microsoft.Resourc...|      new-grp|\n",
      "| 31|1593862e-3db3-475...|  Create Deployment|Succeeded|Administrative|Informational|2021-06-14T13:44:...|20c6eec9-2d80-470...|techsup1000@gmail...|Microsoft.Resourc...|      new-grp|\n",
      "| 32|1593862e-3db3-475...|  Create Deployment|  Started|Administrative|Informational|2021-06-14T13:43:...|20c6eec9-2d80-470...|techsup1000@gmail...|Microsoft.Resourc...|      new-grp|\n",
      "| 33|1593862e-3db3-475...|  Create Deployment| Accepted|Administrative|Informational|2021-06-14T13:43:...|20c6eec9-2d80-470...|techsup1000@gmail...|Microsoft.Resourc...|      new-grp|\n",
      "| 38|02c57e3c-6a26-4e7...|  Create Deployment|Succeeded|Administrative|Informational|2021-06-14T13:43:...|20c6eec9-2d80-470...|techsup1000@gmail...|Microsoft.Resourc...|      new-grp|\n",
      "| 27|0e35c291-d741-4f9...|Create Pipeline Run|Succeeded|Administrative|Informational|2021-06-14T13:44:...|20c6eec9-2d80-470...|techsup1000@gmail...|Microsoft.DataFac...|      new-grp|\n",
      "| 14|1c735927-517e-470...|Create Pipeline Run|  Started|Administrative|Informational|2021-06-14T14:24:...|20c6eec9-2d80-470...|techsup1000@gmail...|Microsoft.DataFac...|      new-grp|\n",
      "| 28|0e35c291-d741-4f9...|Create Pipeline Run|  Started|Administrative|Informational|2021-06-14T13:44:...|20c6eec9-2d80-470...|techsup1000@gmail...|Microsoft.DataFac...|      new-grp|\n",
      "| 13|1c735927-517e-470...|Create Pipeline Run|Succeeded|Administrative|Informational|2021-06-14T14:24:...|20c6eec9-2d80-470...|techsup1000@gmail...|Microsoft.DataFac...|      new-grp|\n",
      "+---+--------------------+-------------------+---------+--------------+-------------+--------------------+--------------------+--------------------+--------------------+-------------+\n",
      "\n"
     ]
    },
    {
     "data": {
      "text/plain": [
       "10"
      ]
     },
     "execution_count": 174,
     "metadata": {},
     "output_type": "execute_result"
    }
   ],
   "source": [
    "tail_log_df = log_df.sort(\"Operationname\").limit(10)\n",
    "tail_log_df.show()\n",
    "tail_log_df.count()"
   ]
  },
  {
   "cell_type": "code",
   "execution_count": 175,
   "metadata": {},
   "outputs": [
    {
     "name": "stdout",
     "output_type": "stream",
     "text": [
      "+---+--------------------+--------------------+---------+--------------+-------------+--------------------+--------------------+--------------------+--------------------+-------------+\n",
      "| Id|       Correlationid|       Operationname|   Status| Eventcategory|        Level|                Time|        Subscription|    Eventinitiatedby|        Resourcetype|Resourcegroup|\n",
      "+---+--------------------+--------------------+---------+--------------+-------------+--------------------+--------------------+--------------------+--------------------+-------------+\n",
      "| 31|1593862e-3db3-475...|   Create Deployment|Succeeded|Administrative|Informational|2021-06-14T13:44:...|20c6eec9-2d80-470...|techsup1000@gmail...|Microsoft.Resourc...|      new-grp|\n",
      "| 32|1593862e-3db3-475...|   Create Deployment|  Started|Administrative|Informational|2021-06-14T13:43:...|20c6eec9-2d80-470...|techsup1000@gmail...|Microsoft.Resourc...|      new-grp|\n",
      "| 33|1593862e-3db3-475...|   Create Deployment| Accepted|Administrative|Informational|2021-06-14T13:43:...|20c6eec9-2d80-470...|techsup1000@gmail...|Microsoft.Resourc...|      new-grp|\n",
      "| 38|02c57e3c-6a26-4e7...|   Create Deployment|Succeeded|Administrative|Informational|2021-06-14T13:43:...|20c6eec9-2d80-470...|techsup1000@gmail...|Microsoft.Resourc...|      new-grp|\n",
      "| 39|02c57e3c-6a26-4e7...|   Create Deployment|  Started|Administrative|Informational|2021-06-14T13:43:...|20c6eec9-2d80-470...|techsup1000@gmail...|Microsoft.Resourc...|      new-grp|\n",
      "| 40|02c57e3c-6a26-4e7...|   Create Deployment| Accepted|Administrative|Informational|2021-06-14T13:43:...|20c6eec9-2d80-470...|techsup1000@gmail...|Microsoft.Resourc...|      new-grp|\n",
      "| 47|977afba3-bc1e-4f4...| Create Pipeline Run|Succeeded|Administrative|Informational|2021-06-14T13:41:...|20c6eec9-2d80-470...|techsup1000@gmail...|Microsoft.DataFac...|      new-grp|\n",
      "| 27|0e35c291-d741-4f9...| Create Pipeline Run|Succeeded|Administrative|Informational|2021-06-14T13:44:...|20c6eec9-2d80-470...|techsup1000@gmail...|Microsoft.DataFac...|      new-grp|\n",
      "| 28|0e35c291-d741-4f9...| Create Pipeline Run|  Started|Administrative|Informational|2021-06-14T13:44:...|20c6eec9-2d80-470...|techsup1000@gmail...|Microsoft.DataFac...|      new-grp|\n",
      "| 13|1c735927-517e-470...| Create Pipeline Run|Succeeded|Administrative|Informational|2021-06-14T14:24:...|20c6eec9-2d80-470...|techsup1000@gmail...|Microsoft.DataFac...|      new-grp|\n",
      "| 14|1c735927-517e-470...| Create Pipeline Run|  Started|Administrative|Informational|2021-06-14T14:24:...|20c6eec9-2d80-470...|techsup1000@gmail...|Microsoft.DataFac...|      new-grp|\n",
      "| 48|977afba3-bc1e-4f4...| Create Pipeline Run|  Started|Administrative|Informational|2021-06-14T13:41:...|20c6eec9-2d80-470...|techsup1000@gmail...|Microsoft.DataFac...|      new-grp|\n",
      "| 19|77152ae0-297f-4d1...|Create or Update ...|Succeeded|Administrative|Informational|2021-06-14T14:24:...|20c6eec9-2d80-470...|techsup1000@gmail...|Microsoft.DataFac...|      new-grp|\n",
      "| 20|77152ae0-297f-4d1...|Create or Update ...|  Started|Administrative|Informational|2021-06-14T14:24:...|20c6eec9-2d80-470...|techsup1000@gmail...|Microsoft.DataFac...|      new-grp|\n",
      "| 41|02c57e3c-6a26-4e7...|Create or Update ...|  Started|Administrative|Informational|2021-06-14T13:43:...|20c6eec9-2d80-470...|techsup1000@gmail...|Microsoft.DataFac...|      new-grp|\n",
      "| 40|02c57e3c-6a26-4e7...|   Create Deployment| Accepted|Administrative|Informational|2021-06-14T13:43:...|20c6eec9-2d80-470...|techsup1000@gmail...|Microsoft.Resourc...|      new-grp|\n",
      "| 39|02c57e3c-6a26-4e7...|   Create Deployment|  Started|Administrative|Informational|2021-06-14T13:43:...|20c6eec9-2d80-470...|techsup1000@gmail...|Microsoft.Resourc...|      new-grp|\n",
      "| 31|1593862e-3db3-475...|   Create Deployment|Succeeded|Administrative|Informational|2021-06-14T13:44:...|20c6eec9-2d80-470...|techsup1000@gmail...|Microsoft.Resourc...|      new-grp|\n",
      "| 32|1593862e-3db3-475...|   Create Deployment|  Started|Administrative|Informational|2021-06-14T13:43:...|20c6eec9-2d80-470...|techsup1000@gmail...|Microsoft.Resourc...|      new-grp|\n",
      "| 33|1593862e-3db3-475...|   Create Deployment| Accepted|Administrative|Informational|2021-06-14T13:43:...|20c6eec9-2d80-470...|techsup1000@gmail...|Microsoft.Resourc...|      new-grp|\n",
      "+---+--------------------+--------------------+---------+--------------+-------------+--------------------+--------------------+--------------------+--------------------+-------------+\n",
      "only showing top 20 rows\n",
      "\n"
     ]
    },
    {
     "data": {
      "text/plain": [
       "25"
      ]
     },
     "execution_count": 175,
     "metadata": {},
     "output_type": "execute_result"
    }
   ],
   "source": [
    "top_10_df = head_log_df.union(tail_log_df)\n",
    "top_10_df.show()\n",
    "top_10_df.count()"
   ]
  },
  {
   "cell_type": "code",
   "execution_count": 166,
   "metadata": {},
   "outputs": [
    {
     "name": "stdout",
     "output_type": "stream",
     "text": [
      "+---+--------------------+--------------------+---------+--------------+-------------+--------------------+--------------------+--------------------+--------------------+--------------------+\n",
      "| Id|       Correlationid|       Operationname|   Status| Eventcategory|        Level|                Time|        Subscription|    Eventinitiatedby|        Resourcetype|       Resourcegroup|\n",
      "+---+--------------------+--------------------+---------+--------------+-------------+--------------------+--------------------+--------------------+--------------------+--------------------+\n",
      "|  1|66641e13-d19f-4ce...| Delete SQL database|Succeeded|Administrative|Informational|2021-06-15T04:44:...|20c6eec9-2d80-470...|Microsoft Azure S...|Microsoft.Sql/ser...|synapseworkspace-...|\n",
      "|  2|66641e13-d19f-4ce...| Delete SQL database|  Started|Administrative|Informational|2021-06-15T04:44:...|20c6eec9-2d80-470...|Microsoft Azure S...|Microsoft.Sql/ser...|synapseworkspace-...|\n",
      "|  3|66641e13-d19f-4ce...| Delete SQL database| Accepted|Administrative|Informational|2021-06-15T04:44:...|20c6eec9-2d80-470...|Microsoft Azure S...|Microsoft.Sql/ser...|synapseworkspace-...|\n",
      "|  4|e2958162-93d9-464...|     Delete SqlPools|Succeeded|Administrative|Informational|2021-06-15T04:44:...|20c6eec9-2d80-470...|techsup1000@gmail...|Microsoft.Synapse...|             new-grp|\n",
      "|  5|e2958162-93d9-464...|     Delete SqlPools|  Started|Administrative|Informational|2021-06-15T04:44:...|20c6eec9-2d80-470...|techsup1000@gmail...|Microsoft.Synapse...|             new-grp|\n",
      "|  6|e2958162-93d9-464...|     Delete SqlPools| Accepted|Administrative|Informational|2021-06-15T04:44:...|20c6eec9-2d80-470...|techsup1000@gmail...|Microsoft.Synapse...|             new-grp|\n",
      "|  7|08cd2e19-477c-4ec...|Pause SQL Analyti...|Succeeded|Administrative|Informational|2021-06-14T17:57:...|20c6eec9-2d80-470...|techsup1000@gmail...|Microsoft.Synapse...|             new-grp|\n",
      "|  8|08cd2e19-477c-4ec...|Pause SQL Analyti...|  Started|Administrative|Informational|2021-06-14T17:55:...|20c6eec9-2d80-470...|techsup1000@gmail...|Microsoft.Synapse...|             new-grp|\n",
      "|  9|08cd2e19-477c-4ec...|Pause SQL Analyti...| Accepted|Administrative|Informational|2021-06-14T17:55:...|20c6eec9-2d80-470...|techsup1000@gmail...|Microsoft.Synapse...|             new-grp|\n",
      "| 10|d2d9d7c4-2766-4e7...|Pause a Datawareh...|Succeeded|Administrative|Informational|2021-06-14T17:56:...|20c6eec9-2d80-470...|Microsoft Azure S...|Microsoft.Sql/ser...|synapseworkspace-...|\n",
      "|  1|66641e13-d19f-4ce...| Delete SQL database|Succeeded|Administrative|Informational|2021-06-15T04:44:...|20c6eec9-2d80-470...|Microsoft Azure S...|Microsoft.Sql/ser...|synapseworkspace-...|\n",
      "|  2|66641e13-d19f-4ce...| Delete SQL database|  Started|Administrative|Informational|2021-06-15T04:44:...|20c6eec9-2d80-470...|Microsoft Azure S...|Microsoft.Sql/ser...|synapseworkspace-...|\n",
      "|  3|66641e13-d19f-4ce...| Delete SQL database| Accepted|Administrative|Informational|2021-06-15T04:44:...|20c6eec9-2d80-470...|Microsoft Azure S...|Microsoft.Sql/ser...|synapseworkspace-...|\n",
      "|  4|e2958162-93d9-464...|     Delete SqlPools|Succeeded|Administrative|Informational|2021-06-15T04:44:...|20c6eec9-2d80-470...|techsup1000@gmail...|Microsoft.Synapse...|             new-grp|\n",
      "|  5|e2958162-93d9-464...|     Delete SqlPools|  Started|Administrative|Informational|2021-06-15T04:44:...|20c6eec9-2d80-470...|techsup1000@gmail...|Microsoft.Synapse...|             new-grp|\n",
      "|  6|e2958162-93d9-464...|     Delete SqlPools| Accepted|Administrative|Informational|2021-06-15T04:44:...|20c6eec9-2d80-470...|techsup1000@gmail...|Microsoft.Synapse...|             new-grp|\n",
      "|  7|08cd2e19-477c-4ec...|Pause SQL Analyti...|Succeeded|Administrative|Informational|2021-06-14T17:57:...|20c6eec9-2d80-470...|techsup1000@gmail...|Microsoft.Synapse...|             new-grp|\n",
      "|  8|08cd2e19-477c-4ec...|Pause SQL Analyti...|  Started|Administrative|Informational|2021-06-14T17:55:...|20c6eec9-2d80-470...|techsup1000@gmail...|Microsoft.Synapse...|             new-grp|\n",
      "|  9|08cd2e19-477c-4ec...|Pause SQL Analyti...| Accepted|Administrative|Informational|2021-06-14T17:55:...|20c6eec9-2d80-470...|techsup1000@gmail...|Microsoft.Synapse...|             new-grp|\n",
      "| 10|d2d9d7c4-2766-4e7...|Pause a Datawareh...|Succeeded|Administrative|Informational|2021-06-14T17:56:...|20c6eec9-2d80-470...|Microsoft Azure S...|Microsoft.Sql/ser...|synapseworkspace-...|\n",
      "+---+--------------------+--------------------+---------+--------------+-------------+--------------------+--------------------+--------------------+--------------------+--------------------+\n",
      "only showing top 20 rows\n",
      "\n"
     ]
    },
    {
     "data": {
      "text/plain": [
       "25"
      ]
     },
     "execution_count": 166,
     "metadata": {},
     "output_type": "execute_result"
    }
   ],
   "source": [
    "top_10_df = head_log_df.unionAll(tail_log_df)\n",
    "top_10_df.show()\n",
    "top_10_df.count()"
   ]
  },
  {
   "cell_type": "code",
   "execution_count": 176,
   "metadata": {},
   "outputs": [
    {
     "name": "stdout",
     "output_type": "stream",
     "text": [
      "+---+--------------------+--------------------+---------+--------------+-------------+--------------------+--------------------+--------------------+--------------------+-------------+\n",
      "| Id|       Correlationid|       Operationname|   Status| Eventcategory|        Level|                Time|        Subscription|    Eventinitiatedby|        Resourcetype|Resourcegroup|\n",
      "+---+--------------------+--------------------+---------+--------------+-------------+--------------------+--------------------+--------------------+--------------------+-------------+\n",
      "| 40|02c57e3c-6a26-4e7...|   Create Deployment| Accepted|Administrative|Informational|2021-06-14T13:43:...|20c6eec9-2d80-470...|techsup1000@gmail...|Microsoft.Resourc...|      new-grp|\n",
      "| 31|1593862e-3db3-475...|   Create Deployment|Succeeded|Administrative|Informational|2021-06-14T13:44:...|20c6eec9-2d80-470...|techsup1000@gmail...|Microsoft.Resourc...|      new-grp|\n",
      "| 19|77152ae0-297f-4d1...|Create or Update ...|Succeeded|Administrative|Informational|2021-06-14T14:24:...|20c6eec9-2d80-470...|techsup1000@gmail...|Microsoft.DataFac...|      new-grp|\n",
      "| 28|0e35c291-d741-4f9...| Create Pipeline Run|  Started|Administrative|Informational|2021-06-14T13:44:...|20c6eec9-2d80-470...|techsup1000@gmail...|Microsoft.DataFac...|      new-grp|\n",
      "| 47|977afba3-bc1e-4f4...| Create Pipeline Run|Succeeded|Administrative|Informational|2021-06-14T13:41:...|20c6eec9-2d80-470...|techsup1000@gmail...|Microsoft.DataFac...|      new-grp|\n",
      "| 14|1c735927-517e-470...| Create Pipeline Run|  Started|Administrative|Informational|2021-06-14T14:24:...|20c6eec9-2d80-470...|techsup1000@gmail...|Microsoft.DataFac...|      new-grp|\n",
      "| 20|77152ae0-297f-4d1...|Create or Update ...|  Started|Administrative|Informational|2021-06-14T14:24:...|20c6eec9-2d80-470...|techsup1000@gmail...|Microsoft.DataFac...|      new-grp|\n",
      "| 27|0e35c291-d741-4f9...| Create Pipeline Run|Succeeded|Administrative|Informational|2021-06-14T13:44:...|20c6eec9-2d80-470...|techsup1000@gmail...|Microsoft.DataFac...|      new-grp|\n",
      "| 48|977afba3-bc1e-4f4...| Create Pipeline Run|  Started|Administrative|Informational|2021-06-14T13:41:...|20c6eec9-2d80-470...|techsup1000@gmail...|Microsoft.DataFac...|      new-grp|\n",
      "| 38|02c57e3c-6a26-4e7...|   Create Deployment|Succeeded|Administrative|Informational|2021-06-14T13:43:...|20c6eec9-2d80-470...|techsup1000@gmail...|Microsoft.Resourc...|      new-grp|\n",
      "| 32|1593862e-3db3-475...|   Create Deployment|  Started|Administrative|Informational|2021-06-14T13:43:...|20c6eec9-2d80-470...|techsup1000@gmail...|Microsoft.Resourc...|      new-grp|\n",
      "| 13|1c735927-517e-470...| Create Pipeline Run|Succeeded|Administrative|Informational|2021-06-14T14:24:...|20c6eec9-2d80-470...|techsup1000@gmail...|Microsoft.DataFac...|      new-grp|\n",
      "| 41|02c57e3c-6a26-4e7...|Create or Update ...|  Started|Administrative|Informational|2021-06-14T13:43:...|20c6eec9-2d80-470...|techsup1000@gmail...|Microsoft.DataFac...|      new-grp|\n",
      "| 39|02c57e3c-6a26-4e7...|   Create Deployment|  Started|Administrative|Informational|2021-06-14T13:43:...|20c6eec9-2d80-470...|techsup1000@gmail...|Microsoft.Resourc...|      new-grp|\n",
      "| 33|1593862e-3db3-475...|   Create Deployment| Accepted|Administrative|Informational|2021-06-14T13:43:...|20c6eec9-2d80-470...|techsup1000@gmail...|Microsoft.Resourc...|      new-grp|\n",
      "+---+--------------------+--------------------+---------+--------------+-------------+--------------------+--------------------+--------------------+--------------------+-------------+\n",
      "\n"
     ]
    },
    {
     "data": {
      "text/plain": [
       "15"
      ]
     },
     "execution_count": 176,
     "metadata": {},
     "output_type": "execute_result"
    }
   ],
   "source": [
    "top_10_df = head_log_df.union(tail_log_df).distinct()\n",
    "top_10_df.show()\n",
    "top_10_df.count()"
   ]
  },
  {
   "cell_type": "markdown",
   "metadata": {},
   "source": [
    "# Untyped Transformations: agg, apply, col, drop, groupBy, join, select, withColumn, withColumnRenamed, crossJoin, register, sql"
   ]
  },
  {
   "cell_type": "code",
   "execution_count": 5,
   "metadata": {},
   "outputs": [
    {
     "name": "stdout",
     "output_type": "stream",
     "text": [
      "+-----------------+--------------+--------------------+--------------------+-----------+--------------------+------------------+----+--------------------+-----------+--------+------------+\n",
      "|             name|         phone|               email|             address|  postalZip|              region|           country|list|                text|numberrange|currency|alphanumeric|\n",
      "+-----------------+--------------+--------------------+--------------------+-----------+--------------------+------------------+----+--------------------+-----------+--------+------------+\n",
      "|    Aurelia Combs|(818) 147-3806|purus.gravida@icl...|951-7278 Risus. Road|      62744|           Innlandet|           Ukraine| 100|lorem, eget molli...|          1|  $40.00| BJO33IPL2AV|\n",
      "|     Cairo Church|1-566-216-0485|velit.aliquam@pro...|   2397 Lacinia. Rd.|     741616|             Cartago|           Belgium| 100|Donec dignissim m...|          6|  $36.93| EDD86ZGW5PX|\n",
      "|  Halee Christian|1-756-649-5978|orci.quis@protonm...|  4158 Lobortis. Av.|   YV70 6RE|       Northern Cape|            Poland| 100|eget lacus. Mauri...|          6|   $3.70| TFB01UUD2VJ|\n",
      "|    Rhoda Shepard|(672) 207-6423|ut.pellentesque@o...|  685-8555 Justo St.|      32771|            Nordland|       Philippines| 100|morbi tristique s...|          0|  $69.93| HBQ93XCT3SS|\n",
      "|  Farrah Humphrey|(705) 234-7697|   cras.eu@yahoo.edu|658-9777 Mauris, Rd.|      79717|           Karnataka|            France| 100|molestie tortor n...|          4|  $78.78| JLD85LUU7MG|\n",
      "|      Lucian Cote|1-146-221-5813|iaculis.lacus.ped...|552-2193 Ligula. St.|       8124|      Poltava oblast|         Singapore| 100|lectus. Cum socii...|          4|  $84.38| XYP60QTY5WB|\n",
      "|      Ariana Bean|(600) 868-5876|nullam.enim.sed@y...| 711-5635 Id, Avenue|      72791|             Georgia|            Canada| 100|Proin eget odio. ...|          6|  $48.90| VGT48HQP9TS|\n",
      "|     Miranda Burt|(230) 548-6532|cum.sociis.natoqu...|      8334 Donec Rd.|05441-55792|             Alberta|         Singapore| 100|eu dolor egestas ...|          3|  $95.74| VDS45MYL0RG|\n",
      "|    Hiram Maxwell|(883) 348-8867|lorem.fringilla.o...|   394-1911 Sed Road|      62505|        Dolnośląskie|         Singapore| 100|Aliquam gravida m...|          8|  $11.58| VZJ34OBG1KT|\n",
      "|      Felix Henry|(208) 345-6447|ultrices.vivamus@...|722-7036 Aliquam Rd.|      35534|Vestfold og Telemark|           Belgium| 100|Proin sed turpis ...|          3|  $90.52| KHU81KWX1RY|\n",
      "|     Blaze Walton|1-632-541-7776|ornare.tortor.at@...|Ap #259-8629 Null...|      30818|        Davao Region|       New Zealand| 100|lacus vestibulum ...|          7|  $27.42| ANN64VPV0UU|\n",
      "|        Ryan Gray|(244) 852-2563|      in@outlook.edu|P.O. Box 520, 265...|       2898|               Borno|       Philippines| 100|blandit viverra. ...|          1|  $17.81| WNA75FMS9EW|\n",
      "|      Lars Dillon|(412) 646-8095|elit.nulla.facili...|         1556 At St.|      67732|National Capital ...|            Canada| 100|sed, facilisis vi...|          9|  $46.78| ABR76EXG4XO|\n",
      "|      Knox Dorsey|(316) 229-9128|nullam.enim@hotma...|P.O. Box 393, 216...|     655176|     Haute-Normandie|     United States| 100|enim. Nunc ut era...|          3|   $8.82| RKB63CZI2PJ|\n",
      "|     Grady Kelley|1-388-375-7565|  lacinia.at@aol.edu|P.O. Box 732, 983...|    E1X 2L6|      Kharkiv oblast|        Costa Rica| 100|mauris elit, dict...|         10|  $52.51| GNL69LGX4UL|\n",
      "|       Ivan Mccoy|1-128-269-4391| luctus@outlook.couk|P.O. Box 101, 223...|      87647|         Lviv oblast|          Pakistan| 100|sit amet nulla. D...|          7|  $54.35| SMY66QNA0FU|\n",
      "|    Noble Sweeney|1-379-108-7156|  metus@outlook.couk|      8721 Morbi St.|    J73 5XM|           Trøndelag|            Turkey| 100|ligula consectetu...|          1|   $5.52| UYE85TGA7LB|\n",
      "| Reese Williamson|1-367-303-9526|risus.nulla@yahoo...|Ap #975-3873 Urna...|      47089|     Haute-Normandie|           Austria| 100|feugiat. Lorem ip...|          6|  $12.48| SJL72CMV3MD|\n",
      "|Jennifer Faulkner|1-648-550-1677|non.massa@hotmail...|Ap #483-7310 Adip...|     553751|              Surrey|          Colombia| 100|vel quam dignissi...|          9|  $17.87| OCN52KYU6WB|\n",
      "|     Kadeem Gates|(391) 377-8363|      at@google.couk|   7909 Vehicula Rd.|     34-444|           Trøndelag|Russian Federation| 100|sed, facilisis vi...|          8|  $85.03| IDP35FQV1WP|\n",
      "+-----------------+--------------+--------------------+--------------------+-----------+--------------------+------------------+----+--------------------+-----------+--------+------------+\n",
      "only showing top 20 rows\n",
      "\n",
      "root\n",
      " |-- name: string (nullable = true)\n",
      " |-- phone: string (nullable = true)\n",
      " |-- email: string (nullable = true)\n",
      " |-- address: string (nullable = true)\n",
      " |-- postalZip: string (nullable = true)\n",
      " |-- region: string (nullable = true)\n",
      " |-- country: string (nullable = true)\n",
      " |-- list: integer (nullable = true)\n",
      " |-- text: string (nullable = true)\n",
      " |-- numberrange: integer (nullable = true)\n",
      " |-- currency: string (nullable = true)\n",
      " |-- alphanumeric: string (nullable = true)\n",
      "\n"
     ]
    }
   ],
   "source": [
    "csv_file_path= 'data/random_data.csv'\n",
    "random_df = spark.read.csv(\n",
    "    csv_file_path,\n",
    "    header=True,             \n",
    "    inferSchema=True,\n",
    "    sep=\",\",\n",
    "    encoding=\"UTF-8\",\n",
    "    nullValue=\"NA\",\n",
    "    dateFormat=\"yyyy-MM-dd\",\n",
    "    timestampFormat=\"yyyy-MM-dd HH:mm:ss\",\n",
    "    mode=\"PERMISSIVE\"\n",
    ")\n",
    "random_df.show()\n",
    "random_df.printSchema()"
   ]
  },
  {
   "cell_type": "code",
   "execution_count": null,
   "metadata": {},
   "outputs": [],
   "source": []
  },
  {
   "cell_type": "code",
   "execution_count": null,
   "metadata": {},
   "outputs": [],
   "source": []
  },
  {
   "cell_type": "code",
   "execution_count": null,
   "metadata": {},
   "outputs": [],
   "source": []
  },
  {
   "cell_type": "code",
   "execution_count": null,
   "metadata": {},
   "outputs": [],
   "source": []
  },
  {
   "cell_type": "code",
   "execution_count": null,
   "metadata": {},
   "outputs": [],
   "source": []
  },
  {
   "cell_type": "markdown",
   "metadata": {},
   "source": [
    "# Aggregate Function: approx_count_distinct, count, first, mean, variance, std_dev\n"
   ]
  },
  {
   "cell_type": "markdown",
   "metadata": {},
   "source": [
    "# Collection: explode\n"
   ]
  },
  {
   "cell_type": "markdown",
   "metadata": {},
   "source": [
    "# Column: asc, desc, cast\n"
   ]
  },
  {
   "cell_type": "markdown",
   "metadata": {},
   "source": [
    "# Date and Time Function: months, unix_timestamp, from_unixtime\n"
   ]
  },
  {
   "cell_type": "markdown",
   "metadata": {},
   "source": [
    "# Non Aggregate Function: broadcast, coalesce, col, lit\n"
   ]
  },
  {
   "cell_type": "markdown",
   "metadata": {},
   "source": [
    "# Sorting Function: asc, desc\n"
   ]
  },
  {
   "cell_type": "markdown",
   "metadata": {},
   "source": [
    "# String Function: split, regex_replace"
   ]
  },
  {
   "cell_type": "markdown",
   "metadata": {},
   "source": [
    "# UDF Function: udf\n"
   ]
  },
  {
   "cell_type": "markdown",
   "metadata": {},
   "source": [
    "# Dataframereader: text, parquet, load, textFile, json, option, format\n"
   ]
  },
  {
   "cell_type": "markdown",
   "metadata": {},
   "source": [
    "# DataFrame Na Functions: na.fill, na.drop\n"
   ]
  },
  {
   "cell_type": "markdown",
   "metadata": {},
   "source": [
    "# DataFrame Functions: printSchema, createOrReplaceTempView, cache, persist\n"
   ]
  }
 ],
 "metadata": {
  "kernelspec": {
   "display_name": "Python 3",
   "language": "python",
   "name": "python3"
  },
  "language_info": {
   "codemirror_mode": {
    "name": "ipython",
    "version": 3
   },
   "file_extension": ".py",
   "mimetype": "text/x-python",
   "name": "python",
   "nbconvert_exporter": "python",
   "pygments_lexer": "ipython3",
   "version": "3.10.12"
  }
 },
 "nbformat": 4,
 "nbformat_minor": 2
}
