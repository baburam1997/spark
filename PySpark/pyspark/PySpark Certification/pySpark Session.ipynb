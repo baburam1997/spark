{
 "cells": [
  {
   "cell_type": "markdown",
   "id": "20995413",
   "metadata": {},
   "source": [
    "# Spark Session\n",
    "When creating a Spark session, you can specify various arguments to customize its behavior. \n",
    "Here are some commonly used arguments for configuring a Spark session:\n",
    "\n",
    "appName: \n",
    "    Sets the name of the Spark application.\n",
    "    Example: .appName(\"My Spark Application\")\n",
    "\n",
    "master: \n",
    "    Specifies the cluster manager to connect to. \n",
    "    It can be set to \"local\" for running Spark in local mode or a URL for connecting to a remote cluster.\n",
    "    Example: .master(\"local\")\n",
    "\n",
    "config: \n",
    "    Allows you to set various configuration options for Spark. \n",
    "    These options can be specified as key-value pairs.\n",
    "    Example: .config(\"spark.some.config.option\", \"some-value\")\n",
    "\n",
    "enableHiveSupport: Ena\n",
    "    bles Hive support in the Spark session, allowing you to use Hive's SQL dialect and Hive metastore.\n",
    "    Example: .enableHiveSupport()\n",
    "\n",
    "spark.executor.memory: \n",
    "    Sets the amount of memory to be allocated per executor. \n",
    "    It can be specified with a size suffix such as \"g\" for gigabytes or \"m\" for megabytes.\n",
    "    Example: .config(\"spark.executor.memory\", \"4g\")\n",
    "\n",
    "spark.driver.memory: \n",
    "    Sets the amount of memory to be allocated for the Spark driver program.\n",
    "    Example: .config(\"spark.driver.memory\", \"2g\")\n",
    "\n",
    "spark.sql.shuffle.partitions: \n",
    "    Sets the number of partitions to be used when shuffling data in Spark SQL.\n",
    "    Example: .config(\"spark.sql.shuffle.partitions\", \"200\")\n",
    "\n",
    "spark.sql.catalogImplementation: \n",
    "    Sets the catalog implementation for Spark SQL. \n",
    "    It can be set to \"hive\" for Hive catalog or \"in-memory\" for an in-memory catalog.\n",
    "    Example: .config(\"spark.sql.catalogImplementation\", \"hive\")\n",
    "\n",
    "spark.jars: \n",
    "    Specifies a comma-separated list of JAR files to be distributed with the Spark application.\n",
    "    Example: .config(\"spark.jars\", \"path/to/jar1,path/to/jar2\")\n",
    "\n",
    "These are just a few examples of the arguments you can pass to a Spark session. \n",
    "There are many more configuration options available, depending on your specific requirements and use case. \n",
    "You can refer to the Spark documentation for a comprehensive list of configuration options and their descriptions: \n",
    "    https://spark.apache.org/docs/latest/configuration.html"
   ]
  },
  {
   "cell_type": "code",
   "execution_count": 1,
   "id": "d808c663",
   "metadata": {},
   "outputs": [
    {
     "name": "stderr",
     "output_type": "stream",
     "text": [
      "23/05/30 12:35:31 WARN Utils: Your hostname, FM-PC-LT-323 resolves to a loopback address: 127.0.1.1; using 192.168.18.19 instead (on interface wlp0s20f3)\n",
      "23/05/30 12:35:31 WARN Utils: Set SPARK_LOCAL_IP if you need to bind to another address\n",
      "Setting default log level to \"WARN\".\n",
      "To adjust logging level use sc.setLogLevel(newLevel). For SparkR, use setLogLevel(newLevel).\n",
      "23/05/30 12:35:32 WARN NativeCodeLoader: Unable to load native-hadoop library for your platform... using builtin-java classes where applicable\n"
     ]
    }
   ],
   "source": [
    "from pyspark.sql import SparkSession\n",
    "\n",
    "# Create a SparkSession\n",
    "spark = SparkSession.builder \\\n",
    "    .appName(\"My Spark Application\") \\\n",
    "    .master(\"local\") \\\n",
    "    .config(\"spark.executor.memory\", \"4g\") \\\n",
    "    .config(\"spark.driver.memory\", \"2g\") \\\n",
    "    .getOrCreate()\n",
    "\n",
    "# Now you can use the 'spark' object to interact with Spark"
   ]
  },
  {
   "cell_type": "markdown",
   "id": "612912d2",
   "metadata": {},
   "source": [
    "In the example above, \n",
    "appName sets the name of the Spark application to \"My Spark Application\". \n",
    "master is set to \"local\" to run Spark in local mode. The config method is used to set additional configuration options. \n",
    "In this case, we set the executor memory to 4 gigabytes (spark.executor.memory) and \n",
    "the driver memory to 2 gigabytes (spark.driver.memory).\n",
    "\n",
    "You can add more config lines to set additional configuration options as needed.\n",
    "\n",
    "Finally, the getOrCreate() method ensures that if a Spark session with the same app name and \n",
    "configuration options already exists, it will be returned instead of creating a new one. \n",
    "This allows reusing an existing Spark session or creating a new one if it doesn't exist.\n",
    "\n",
    "Note that the code snippet above is for Python. \n",
    "If you are using Spark with a different programming language,\n",
    "such as Scala or Java, the syntax may be slightly different, but the concepts remain the same."
   ]
  },
  {
   "cell_type": "code",
   "execution_count": 2,
   "id": "104ae6d2",
   "metadata": {},
   "outputs": [
    {
     "data": {
      "text/plain": [
       "[Row(Name='Alice', Age=25), Row(Name='Bob', Age=30)]"
      ]
     },
     "execution_count": 2,
     "metadata": {},
     "output_type": "execute_result"
    }
   ],
   "source": [
    "# Create a list of data\n",
    "data = [(\"Alice\", 25), (\"Bob\", 30), (\"Charlie\", 35)]\n",
    "\n",
    "# Create a DataFrame from the data\n",
    "df = spark.createDataFrame(data, [\"Name\", \"Age\"])\n",
    "\n",
    "# Show the DataFrame\n",
    "df.take(2)"
   ]
  },
  {
   "cell_type": "code",
   "execution_count": 3,
   "id": "840f1148",
   "metadata": {},
   "outputs": [
    {
     "data": {
      "text/plain": [
       "[Row(Id='1', Correlationid='66641e13-d19f-4ce5-aafd-9d5d7befa557', Operationname='Delete SQL database', Status='Succeeded', Eventcategory='Administrative', Level='Informational', Time='2021-06-15T04:44:38.223Z', Subscription='20c6eec9-2d80-4700-b0f6-4fde579a8783', Eventinitiatedby='Microsoft Azure Synapse Resource Provider', Resourcetype='Microsoft.Sql/servers/databases', Resourcegroup='synapseworkspace-managedrg-bd2eb25e-aba7-4f43-a25e-d8757194930d'),\n",
       " Row(Id='2', Correlationid='66641e13-d19f-4ce5-aafd-9d5d7befa557', Operationname='Delete SQL database', Status='Started', Eventcategory='Administrative', Level='Informational', Time='2021-06-15T04:44:21.547Z', Subscription='20c6eec9-2d80-4700-b0f6-4fde579a8783', Eventinitiatedby='Microsoft Azure Synapse Resource Provider', Resourcetype='Microsoft.Sql/servers/databases', Resourcegroup='synapseworkspace-managedrg-bd2eb25e-aba7-4f43-a25e-d8757194930d')]"
      ]
     },
     "execution_count": 3,
     "metadata": {},
     "output_type": "execute_result"
    }
   ],
   "source": [
    "log_df =spark.read.format(\"csv\").option(\"header\",\"true\").load(\"data/Log.csv\")\n",
    "log_df.take(2)"
   ]
  },
  {
   "cell_type": "code",
   "execution_count": 4,
   "id": "3773a167",
   "metadata": {},
   "outputs": [
    {
     "data": {
      "text/plain": [
       "[Row(Id='1', Correlationid='66641e13-d19f-4ce5-aafd-9d5d7befa557', Operationname='Delete SQL database', Status='Succeeded', Eventcategory='Administrative', Level='Informational', Time='2021-06-15T04:44:38.223Z', Subscription='20c6eec9-2d80-4700-b0f6-4fde579a8783', Eventinitiatedby='Microsoft Azure Synapse Resource Provider', Resourcetype='Microsoft.Sql/servers/databases', Resourcegroup='synapseworkspace-managedrg-bd2eb25e-aba7-4f43-a25e-d8757194930d'),\n",
       " Row(Id='2', Correlationid='66641e13-d19f-4ce5-aafd-9d5d7befa557', Operationname='Delete SQL database', Status='Started', Eventcategory='Administrative', Level='Informational', Time='2021-06-15T04:44:21.547Z', Subscription='20c6eec9-2d80-4700-b0f6-4fde579a8783', Eventinitiatedby='Microsoft Azure Synapse Resource Provider', Resourcetype='Microsoft.Sql/servers/databases', Resourcegroup='synapseworkspace-managedrg-bd2eb25e-aba7-4f43-a25e-d8757194930d'),\n",
       " Row(Id='3', Correlationid='66641e13-d19f-4ce5-aafd-9d5d7befa557', Operationname='Delete SQL database', Status='Accepted', Eventcategory='Administrative', Level='Informational', Time='2021-06-15T04:44:21.702Z', Subscription='20c6eec9-2d80-4700-b0f6-4fde579a8783', Eventinitiatedby='Microsoft Azure Synapse Resource Provider', Resourcetype='Microsoft.Sql/servers/databases', Resourcegroup='synapseworkspace-managedrg-bd2eb25e-aba7-4f43-a25e-d8757194930d'),\n",
       " Row(Id='4', Correlationid='e2958162-93d9-4643-a847-82cf25c49930', Operationname='Delete SqlPools', Status='Succeeded', Eventcategory='Administrative', Level='Informational', Time='2021-06-15T04:44:31.332Z', Subscription='20c6eec9-2d80-4700-b0f6-4fde579a8783', Eventinitiatedby='techsup1000@gmail.com', Resourcetype='Microsoft.Synapse/workspaces/sqlPools', Resourcegroup='new-grp'),\n",
       " Row(Id='5', Correlationid='e2958162-93d9-4643-a847-82cf25c49930', Operationname='Delete SqlPools', Status='Started', Eventcategory='Administrative', Level='Informational', Time='2021-06-15T04:44:12.533Z', Subscription='20c6eec9-2d80-4700-b0f6-4fde579a8783', Eventinitiatedby='techsup1000@gmail.com', Resourcetype='Microsoft.Synapse/workspaces/sqlPools', Resourcegroup='new-grp')]"
      ]
     },
     "execution_count": 4,
     "metadata": {},
     "output_type": "execute_result"
    }
   ],
   "source": [
    "log_df.take(5)"
   ]
  },
  {
   "cell_type": "code",
   "execution_count": 5,
   "id": "f2301586",
   "metadata": {},
   "outputs": [
    {
     "data": {
      "text/plain": [
       "[Row(Id=1, Correlationid='66641e13-d19f-4ce5-aafd-9d5d7befa557', Operationname='Delete SQL database', Status='Succeeded', Eventcategory='Administrative', Level='Informational', Time=datetime.datetime(2021, 6, 15, 10, 29, 38, 223000), Subscription='20c6eec9-2d80-4700-b0f6-4fde579a8783', Eventinitiatedby='Microsoft Azure Synapse Resource Provider', Resourcetype='Microsoft.Sql/servers/databases', Resourcegroup='synapseworkspace-managedrg-bd2eb25e-aba7-4f43-a25e-d8757194930d'),\n",
       " Row(Id=2, Correlationid='66641e13-d19f-4ce5-aafd-9d5d7befa557', Operationname='Delete SQL database', Status='Started', Eventcategory='Administrative', Level='Informational', Time=datetime.datetime(2021, 6, 15, 10, 29, 21, 547000), Subscription='20c6eec9-2d80-4700-b0f6-4fde579a8783', Eventinitiatedby='Microsoft Azure Synapse Resource Provider', Resourcetype='Microsoft.Sql/servers/databases', Resourcegroup='synapseworkspace-managedrg-bd2eb25e-aba7-4f43-a25e-d8757194930d'),\n",
       " Row(Id=3, Correlationid='66641e13-d19f-4ce5-aafd-9d5d7befa557', Operationname='Delete SQL database', Status='Accepted', Eventcategory='Administrative', Level='Informational', Time=datetime.datetime(2021, 6, 15, 10, 29, 21, 702000), Subscription='20c6eec9-2d80-4700-b0f6-4fde579a8783', Eventinitiatedby='Microsoft Azure Synapse Resource Provider', Resourcetype='Microsoft.Sql/servers/databases', Resourcegroup='synapseworkspace-managedrg-bd2eb25e-aba7-4f43-a25e-d8757194930d'),\n",
       " Row(Id=4, Correlationid='e2958162-93d9-4643-a847-82cf25c49930', Operationname='Delete SqlPools', Status='Succeeded', Eventcategory='Administrative', Level='Informational', Time=datetime.datetime(2021, 6, 15, 10, 29, 31, 332000), Subscription='20c6eec9-2d80-4700-b0f6-4fde579a8783', Eventinitiatedby='techsup1000@gmail.com', Resourcetype='Microsoft.Synapse/workspaces/sqlPools', Resourcegroup='new-grp'),\n",
       " Row(Id=5, Correlationid='e2958162-93d9-4643-a847-82cf25c49930', Operationname='Delete SqlPools', Status='Started', Eventcategory='Administrative', Level='Informational', Time=datetime.datetime(2021, 6, 15, 10, 29, 12, 533000), Subscription='20c6eec9-2d80-4700-b0f6-4fde579a8783', Eventinitiatedby='techsup1000@gmail.com', Resourcetype='Microsoft.Synapse/workspaces/sqlPools', Resourcegroup='new-grp')]"
      ]
     },
     "execution_count": 5,
     "metadata": {},
     "output_type": "execute_result"
    }
   ],
   "source": [
    "log_df = spark.read\\\n",
    "    .option(\"inferSchema\", \"true\")\\\n",
    "    .option(\"header\", \"true\")\\\n",
    "    .csv(\"data/Log.csv\")\n",
    "log_df.take(5)"
   ]
  },
  {
   "cell_type": "code",
   "execution_count": 6,
   "id": "6b34a6d5",
   "metadata": {},
   "outputs": [
    {
     "name": "stdout",
     "output_type": "stream",
     "text": [
      "== Physical Plan ==\n",
      "AdaptiveSparkPlan isFinalPlan=false\n",
      "+- Sort [Correlationid#83 ASC NULLS FIRST], true, 0\n",
      "   +- Exchange rangepartitioning(Correlationid#83 ASC NULLS FIRST, 200), ENSURE_REQUIREMENTS, [plan_id=72]\n",
      "      +- FileScan csv [Id#82,Correlationid#83,Operationname#84,Status#85,Eventcategory#86,Level#87,Time#88,Subscription#89,Eventinitiatedby#90,Resourcetype#91,Resourcegroup#92] Batched: false, DataFilters: [], Format: CSV, Location: InMemoryFileIndex(1 paths)[file:/home/fm-pc-lt-323/FuseM/pySpark/PySpark Certification/data/Log.csv], PartitionFilters: [], PushedFilters: [], ReadSchema: struct<Id:int,Correlationid:string,Operationname:string,Status:string,Eventcategory:string,Level:...\n",
      "\n",
      "\n"
     ]
    }
   ],
   "source": [
    "log_df.sort(\"Correlationid\").explain()"
   ]
  },
  {
   "cell_type": "code",
   "execution_count": 7,
   "id": "672056b5",
   "metadata": {},
   "outputs": [
    {
     "data": {
      "text/plain": [
       "[Row(Id=39, Correlationid='02c57e3c-6a26-4e7c-a0dd-523bae7a210d', Operationname='Create Deployment', Status='Started', Eventcategory='Administrative', Level='Informational', Time=datetime.datetime(2021, 6, 14, 19, 28, 31, 168000), Subscription='20c6eec9-2d80-4700-b0f6-4fde579a8783', Eventinitiatedby='techsup1000@gmail.com', Resourcetype='Microsoft.Resources/deployments', Resourcegroup='new-grp'),\n",
       " Row(Id=41, Correlationid='02c57e3c-6a26-4e7c-a0dd-523bae7a210d', Operationname='Create or Update Dataset', Status='Started', Eventcategory='Administrative', Level='Informational', Time=datetime.datetime(2021, 6, 14, 19, 28, 36, 597000), Subscription='20c6eec9-2d80-4700-b0f6-4fde579a8783', Eventinitiatedby='techsup1000@gmail.com', Resourcetype='Microsoft.DataFactory/factories/datasets', Resourcegroup='new-grp'),\n",
       " Row(Id=40, Correlationid='02c57e3c-6a26-4e7c-a0dd-523bae7a210d', Operationname='Create Deployment', Status='Accepted', Eventcategory='Administrative', Level='Informational', Time=datetime.datetime(2021, 6, 14, 19, 28, 35, 589000), Subscription='20c6eec9-2d80-4700-b0f6-4fde579a8783', Eventinitiatedby='techsup1000@gmail.com', Resourcetype='Microsoft.Resources/deployments', Resourcegroup='new-grp')]"
      ]
     },
     "execution_count": 7,
     "metadata": {},
     "output_type": "execute_result"
    }
   ],
   "source": [
    "spark.conf.set(\"spark.sql.shuffle.partitions\", \"5\")\n",
    "log_df.sort(\"Correlationid\").take(3)"
   ]
  },
  {
   "cell_type": "code",
   "execution_count": 8,
   "id": "5b09eaf7",
   "metadata": {},
   "outputs": [],
   "source": [
    "log_df.createOrReplaceTempView(\"log_df_t\")"
   ]
  },
  {
   "cell_type": "code",
   "execution_count": 9,
   "id": "f7cc546c",
   "metadata": {},
   "outputs": [],
   "source": [
    "sqlWay = spark.sql(\"\"\"\n",
    "SELECT Resourcetype, count(Resourcetype)\n",
    "FROM log_df_t\n",
    "GROUP BY Resourcetype\n",
    "\"\"\")"
   ]
  },
  {
   "cell_type": "code",
   "execution_count": 10,
   "id": "c4843846",
   "metadata": {},
   "outputs": [],
   "source": [
    "dataFrameWay = log_df.groupBy(\"Resourcetype\").count()"
   ]
  },
  {
   "cell_type": "code",
   "execution_count": 11,
   "id": "3127f341",
   "metadata": {},
   "outputs": [
    {
     "name": "stdout",
     "output_type": "stream",
     "text": [
      "== Physical Plan ==\n",
      "AdaptiveSparkPlan isFinalPlan=false\n",
      "+- HashAggregate(keys=[Resourcetype#91], functions=[count(Resourcetype#91)])\n",
      "   +- Exchange hashpartitioning(Resourcetype#91, 5), ENSURE_REQUIREMENTS, [plan_id=94]\n",
      "      +- HashAggregate(keys=[Resourcetype#91], functions=[partial_count(Resourcetype#91)])\n",
      "         +- FileScan csv [Resourcetype#91] Batched: false, DataFilters: [], Format: CSV, Location: InMemoryFileIndex(1 paths)[file:/home/fm-pc-lt-323/FuseM/pySpark/PySpark Certification/data/Log.csv], PartitionFilters: [], PushedFilters: [], ReadSchema: struct<Resourcetype:string>\n",
      "\n",
      "\n"
     ]
    }
   ],
   "source": [
    "sqlWay.explain()"
   ]
  },
  {
   "cell_type": "code",
   "execution_count": 12,
   "id": "d9ba25d5",
   "metadata": {},
   "outputs": [
    {
     "name": "stdout",
     "output_type": "stream",
     "text": [
      "== Physical Plan ==\n",
      "AdaptiveSparkPlan isFinalPlan=false\n",
      "+- HashAggregate(keys=[Resourcetype#91], functions=[count(1)])\n",
      "   +- Exchange hashpartitioning(Resourcetype#91, 5), ENSURE_REQUIREMENTS, [plan_id=107]\n",
      "      +- HashAggregate(keys=[Resourcetype#91], functions=[partial_count(1)])\n",
      "         +- FileScan csv [Resourcetype#91] Batched: false, DataFilters: [], Format: CSV, Location: InMemoryFileIndex(1 paths)[file:/home/fm-pc-lt-323/FuseM/pySpark/PySpark Certification/data/Log.csv], PartitionFilters: [], PushedFilters: [], ReadSchema: struct<Resourcetype:string>\n",
      "\n",
      "\n"
     ]
    }
   ],
   "source": [
    "dataFrameWay.explain()"
   ]
  },
  {
   "cell_type": "code",
   "execution_count": 13,
   "id": "b811e9be",
   "metadata": {},
   "outputs": [
    {
     "name": "stdout",
     "output_type": "stream",
     "text": [
      "root\n",
      " |-- Id: integer (nullable = true)\n",
      " |-- Correlationid: string (nullable = true)\n",
      " |-- Operationname: string (nullable = true)\n",
      " |-- Status: string (nullable = true)\n",
      " |-- Eventcategory: string (nullable = true)\n",
      " |-- Level: string (nullable = true)\n",
      " |-- Time: timestamp (nullable = true)\n",
      " |-- Subscription: string (nullable = true)\n",
      " |-- Eventinitiatedby: string (nullable = true)\n",
      " |-- Resourcetype: string (nullable = true)\n",
      " |-- Resourcegroup: string (nullable = true)\n",
      "\n"
     ]
    }
   ],
   "source": [
    "log_df.printSchema()"
   ]
  },
  {
   "cell_type": "code",
   "execution_count": 14,
   "id": "fe679969",
   "metadata": {},
   "outputs": [
    {
     "data": {
      "text/plain": [
       "[Row(id=0), Row(id=1), Row(id=2), Row(id=3), Row(id=4), Row(id=5)]"
      ]
     },
     "execution_count": 14,
     "metadata": {},
     "output_type": "execute_result"
    }
   ],
   "source": [
    "spark.range(6).collect()"
   ]
  },
  {
   "cell_type": "code",
   "execution_count": 15,
   "id": "19d548cc",
   "metadata": {},
   "outputs": [
    {
     "data": {
      "text/plain": [
       "'babu'"
      ]
     },
     "execution_count": 15,
     "metadata": {},
     "output_type": "execute_result"
    }
   ],
   "source": [
    "from pyspark.sql import Row\n",
    "blog_row = Row('1','babu','23')\n",
    "blog_row[1]"
   ]
  },
  {
   "cell_type": "code",
   "execution_count": 16,
   "id": "429486f4",
   "metadata": {},
   "outputs": [
    {
     "name": "stdout",
     "output_type": "stream",
     "text": [
      "+---+----+----+\n",
      "| id|name|roll|\n",
      "+---+----+----+\n",
      "|  2| ram|  23|\n",
      "|  4|raja|  32|\n",
      "+---+----+----+\n",
      "\n"
     ]
    }
   ],
   "source": [
    "rows = [Row('2','ram','23'),Row('4','raja','32')]\n",
    "author_df = spark.createDataFrame(rows,['id','name','roll'])\n",
    "author_df.show()"
   ]
  },
  {
   "cell_type": "code",
   "execution_count": 17,
   "id": "f72ffc97",
   "metadata": {},
   "outputs": [
    {
     "data": {
      "text/plain": [
       "StructType([StructField('_c0', StringType(), True), StructField('_c1', StringType(), True), StructField('_c2', StringType(), True), StructField('_c3', StringType(), True), StructField('_c4', StringType(), True), StructField('_c5', StringType(), True), StructField('_c6', StringType(), True), StructField('_c7', StringType(), True), StructField('_c8', StringType(), True), StructField('_c9', StringType(), True), StructField('_c10', StringType(), True)])"
      ]
     },
     "execution_count": 17,
     "metadata": {},
     "output_type": "execute_result"
    }
   ],
   "source": [
    "spark.read.format(\"csv\").load(\"data/Log.csv\").schema"
   ]
  },
  {
   "cell_type": "code",
   "execution_count": 18,
   "id": "17984fec",
   "metadata": {},
   "outputs": [
    {
     "name": "stderr",
     "output_type": "stream",
     "text": [
      "23/05/30 12:35:37 WARN SparkSession: Using an existing Spark session; only runtime SQL configurations will take effect.\n"
     ]
    }
   ],
   "source": [
    "# imporing\n",
    "from pyspark.sql import SparkSession\n",
    "\n",
    "# Create a SparkSession\n",
    "spark = SparkSession.builder.appName(\"Basic Structured Operations\").getOrCreate()"
   ]
  },
  {
   "cell_type": "code",
   "execution_count": 19,
   "id": "441ba864",
   "metadata": {},
   "outputs": [
    {
     "name": "stdout",
     "output_type": "stream",
     "text": [
      "+---------------+--------------+--------------------+--------------------+---------+-------------+-----------+----+--------------------+-----------+--------+------------+\n",
      "|           name|         phone|               email|             address|postalZip|       region|    country|list|                text|numberrange|currency|alphanumeric|\n",
      "+---------------+--------------+--------------------+--------------------+---------+-------------+-----------+----+--------------------+-----------+--------+------------+\n",
      "|  Aurelia Combs|(818) 147-3806|purus.gravida@icl...|951-7278 Risus. Road|    62744|    Innlandet|    Ukraine| 100|lorem, eget molli...|          1|  $40.00| BJO33IPL2AV|\n",
      "|   Cairo Church|1-566-216-0485|velit.aliquam@pro...|   2397 Lacinia. Rd.|   741616|      Cartago|    Belgium| 100|Donec dignissim m...|          6|  $36.93| EDD86ZGW5PX|\n",
      "|Halee Christian|1-756-649-5978|orci.quis@protonm...|  4158 Lobortis. Av.| YV70 6RE|Northern Cape|     Poland| 100|eget lacus. Mauri...|          6|   $3.70| TFB01UUD2VJ|\n",
      "|  Rhoda Shepard|(672) 207-6423|ut.pellentesque@o...|  685-8555 Justo St.|    32771|     Nordland|Philippines| 100|morbi tristique s...|          0|  $69.93| HBQ93XCT3SS|\n",
      "|Farrah Humphrey|(705) 234-7697|   cras.eu@yahoo.edu|658-9777 Mauris, Rd.|    79717|    Karnataka|     France| 100|molestie tortor n...|          4|  $78.78| JLD85LUU7MG|\n",
      "+---------------+--------------+--------------------+--------------------+---------+-------------+-----------+----+--------------------+-----------+--------+------------+\n",
      "only showing top 5 rows\n",
      "\n"
     ]
    }
   ],
   "source": [
    "random_data_df=spark.read.format('csv').option(\"header\",\"true\").load(\"data/random_data.csv\")\n",
    "random_data_df.show(5)"
   ]
  },
  {
   "cell_type": "code",
   "execution_count": 20,
   "id": "1319dc3a",
   "metadata": {},
   "outputs": [
    {
     "name": "stdout",
     "output_type": "stream",
     "text": [
      "root\n",
      " |-- name: string (nullable = true)\n",
      " |-- phone: string (nullable = true)\n",
      " |-- email: string (nullable = true)\n",
      " |-- address: string (nullable = true)\n",
      " |-- postalZip: string (nullable = true)\n",
      " |-- region: string (nullable = true)\n",
      " |-- country: string (nullable = true)\n",
      " |-- list: string (nullable = true)\n",
      " |-- text: string (nullable = true)\n",
      " |-- numberrange: string (nullable = true)\n",
      " |-- currency: string (nullable = true)\n",
      " |-- alphanumeric: string (nullable = true)\n",
      "\n"
     ]
    }
   ],
   "source": [
    "random_data_df.printSchema()"
   ]
  },
  {
   "cell_type": "code",
   "execution_count": 21,
   "id": "f4ac9a30",
   "metadata": {},
   "outputs": [],
   "source": [
    "from pyspark.sql.types import StructField, StructType, StringType, LongType,IntegerType\n",
    "\n",
    "myManualSchema = StructType([\n",
    "    StructField(\"name\", StringType(), True),\n",
    "    StructField(\"phone\", StringType(), True),\n",
    "    StructField(\"email\", StringType(), True),\n",
    "    StructField(\"postalZip\", StringType(), True),\n",
    "    StructField(\"region\", StringType(), True),\n",
    "    StructField(\"country\", StringType(), True),\n",
    "    StructField(\"list\", StringType(), True),\n",
    "    StructField(\"text\", StringType(), True),\n",
    "    StructField(\"numberrange\", StringType(), True),\n",
    "    StructField(\"currency\", StringType(), True),\n",
    "    StructField(\"alphanumeric\", StringType(), True),\n",
    "    ])\n",
    "\n",
    "random_df = spark.read.format(\"csv\").schema(myManualSchema)\\\n",
    ".load(\"data/random_data.csv\")"
   ]
  },
  {
   "cell_type": "code",
   "execution_count": 23,
   "id": "2165b533",
   "metadata": {},
   "outputs": [
    {
     "name": "stdout",
     "output_type": "stream",
     "text": [
      "+---------------+--------------+--------------------+--------------------+---------+-------------+-----------+----+--------------------+-----------+------------+\n",
      "|           name|         phone|               email|           postalZip|   region|      country|       list|text|         numberrange|   currency|alphanumeric|\n",
      "+---------------+--------------+--------------------+--------------------+---------+-------------+-----------+----+--------------------+-----------+------------+\n",
      "|           name|         phone|               email|             address|postalZip|       region|    country|list|                text|numberrange|    currency|\n",
      "|  Aurelia Combs|(818) 147-3806|purus.gravida@icl...|951-7278 Risus. Road|    62744|    Innlandet|    Ukraine| 100|lorem, eget molli...|          1|      $40.00|\n",
      "|   Cairo Church|1-566-216-0485|velit.aliquam@pro...|   2397 Lacinia. Rd.|   741616|      Cartago|    Belgium| 100|Donec dignissim m...|          6|      $36.93|\n",
      "|Halee Christian|1-756-649-5978|orci.quis@protonm...|  4158 Lobortis. Av.| YV70 6RE|Northern Cape|     Poland| 100|eget lacus. Mauri...|          6|       $3.70|\n",
      "|  Rhoda Shepard|(672) 207-6423|ut.pellentesque@o...|  685-8555 Justo St.|    32771|     Nordland|Philippines| 100|morbi tristique s...|          0|      $69.93|\n",
      "+---------------+--------------+--------------------+--------------------+---------+-------------+-----------+----+--------------------+-----------+------------+\n",
      "only showing top 5 rows\n",
      "\n"
     ]
    }
   ],
   "source": [
    "random_df.show(5)"
   ]
  },
  {
   "cell_type": "code",
   "execution_count": 42,
   "id": "c90c714b",
   "metadata": {},
   "outputs": [
    {
     "name": "stdout",
     "output_type": "stream",
     "text": [
      "+---------------+--------------+--------------------+--------------------+---------+-------------+-----------+----+--------------------+-----------+--------+------------+\n",
      "|      full_name|         phone|               email|             address|postalZip|       region|    country|list|                text|numberrange|currency|alphanumeric|\n",
      "+---------------+--------------+--------------------+--------------------+---------+-------------+-----------+----+--------------------+-----------+--------+------------+\n",
      "|  Aurelia Combs|(818) 147-3806|purus.gravida@icl...|951-7278 Risus. Road|    62744|    Innlandet|    Ukraine| 100|lorem, eget molli...|          1|  $40.00| BJO33IPL2AV|\n",
      "|   Cairo Church|1-566-216-0485|velit.aliquam@pro...|   2397 Lacinia. Rd.|   741616|      Cartago|    Belgium| 100|Donec dignissim m...|          6|  $36.93| EDD86ZGW5PX|\n",
      "|Halee Christian|1-756-649-5978|orci.quis@protonm...|  4158 Lobortis. Av.| YV70 6RE|Northern Cape|     Poland| 100|eget lacus. Mauri...|          6|   $3.70| TFB01UUD2VJ|\n",
      "|  Rhoda Shepard|(672) 207-6423|ut.pellentesque@o...|  685-8555 Justo St.|    32771|     Nordland|Philippines| 100|morbi tristique s...|          0|  $69.93| HBQ93XCT3SS|\n",
      "|Farrah Humphrey|(705) 234-7697|   cras.eu@yahoo.edu|658-9777 Mauris, Rd.|    79717|    Karnataka|     France| 100|molestie tortor n...|          4|  $78.78| JLD85LUU7MG|\n",
      "+---------------+--------------+--------------------+--------------------+---------+-------------+-----------+----+--------------------+-----------+--------+------------+\n",
      "only showing top 5 rows\n",
      "\n"
     ]
    }
   ],
   "source": [
    "random_data_df.withColumnRenamed(\"name\", \"full_name\").show(5)"
   ]
  },
  {
   "cell_type": "code",
   "execution_count": 41,
   "id": "6b416412",
   "metadata": {},
   "outputs": [
    {
     "name": "stdout",
     "output_type": "stream",
     "text": [
      "+---------------+--------------+--------------------+--------------------+---------+-------------+-----------+----+--------------------+-----------+--------+------------+----------+---------+\n",
      "|           name|         phone|               email|             address|postalZip|       region|    country|list|                text|numberrange|currency|alphanumeric|first_name|last_name|\n",
      "+---------------+--------------+--------------------+--------------------+---------+-------------+-----------+----+--------------------+-----------+--------+------------+----------+---------+\n",
      "|  Aurelia Combs|(818) 147-3806|purus.gravida@icl...|951-7278 Risus. Road|    62744|    Innlandet|    Ukraine| 100|lorem, eget molli...|          1|  $40.00| BJO33IPL2AV|   Aurelia|    Combs|\n",
      "|   Cairo Church|1-566-216-0485|velit.aliquam@pro...|   2397 Lacinia. Rd.|   741616|      Cartago|    Belgium| 100|Donec dignissim m...|          6|  $36.93| EDD86ZGW5PX|     Cairo|   Church|\n",
      "|Halee Christian|1-756-649-5978|orci.quis@protonm...|  4158 Lobortis. Av.| YV70 6RE|Northern Cape|     Poland| 100|eget lacus. Mauri...|          6|   $3.70| TFB01UUD2VJ|     Halee|Christian|\n",
      "|  Rhoda Shepard|(672) 207-6423|ut.pellentesque@o...|  685-8555 Justo St.|    32771|     Nordland|Philippines| 100|morbi tristique s...|          0|  $69.93| HBQ93XCT3SS|     Rhoda|  Shepard|\n",
      "|Farrah Humphrey|(705) 234-7697|   cras.eu@yahoo.edu|658-9777 Mauris, Rd.|    79717|    Karnataka|     France| 100|molestie tortor n...|          4|  $78.78| JLD85LUU7MG|    Farrah| Humphrey|\n",
      "+---------------+--------------+--------------------+--------------------+---------+-------------+-----------+----+--------------------+-----------+--------+------------+----------+---------+\n",
      "only showing top 5 rows\n",
      "\n"
     ]
    }
   ],
   "source": [
    "from pyspark.sql.functions import *\n",
    "random_data_df\\\n",
    "    .withColumn('first_name', split(random_data_df['name'], ' ').getItem(0))\\\n",
    "    .withColumn('last_name', split(random_data_df['name'], ' ').getItem(1))\\\n",
    "    .show(5)"
   ]
  },
  {
   "cell_type": "code",
   "execution_count": 46,
   "id": "a090aa43",
   "metadata": {},
   "outputs": [
    {
     "data": {
      "text/plain": [
       "['name',\n",
       " 'phone',\n",
       " 'email',\n",
       " 'address',\n",
       " 'postalZip',\n",
       " 'country',\n",
       " 'numberrange',\n",
       " 'currency',\n",
       " 'alphanumeric']"
      ]
     },
     "execution_count": 46,
     "metadata": {},
     "output_type": "execute_result"
    }
   ],
   "source": [
    "random_data_df.drop(\"region\",\"list\",\"text\").columns"
   ]
  },
  {
   "cell_type": "code",
   "execution_count": 47,
   "id": "f23f0179",
   "metadata": {},
   "outputs": [
    {
     "data": {
      "text/plain": [
       "DataFrame[name: string, phone: string, email: string, address: string, postalZip: string, region: string, country: string, list: int, text: string, numberrange: string, currency: string, alphanumeric: string]"
      ]
     },
     "execution_count": 47,
     "metadata": {},
     "output_type": "execute_result"
    }
   ],
   "source": [
    "random_data_df.withColumn(\"list\", col(\"list\").cast(\"Int\"))"
   ]
  },
  {
   "cell_type": "code",
   "execution_count": 53,
   "id": "e1c90f42",
   "metadata": {},
   "outputs": [
    {
     "name": "stdout",
     "output_type": "stream",
     "text": [
      "+-----------------+--------------+--------------------+--------------------+---------+---------------+-------+----+--------------------+-----------+--------+------------+\n",
      "|             name|         phone|               email|             address|postalZip|         region|country|list|                text|numberrange|currency|alphanumeric|\n",
      "+-----------------+--------------+--------------------+--------------------+---------+---------------+-------+----+--------------------+-----------+--------+------------+\n",
      "|    Aurelia Combs|(818) 147-3806|purus.gravida@icl...|951-7278 Risus. Road|    62744|      Innlandet|Ukraine| 100|lorem, eget molli...|          1|  $40.00| BJO33IPL2AV|\n",
      "|Valentine O'Neill|(364) 583-4329|pharetra.sed@hotm...|Ap #490-2719 Dict...|  6955 IU|New South Wales|Ukraine| 100|nibh dolor, nonum...|          2|  $61.17| USS48ETS7HG|\n",
      "+-----------------+--------------+--------------------+--------------------+---------+---------------+-------+----+--------------------+-----------+--------+------------+\n",
      "\n"
     ]
    }
   ],
   "source": [
    "random_data_df.filter(col(\"country\") == \"Ukraine\").show(2)"
   ]
  },
  {
   "cell_type": "code",
   "execution_count": 55,
   "id": "c097a6a1",
   "metadata": {},
   "outputs": [
    {
     "name": "stdout",
     "output_type": "stream",
     "text": [
      "+-------------+--------------+--------------------+--------------------+---------+---------+-------+----+--------------------+-----------+--------+------------+\n",
      "|         name|         phone|               email|             address|postalZip|   region|country|list|                text|numberrange|currency|alphanumeric|\n",
      "+-------------+--------------+--------------------+--------------------+---------+---------+-------+----+--------------------+-----------+--------+------------+\n",
      "|Aurelia Combs|(818) 147-3806|purus.gravida@icl...|951-7278 Risus. Road|    62744|Innlandet|Ukraine| 100|lorem, eget molli...|          1|  $40.00| BJO33IPL2AV|\n",
      "| Cairo Church|1-566-216-0485|velit.aliquam@pro...|   2397 Lacinia. Rd.|   741616|  Cartago|Belgium| 100|Donec dignissim m...|          6|  $36.93| EDD86ZGW5PX|\n",
      "+-------------+--------------+--------------------+--------------------+---------+---------+-------+----+--------------------+-----------+--------+------------+\n",
      "only showing top 2 rows\n",
      "\n"
     ]
    }
   ],
   "source": [
    "random_data_df.where(\"list ==100\").show(2)"
   ]
  },
  {
   "cell_type": "code",
   "execution_count": 72,
   "id": "3fcb3b60",
   "metadata": {},
   "outputs": [
    {
     "name": "stdout",
     "output_type": "stream",
     "text": [
      "+----+-----+-----+-------+---------+------+-------+----+----+-----------+--------+------------+\n",
      "|name|phone|email|address|postalZip|region|country|list|text|numberrange|currency|alphanumeric|\n",
      "+----+-----+-----+-------+---------+------+-------+----+----+-----------+--------+------------+\n",
      "+----+-----+-----+-------+---------+------+-------+----+----+-----------+--------+------------+\n",
      "\n"
     ]
    }
   ],
   "source": [
    "\n",
    "# use this \n",
    "random_data_df\\\n",
    "    .filter(col(\"country\") == \"Ukraine\")\\\n",
    "    .filter(col(\"postalZip\")==\"741616\")\\\n",
    "    .show(2)"
   ]
  },
  {
   "cell_type": "code",
   "execution_count": 76,
   "id": "cb9e733c",
   "metadata": {},
   "outputs": [
    {
     "name": "stdout",
     "output_type": "stream",
     "text": [
      "+-----------------+--------------+--------------------+--------------------+---------+---------------+-------+----+--------------------+-----------+--------+------------+\n",
      "|             name|         phone|               email|             address|postalZip|         region|country|list|                text|numberrange|currency|alphanumeric|\n",
      "+-----------------+--------------+--------------------+--------------------+---------+---------------+-------+----+--------------------+-----------+--------+------------+\n",
      "|    Aurelia Combs|(818) 147-3806|purus.gravida@icl...|951-7278 Risus. Road|    62744|      Innlandet|Ukraine| 100|lorem, eget molli...|          1|  $40.00| BJO33IPL2AV|\n",
      "|Valentine O'Neill|(364) 583-4329|pharetra.sed@hotm...|Ap #490-2719 Dict...|  6955 IU|New South Wales|Ukraine| 100|nibh dolor, nonum...|          2|  $61.17| USS48ETS7HG|\n",
      "+-----------------+--------------+--------------------+--------------------+---------+---------------+-------+----+--------------------+-----------+--------+------------+\n",
      "\n",
      "+-----------------+--------------+--------------------+--------------------+---------+---------------+-------+----+--------------------+-----------+--------+------------+\n",
      "|             name|         phone|               email|             address|postalZip|         region|country|list|                text|numberrange|currency|alphanumeric|\n",
      "+-----------------+--------------+--------------------+--------------------+---------+---------------+-------+----+--------------------+-----------+--------+------------+\n",
      "|    Aurelia Combs|(818) 147-3806|purus.gravida@icl...|951-7278 Risus. Road|    62744|      Innlandet|Ukraine| 100|lorem, eget molli...|          1|  $40.00| BJO33IPL2AV|\n",
      "|Valentine O'Neill|(364) 583-4329|pharetra.sed@hotm...|Ap #490-2719 Dict...|  6955 IU|New South Wales|Ukraine| 100|nibh dolor, nonum...|          2|  $61.17| USS48ETS7HG|\n",
      "+-----------------+--------------+--------------------+--------------------+---------+---------------+-------+----+--------------------+-----------+--------+------------+\n",
      "\n"
     ]
    }
   ],
   "source": [
    "\n",
    "random_data_df\\\n",
    "    .where((col(\"country\") == \"Ukraine\") & (col(\"list\")==100))\\\n",
    "    .show(2)\n",
    "\n",
    "random_data_df\\\n",
    "    .where(col(\"country\") == \"Ukraine\")\\\n",
    "    .where(col(\"list\")==100)\\\n",
    "    .show(2)"
   ]
  },
  {
   "cell_type": "code",
   "execution_count": 77,
   "id": "c5c7ba3a",
   "metadata": {},
   "outputs": [
    {
     "name": "stdout",
     "output_type": "stream",
     "text": [
      "+-----------------+--------------+--------------------+--------------------+---------+---------------+-------+----+--------------------+-----------+--------+------------+\n",
      "|             name|         phone|               email|             address|postalZip|         region|country|list|                text|numberrange|currency|alphanumeric|\n",
      "+-----------------+--------------+--------------------+--------------------+---------+---------------+-------+----+--------------------+-----------+--------+------------+\n",
      "|    Aurelia Combs|(818) 147-3806|purus.gravida@icl...|951-7278 Risus. Road|    62744|      Innlandet|Ukraine| 100|lorem, eget molli...|          1|  $40.00| BJO33IPL2AV|\n",
      "|Valentine O'Neill|(364) 583-4329|pharetra.sed@hotm...|Ap #490-2719 Dict...|  6955 IU|New South Wales|Ukraine| 100|nibh dolor, nonum...|          2|  $61.17| USS48ETS7HG|\n",
      "+-----------------+--------------+--------------------+--------------------+---------+---------------+-------+----+--------------------+-----------+--------+------------+\n",
      "\n",
      "+-----------------+--------------+--------------------+--------------------+---------+---------------+-------+----+--------------------+-----------+--------+------------+\n",
      "|             name|         phone|               email|             address|postalZip|         region|country|list|                text|numberrange|currency|alphanumeric|\n",
      "+-----------------+--------------+--------------------+--------------------+---------+---------------+-------+----+--------------------+-----------+--------+------------+\n",
      "|    Aurelia Combs|(818) 147-3806|purus.gravida@icl...|951-7278 Risus. Road|    62744|      Innlandet|Ukraine| 100|lorem, eget molli...|          1|  $40.00| BJO33IPL2AV|\n",
      "|Valentine O'Neill|(364) 583-4329|pharetra.sed@hotm...|Ap #490-2719 Dict...|  6955 IU|New South Wales|Ukraine| 100|nibh dolor, nonum...|          2|  $61.17| USS48ETS7HG|\n",
      "+-----------------+--------------+--------------------+--------------------+---------+---------------+-------+----+--------------------+-----------+--------+------------+\n",
      "\n",
      "+-----------------+--------------+--------------------+--------------------+---------+---------------+-------+----+--------------------+-----------+--------+------------+\n",
      "|             name|         phone|               email|             address|postalZip|         region|country|list|                text|numberrange|currency|alphanumeric|\n",
      "+-----------------+--------------+--------------------+--------------------+---------+---------------+-------+----+--------------------+-----------+--------+------------+\n",
      "|    Aurelia Combs|(818) 147-3806|purus.gravida@icl...|951-7278 Risus. Road|    62744|      Innlandet|Ukraine| 100|lorem, eget molli...|          1|  $40.00| BJO33IPL2AV|\n",
      "|Valentine O'Neill|(364) 583-4329|pharetra.sed@hotm...|Ap #490-2719 Dict...|  6955 IU|New South Wales|Ukraine| 100|nibh dolor, nonum...|          2|  $61.17| USS48ETS7HG|\n",
      "+-----------------+--------------+--------------------+--------------------+---------+---------------+-------+----+--------------------+-----------+--------+------------+\n",
      "\n",
      "+-----------------+--------------+--------------------+--------------------+---------+---------------+-------+----+--------------------+-----------+--------+------------+\n",
      "|             name|         phone|               email|             address|postalZip|         region|country|list|                text|numberrange|currency|alphanumeric|\n",
      "+-----------------+--------------+--------------------+--------------------+---------+---------------+-------+----+--------------------+-----------+--------+------------+\n",
      "|    Aurelia Combs|(818) 147-3806|purus.gravida@icl...|951-7278 Risus. Road|    62744|      Innlandet|Ukraine| 100|lorem, eget molli...|          1|  $40.00| BJO33IPL2AV|\n",
      "|Valentine O'Neill|(364) 583-4329|pharetra.sed@hotm...|Ap #490-2719 Dict...|  6955 IU|New South Wales|Ukraine| 100|nibh dolor, nonum...|          2|  $61.17| USS48ETS7HG|\n",
      "+-----------------+--------------+--------------------+--------------------+---------+---------------+-------+----+--------------------+-----------+--------+------------+\n",
      "\n"
     ]
    }
   ],
   "source": [
    "random_data_df\\\n",
    "    .filter((col(\"country\") == \"Ukraine\") & (col(\"list\")==100))\\\n",
    "    .show(2)\n",
    "# use this \n",
    "random_data_df\\\n",
    "    .filter(col(\"country\") == \"Ukraine\")\\\n",
    "    .filter(col(\"list\")==100)\\\n",
    "    .show(2)\n",
    "#---------------------------------------------------------------\n",
    "random_data_df\\\n",
    "    .where((col(\"country\") == \"Ukraine\") & (col(\"list\")==100))\\\n",
    "    .show(2)\n",
    "# use this\n",
    "random_data_df\\\n",
    "    .where(col(\"country\") == \"Ukraine\")\\\n",
    "    .where(col(\"list\")==100)\\\n",
    "    .show(2)"
   ]
  },
  {
   "cell_type": "code",
   "execution_count": 85,
   "id": "78015f58",
   "metadata": {},
   "outputs": [
    {
     "data": {
      "text/plain": [
       "100"
      ]
     },
     "execution_count": 85,
     "metadata": {},
     "output_type": "execute_result"
    }
   ],
   "source": [
    "random_data_df.distinct().count()"
   ]
  },
  {
   "cell_type": "code",
   "execution_count": 87,
   "id": "d00e9231",
   "metadata": {},
   "outputs": [
    {
     "data": {
      "text/plain": [
       "100"
      ]
     },
     "execution_count": 87,
     "metadata": {},
     "output_type": "execute_result"
    }
   ],
   "source": [
    "random_data_df.distinct().count()\n",
    "random_data_df.select(\"name\",\"postalZip\",\"list\").distinct().count()"
   ]
  },
  {
   "cell_type": "code",
   "execution_count": 88,
   "id": "b583633d",
   "metadata": {},
   "outputs": [
    {
     "name": "stdout",
     "output_type": "stream",
     "text": [
      "+---------------+--------------+--------------------+--------------------+---------+----------------+--------------+----+--------------------+-----------+--------+------------+\n",
      "|           name|         phone|               email|             address|postalZip|          region|       country|list|                text|numberrange|currency|alphanumeric|\n",
      "+---------------+--------------+--------------------+--------------------+---------+----------------+--------------+----+--------------------+-----------+--------+------------+\n",
      "|      Adam Rush|1-608-833-8760|erat.neque@yahoo....|        7483 Non Av.|     2022|          Marche|         Chile| 100|gravida molestie ...|          9|  $13.22| SZP14JQK8UK|\n",
      "|   Adele Barton|(243) 622-4148|      id@hotmail.net|P.O. Box 354, 745...|     2386| West-Vlaanderen|United Kingdom| 100|libero. Integer i...|          6|   $1.67| KDF56DBK5RX|\n",
      "|   Adena Daniel|(851) 463-8228|vestibulum.mauris...|746-7651 Dapibus Av.|   403695|      Vorarlberg|       Germany| 100|metus. In nec orc...|          3|   $7.23| KSP35FMP2YE|\n",
      "|    Akeem Cantu|1-744-786-5277|libero.est@google...|P.O. Box 237, 527...|    17382|Chernihiv oblast|      Pakistan| 100|eu, euismod ac, f...|          9|  $18.16| KQM31SBN3TN|\n",
      "|Althea Davidson|(358) 674-9179|    class@yahoo.couk|Ap #116-9362 Dapi...|   523311|   Daman and Diu|        Sweden| 100|Quisque varius. N...|          5|  $11.92| BQX63EYD6CE|\n",
      "+---------------+--------------+--------------------+--------------------+---------+----------------+--------------+----+--------------------+-----------+--------+------------+\n",
      "only showing top 5 rows\n",
      "\n",
      "+---------------+--------------+--------------------+--------------------+---------+----------------+--------------+----+--------------------+-----------+--------+------------+\n",
      "|           name|         phone|               email|             address|postalZip|          region|       country|list|                text|numberrange|currency|alphanumeric|\n",
      "+---------------+--------------+--------------------+--------------------+---------+----------------+--------------+----+--------------------+-----------+--------+------------+\n",
      "|      Adam Rush|1-608-833-8760|erat.neque@yahoo....|        7483 Non Av.|     2022|          Marche|         Chile| 100|gravida molestie ...|          9|  $13.22| SZP14JQK8UK|\n",
      "|   Adele Barton|(243) 622-4148|      id@hotmail.net|P.O. Box 354, 745...|     2386| West-Vlaanderen|United Kingdom| 100|libero. Integer i...|          6|   $1.67| KDF56DBK5RX|\n",
      "|   Adena Daniel|(851) 463-8228|vestibulum.mauris...|746-7651 Dapibus Av.|   403695|      Vorarlberg|       Germany| 100|metus. In nec orc...|          3|   $7.23| KSP35FMP2YE|\n",
      "|    Akeem Cantu|1-744-786-5277|libero.est@google...|P.O. Box 237, 527...|    17382|Chernihiv oblast|      Pakistan| 100|eu, euismod ac, f...|          9|  $18.16| KQM31SBN3TN|\n",
      "|Althea Davidson|(358) 674-9179|    class@yahoo.couk|Ap #116-9362 Dapi...|   523311|   Daman and Diu|        Sweden| 100|Quisque varius. N...|          5|  $11.92| BQX63EYD6CE|\n",
      "+---------------+--------------+--------------------+--------------------+---------+----------------+--------------+----+--------------------+-----------+--------+------------+\n",
      "only showing top 5 rows\n",
      "\n",
      "+---------------+--------------+--------------------+--------------------+---------+----------------+--------------+----+--------------------+-----------+--------+------------+\n",
      "|           name|         phone|               email|             address|postalZip|          region|       country|list|                text|numberrange|currency|alphanumeric|\n",
      "+---------------+--------------+--------------------+--------------------+---------+----------------+--------------+----+--------------------+-----------+--------+------------+\n",
      "|      Adam Rush|1-608-833-8760|erat.neque@yahoo....|        7483 Non Av.|     2022|          Marche|         Chile| 100|gravida molestie ...|          9|  $13.22| SZP14JQK8UK|\n",
      "|   Adele Barton|(243) 622-4148|      id@hotmail.net|P.O. Box 354, 745...|     2386| West-Vlaanderen|United Kingdom| 100|libero. Integer i...|          6|   $1.67| KDF56DBK5RX|\n",
      "|   Adena Daniel|(851) 463-8228|vestibulum.mauris...|746-7651 Dapibus Av.|   403695|      Vorarlberg|       Germany| 100|metus. In nec orc...|          3|   $7.23| KSP35FMP2YE|\n",
      "|    Akeem Cantu|1-744-786-5277|libero.est@google...|P.O. Box 237, 527...|    17382|Chernihiv oblast|      Pakistan| 100|eu, euismod ac, f...|          9|  $18.16| KQM31SBN3TN|\n",
      "|Althea Davidson|(358) 674-9179|    class@yahoo.couk|Ap #116-9362 Dapi...|   523311|   Daman and Diu|        Sweden| 100|Quisque varius. N...|          5|  $11.92| BQX63EYD6CE|\n",
      "+---------------+--------------+--------------------+--------------------+---------+----------------+--------------+----+--------------------+-----------+--------+------------+\n",
      "only showing top 5 rows\n",
      "\n"
     ]
    }
   ],
   "source": [
    "random_data_df.sort(\"name\").show(5)\n",
    "random_data_df.orderBy(\"name\", \"email\").show(5)\n",
    "random_data_df.orderBy(col(\"name\"), col(\"email\")).show(5)"
   ]
  },
  {
   "cell_type": "code",
   "execution_count": 91,
   "id": "85d15744",
   "metadata": {},
   "outputs": [
    {
     "name": "stdout",
     "output_type": "stream",
     "text": [
      "+------------+--------------+--------------------+--------------------+---------+---------------+--------------+----+--------------------+-----------+--------+------------+\n",
      "|        name|         phone|               email|             address|postalZip|         region|       country|list|                text|numberrange|currency|alphanumeric|\n",
      "+------------+--------------+--------------------+--------------------+---------+---------------+--------------+----+--------------------+-----------+--------+------------+\n",
      "|   Adam Rush|1-608-833-8760|erat.neque@yahoo....|        7483 Non Av.|     2022|         Marche|         Chile| 100|gravida molestie ...|          9|  $13.22| SZP14JQK8UK|\n",
      "|Adele Barton|(243) 622-4148|      id@hotmail.net|P.O. Box 354, 745...|     2386|West-Vlaanderen|United Kingdom| 100|libero. Integer i...|          6|   $1.67| KDF56DBK5RX|\n",
      "+------------+--------------+--------------------+--------------------+---------+---------------+--------------+----+--------------------+-----------+--------+------------+\n",
      "only showing top 2 rows\n",
      "\n",
      "+---------------+--------------+--------------------+--------------------+---------+------+-------+----+--------------------+-----------+--------+------------+\n",
      "|           name|         phone|               email|             address|postalZip|region|country|list|                text|numberrange|currency|alphanumeric|\n",
      "+---------------+--------------+--------------------+--------------------+---------+------+-------+----+--------------------+-----------+--------+------------+\n",
      "|      Zia Henry|(807) 726-7176|enim.condimentum@...|998-9358 Metus. Road|98188-516|Vaupés|Germany| 100|mauris, rhoncus i...|          9|  $12.69| YAV36RCR7NG|\n",
      "|Xanthus Gardner|1-979-111-5380|        duis@aol.edu|989-9048 Vel, Street|     2553| Viken| Poland| 100|ullamcorper magna...|          8|   $5.24| DIP18IOL7LV|\n",
      "+---------------+--------------+--------------------+--------------------+---------+------+-------+----+--------------------+-----------+--------+------------+\n",
      "only showing top 2 rows\n",
      "\n"
     ]
    }
   ],
   "source": [
    "from pyspark.sql.functions import desc, asc\n",
    "random_data_df.orderBy(expr(\"name desc\")).show(2)\n",
    "random_data_df.orderBy(col(\"name\").desc(), col(\"email\").asc()).show(2)"
   ]
  },
  {
   "cell_type": "code",
   "execution_count": 93,
   "id": "394ed820",
   "metadata": {},
   "outputs": [
    {
     "name": "stdout",
     "output_type": "stream",
     "text": [
      "+---------------+--------------+--------------------+--------------------+---------+-------------+-----------+----+--------------------+-----------+--------+------------+\n",
      "|           name|         phone|               email|             address|postalZip|       region|    country|list|                text|numberrange|currency|alphanumeric|\n",
      "+---------------+--------------+--------------------+--------------------+---------+-------------+-----------+----+--------------------+-----------+--------+------------+\n",
      "|  Aurelia Combs|(818) 147-3806|purus.gravida@icl...|951-7278 Risus. Road|    62744|    Innlandet|    Ukraine| 100|lorem, eget molli...|          1|  $40.00| BJO33IPL2AV|\n",
      "|   Cairo Church|1-566-216-0485|velit.aliquam@pro...|   2397 Lacinia. Rd.|   741616|      Cartago|    Belgium| 100|Donec dignissim m...|          6|  $36.93| EDD86ZGW5PX|\n",
      "|Halee Christian|1-756-649-5978|orci.quis@protonm...|  4158 Lobortis. Av.| YV70 6RE|Northern Cape|     Poland| 100|eget lacus. Mauri...|          6|   $3.70| TFB01UUD2VJ|\n",
      "|  Rhoda Shepard|(672) 207-6423|ut.pellentesque@o...|  685-8555 Justo St.|    32771|     Nordland|Philippines| 100|morbi tristique s...|          0|  $69.93| HBQ93XCT3SS|\n",
      "|Farrah Humphrey|(705) 234-7697|   cras.eu@yahoo.edu|658-9777 Mauris, Rd.|    79717|    Karnataka|     France| 100|molestie tortor n...|          4|  $78.78| JLD85LUU7MG|\n",
      "+---------------+--------------+--------------------+--------------------+---------+-------------+-----------+----+--------------------+-----------+--------+------------+\n",
      "\n",
      "+---------------+--------------+--------------------+--------------------+---------+----------------+--------------+----+--------------------+-----------+--------+------------+\n",
      "|           name|         phone|               email|             address|postalZip|          region|       country|list|                text|numberrange|currency|alphanumeric|\n",
      "+---------------+--------------+--------------------+--------------------+---------+----------------+--------------+----+--------------------+-----------+--------+------------+\n",
      "|      Adam Rush|1-608-833-8760|erat.neque@yahoo....|        7483 Non Av.|     2022|          Marche|         Chile| 100|gravida molestie ...|          9|  $13.22| SZP14JQK8UK|\n",
      "|   Adele Barton|(243) 622-4148|      id@hotmail.net|P.O. Box 354, 745...|     2386| West-Vlaanderen|United Kingdom| 100|libero. Integer i...|          6|   $1.67| KDF56DBK5RX|\n",
      "|   Adena Daniel|(851) 463-8228|vestibulum.mauris...|746-7651 Dapibus Av.|   403695|      Vorarlberg|       Germany| 100|metus. In nec orc...|          3|   $7.23| KSP35FMP2YE|\n",
      "|    Akeem Cantu|1-744-786-5277|libero.est@google...|P.O. Box 237, 527...|    17382|Chernihiv oblast|      Pakistan| 100|eu, euismod ac, f...|          9|  $18.16| KQM31SBN3TN|\n",
      "|Althea Davidson|(358) 674-9179|    class@yahoo.couk|Ap #116-9362 Dapi...|   523311|   Daman and Diu|        Sweden| 100|Quisque varius. N...|          5|  $11.92| BQX63EYD6CE|\n",
      "|    Amela Rojas|(487) 636-5345|elit.fermentum.ri...|Ap #885-4315 Dui,...|     6169|            FATA|       Nigeria| 100|nisi sem semper e...|          6|  $56.25| UMS56IUF8JV|\n",
      "+---------------+--------------+--------------------+--------------------+---------+----------------+--------------+----+--------------------+-----------+--------+------------+\n",
      "\n"
     ]
    }
   ],
   "source": [
    "random_data_df.limit(5).show()\n",
    "\n",
    "random_data_df.orderBy(expr(\"name desc\")).limit(6).show()"
   ]
  },
  {
   "cell_type": "code",
   "execution_count": 108,
   "id": "0de6c8ab",
   "metadata": {},
   "outputs": [
    {
     "name": "stdout",
     "output_type": "stream",
     "text": [
      "+----------------+\n",
      "|name_and_surname|\n",
      "+----------------+\n",
      "|   Aurelia Combs|\n",
      "|    Cairo Church|\n",
      "+----------------+\n",
      "only showing top 2 rows\n",
      "\n",
      "+-------------+\n",
      "| my_full_name|\n",
      "+-------------+\n",
      "|Aurelia Combs|\n",
      "| Cairo Church|\n",
      "+-------------+\n",
      "only showing top 2 rows\n",
      "\n",
      "+--------------------+-----------+\n",
      "|            my_email|Postal_code|\n",
      "+--------------------+-----------+\n",
      "|purus.gravida@icl...|      62744|\n",
      "|velit.aliquam@pro...|     741616|\n",
      "+--------------------+-----------+\n",
      "only showing top 2 rows\n",
      "\n",
      "+-------------------+\n",
      "|Average_postal_code|\n",
      "+-------------------+\n",
      "| 194690.55263157896|\n",
      "+-------------------+\n",
      "\n"
     ]
    }
   ],
   "source": [
    "random_data_df.select(expr(\"name AS name_and_surname\")).show(2)\n",
    "\n",
    "random_data_df.select(expr(\"name as full_name\").alias(\"my_full_name\")).show(2)\n",
    "\n",
    "random_data_df.selectExpr(\"email as my_email\", \"postalZip as Postal_code\").show(2)\n",
    "\n",
    "random_data_df.selectExpr(\"avg(postalZip) as Average_postal_code\").show()"
   ]
  },
  {
   "cell_type": "code",
   "execution_count": 110,
   "id": "b8adc635",
   "metadata": {},
   "outputs": [
    {
     "name": "stdout",
     "output_type": "stream",
     "text": [
      "+-------------+--------------+--------------------+--------------------+---------+---------+-------+----+--------------------+-----------+--------+------------+---+\n",
      "|         name|         phone|               email|             address|postalZip|   region|country|list|                text|numberrange|currency|alphanumeric|One|\n",
      "+-------------+--------------+--------------------+--------------------+---------+---------+-------+----+--------------------+-----------+--------+------------+---+\n",
      "|Aurelia Combs|(818) 147-3806|purus.gravida@icl...|951-7278 Risus. Road|    62744|Innlandet|Ukraine| 100|lorem, eget molli...|          1|  $40.00| BJO33IPL2AV|  1|\n",
      "| Cairo Church|1-566-216-0485|velit.aliquam@pro...|   2397 Lacinia. Rd.|   741616|  Cartago|Belgium| 100|Donec dignissim m...|          6|  $36.93| EDD86ZGW5PX|  1|\n",
      "+-------------+--------------+--------------------+--------------------+---------+---------+-------+----+--------------------+-----------+--------+------------+---+\n",
      "only showing top 2 rows\n",
      "\n"
     ]
    }
   ],
   "source": [
    "from pyspark.sql.functions import lit\n",
    "random_data_df.select(expr(\"*\"), lit(1).alias(\"One\")).show(2)"
   ]
  },
  {
   "cell_type": "code",
   "execution_count": 113,
   "id": "35caf796",
   "metadata": {},
   "outputs": [
    {
     "data": {
      "text/plain": [
       "56"
      ]
     },
     "execution_count": 113,
     "metadata": {},
     "output_type": "execute_result"
    }
   ],
   "source": [
    "seed = 5\n",
    "withReplacement = False\n",
    "fraction = 0.5\n",
    "random_data_df.sample(withReplacement, fraction, seed).count()"
   ]
  },
  {
   "cell_type": "code",
   "execution_count": 128,
   "id": "8591057c",
   "metadata": {},
   "outputs": [
    {
     "name": "stdout",
     "output_type": "stream",
     "text": [
      "+----------------+--------------+--------------------+--------------------+---------+--------------------+--------------+----+--------------------+-----------+--------+------------+\n",
      "|            name|         phone|               email|             address|postalZip|              region|       country|list|                text|numberrange|currency|alphanumeric|\n",
      "+----------------+--------------+--------------------+--------------------+---------+--------------------+--------------+----+--------------------+-----------+--------+------------+\n",
      "|       Adam Rush|1-608-833-8760|erat.neque@yahoo....|        7483 Non Av.|     2022|              Marche|         Chile| 100|gravida molestie ...|          9|  $13.22| SZP14JQK8UK|\n",
      "|    Adele Barton|(243) 622-4148|      id@hotmail.net|P.O. Box 354, 745...|     2386|     West-Vlaanderen|United Kingdom| 100|libero. Integer i...|          6|   $1.67| KDF56DBK5RX|\n",
      "| Althea Davidson|(358) 674-9179|    class@yahoo.couk|Ap #116-9362 Dapi...|   523311|       Daman and Diu|        Sweden| 100|Quisque varius. N...|          5|  $11.92| BQX63EYD6CE|\n",
      "|     Amela Rojas|(487) 636-5345|elit.fermentum.ri...|Ap #885-4315 Dui,...|     6169|                FATA|       Nigeria| 100|nisi sem semper e...|          6|  $56.25| UMS56IUF8JV|\n",
      "|     Ariana Bean|(600) 868-5876|nullam.enim.sed@y...| 711-5635 Id, Avenue|    72791|             Georgia|        Canada| 100|Proin eget odio. ...|          6|  $48.90| VGT48HQP9TS|\n",
      "|     Ashton Shaw|(768) 388-0739| vulputate@yahoo.edu|Ap #838-6751 Lito...|  E4C 0M4|               Cesar|        France| 100|Sed molestie. Sed...|          3|  $97.69| HQE56LWY4BQ|\n",
      "|   Aurelia Combs|(818) 147-3806|purus.gravida@icl...|951-7278 Risus. Road|    62744|           Innlandet|       Ukraine| 100|lorem, eget molli...|          1|  $40.00| BJO33IPL2AV|\n",
      "|    Belle Norris|(972) 368-5514|posuere.at.velit@...|P.O. Box 980, 620...|   342272|          Valparaíso|  South Africa| 100|Integer aliquam a...|          4|  $10.76| EGE45ISW7TD|\n",
      "|    Cairo Church|1-566-216-0485|velit.aliquam@pro...|   2397 Lacinia. Rd.|   741616|             Cartago|       Belgium| 100|Donec dignissim m...|          6|  $36.93| EDD86ZGW5PX|\n",
      "|    Caleb Dillon|1-561-374-9279|cum.sociis.natoqu...|Ap #733-5548 Id, Ave| AE22 4QY|          Vorarlberg|        Sweden| 100|nisl. Quisque fri...|          5|  $30.91| GCP02KLS4YQ|\n",
      "|    Cole Mcguire|(785) 443-3344|nullam.scelerisqu...| 399-5434 Sociis Ave|  Q7H 2TF|      Dunbartonshire|     Singapore| 100|sapien molestie o...|          4|  $15.05| FTU93QIN3VI|\n",
      "|    Craig Walker|(215) 490-8112|        et@yahoo.edu|P.O. Box 726, 505...|   223208|         Brandenburg|      Colombia| 100|metus sit amet an...|          6|  $70.63| UWR29COB9FE|\n",
      "|    David Morrow|(586) 717-1458|     rutrum@aol.couk|Ap #266-5626 Mole...|    61581|             Gauteng|        Canada| 100|ac libero nec lig...|          5|  $91.88| ESO82IGX2IY|\n",
      "|Elizabeth Keller|1-352-766-3254|ipsum.primis.in@o...|     6230 Litora St.|    24037| Trentino-Alto Adige|        Canada| 100|pharetra. Nam ac ...|          7|  $80.95| SFC42KJY5TR|\n",
      "|   Felicia Hurst|(523) 356-7883|tempor.arcu@iclou...|     875-7289 Et St.|    25253|             Sicilia|        Mexico| 100|id nunc interdum ...|          1|  $67.99| TOE78JDR9VL|\n",
      "|     Felix Henry|(208) 345-6447|ultrices.vivamus@...|722-7036 Aliquam Rd.|    35534|Vestfold og Telemark|       Belgium| 100|Proin sed turpis ...|          3|  $90.52| KHU81KWX1RY|\n",
      "|    Gavin Wagner|1-396-876-4745|primis.in.faucibu...|Ap #656-5585 Done...|     2256|           Berkshire|        Turkey| 100|vulputate eu, odi...|          5|  $71.10| TIO84FFI6HN|\n",
      "| Halee Christian|1-756-649-5978|orci.quis@protonm...|  4158 Lobortis. Av.| YV70 6RE|       Northern Cape|        Poland| 100|eget lacus. Mauri...|          6|   $3.70| TFB01UUD2VJ|\n",
      "|   Halee Lindsay|(171) 686-3735|mauris.integer@ho...|Ap #665-2962 Susp...|   487787|              Banten|        Mexico| 100|nunc sit amet met...|          6|   $8.62| XLQ24PXV3PF|\n",
      "|   Hashim Snyder|1-136-344-7111|pellentesque.sed@...| 949-5239 Sed Street|    45751|         Tuyên Quang|        Turkey| 100|vehicula risus. N...|          7|  $28.87| LUW84SFS2RB|\n",
      "+----------------+--------------+--------------------+--------------------+---------+--------------------+--------------+----+--------------------+-----------+--------+------------+\n",
      "only showing top 20 rows\n",
      "\n",
      "+---------------+--------------+--------------------+--------------------+-----------+--------------------+------------+----+--------------------+-----------+--------+------------+\n",
      "|           name|         phone|               email|             address|  postalZip|              region|     country|list|                text|numberrange|currency|alphanumeric|\n",
      "+---------------+--------------+--------------------+--------------------+-----------+--------------------+------------+----+--------------------+-----------+--------+------------+\n",
      "|   Adena Daniel|(851) 463-8228|vestibulum.mauris...|746-7651 Dapibus Av.|     403695|          Vorarlberg|     Germany| 100|metus. In nec orc...|          3|   $7.23| KSP35FMP2YE|\n",
      "|    Akeem Cantu|1-744-786-5277|libero.est@google...|P.O. Box 237, 527...|      17382|    Chernihiv oblast|    Pakistan| 100|eu, euismod ac, f...|          9|  $18.16| KQM31SBN3TN|\n",
      "|    Asher Walls|1-506-746-3113| amet.orci@yahoo.org|    348-8505 Non St.|      07040|  Northern Territory|       China| 100|et libero. Proin ...|          5|  $16.21| HAE93YQN9QV|\n",
      "|   Ava Reynolds|(977) 721-7473|egestas.duis@yaho...|487-3803 Est. Avenue|       2165|               Junín|   Singapore| 100|porta elit, a feu...|          8|  $16.62| NOG76PPK5HK|\n",
      "|   Blaze Walton|1-632-541-7776|ornare.tortor.at@...|Ap #259-8629 Null...|      30818|        Davao Region| New Zealand| 100|lacus vestibulum ...|          7|  $27.42| ANN64VPV0UU|\n",
      "|    Boris Finch|(677) 375-9392|  ac.turpis@yahoo.ca| 777-1035 Libero Rd.|     783445|   North Chungcheong|South Africa| 100|scelerisque neque...|         10|  $38.96| MOL55VQV4VD|\n",
      "|   Branden Rice|1-437-613-3741|vivamus.nibh@prot...|760-8236 Dapibus ...|     427895|          Henegouwen|   Indonesia| 100|cursus. Nunc maur...|          4|  $22.13| BVU38ZKQ0KV|\n",
      "|  Cassidy Lucas|(219) 389-5065|et.lacinia.vitae@...|313-3620 Condimen...|     364621|            Cornwall|      Turkey| 100|iaculis aliquet d...|          4|  $42.95| ZVI06CGV0XB|\n",
      "|  Channing Hart|1-731-171-0556|     eu@hotmail.couk|136-7955 Odio Street|      38848|       Valle d'Aosta|      Mexico| 100|magna. Duis digni...|          2|  $82.64| XNA24TYL7OF|\n",
      "|  Channing Pace|1-476-888-3278|    aenean@yahoo.edu|Ap #463-1217 Amet...|      41200|               Xīnán|      Turkey| 100|Aliquam erat volu...|          7|  $13.41| OZA52YNH2TO|\n",
      "|  Daniel Dennis|1-328-935-5184|    arcu@hotmail.com| 625-4317 Dis Street|      27173|            Lâm Đồng|     Nigeria| 100|erat vitae risus....|          0|  $13.31| ZNN47FEI2QL|\n",
      "|Destiny Collier|(883) 237-7877|cras.convallis.co...|P.O. Box 223, 970...|       3766|           Louisiana|      Norway| 100|tortor nibh sit a...|          5|  $83.43| QSK40XOQ1RQ|\n",
      "|Farrah Humphrey|(705) 234-7697|   cras.eu@yahoo.edu|658-9777 Mauris, Rd.|      79717|           Karnataka|      France| 100|molestie tortor n...|          4|  $78.78| JLD85LUU7MG|\n",
      "|    Felicia Fry|(714) 531-6612|   egestas@yahoo.edu|P.O. Box 238, 101...|     61-280|            Coquimbo|      Poland| 100|eleifend vitae, e...|          5|  $18.84| JYI53KNC3NU|\n",
      "|    Fiona Lynch|1-275-268-4078|vel.convallis.in@...|   683-9503 Cras Rd.|       4214|   Chernivtsi oblast|     Ireland| 100|Nulla facilisi. S...|          4|  $63.85| OTR28UPC8SH|\n",
      "|Fletcher Sawyer|(142) 645-6618|   arcu.nunc@aol.com|480-8821 Tellus S...|     257445|              Surrey|      Brazil| 100|elit, pretium et,...|          3|  $40.77| RWQ81ICP6WS|\n",
      "|Ginger Martinez|(469) 622-8293|dis.parturient@ic...|       7201 Cras Av.|04867-56639|Nizhny Novgorod O...| Philippines| 100|blandit viverra. ...|          7|  $24.03| HXT98MZV3FW|\n",
      "|   Grady Kelley|1-388-375-7565|  lacinia.at@aol.edu|P.O. Box 732, 983...|    E1X 2L6|      Kharkiv oblast|  Costa Rica| 100|mauris elit, dict...|         10|  $52.51| GNL69LGX4UL|\n",
      "|   Hakeem Glenn|1-512-816-5045|etiam@protonmail.org| Ap #394-4724 Mi Ave|     12-402|  Schleswig-Holstein|    Colombia| 100|tincidunt aliquam...|          9|  $52.79| OBS36FME5LK|\n",
      "|     Helen Paul|(504) 367-7319|     morbi@yahoo.net| 209-1250 Nullam St.|      66362|Västra Götalands län|     Germany| 100|egestas rhoncus. ...|          1|  $58.18| EXZ44PRC3YT|\n",
      "+---------------+--------------+--------------------+--------------------+-----------+--------------------+------------+----+--------------------+-----------+--------+------------+\n",
      "only showing top 20 rows\n",
      "\n"
     ]
    },
    {
     "data": {
      "text/plain": [
       "False"
      ]
     },
     "execution_count": 128,
     "metadata": {},
     "output_type": "execute_result"
    }
   ],
   "source": [
    "dataFrames = random_data_df.randomSplit([0.4, 0.6], seed)\n",
    "dataFrames[0].show()\n",
    "dataFrames[1].show()\n",
    "dataFrames[0].count() > dataFrames[1].count()"
   ]
  },
  {
   "cell_type": "code",
   "execution_count": 131,
   "id": "5e9ee93d",
   "metadata": {},
   "outputs": [
    {
     "name": "stdout",
     "output_type": "stream",
     "text": [
      "+----------------+--------------+--------------------+--------------------+---------+--------------------+--------------+----+--------------------+-----------+--------+------------+\n",
      "|            name|         phone|               email|             address|postalZip|              region|       country|list|                text|numberrange|currency|alphanumeric|\n",
      "+----------------+--------------+--------------------+--------------------+---------+--------------------+--------------+----+--------------------+-----------+--------+------------+\n",
      "|       Adam Rush|1-608-833-8760|erat.neque@yahoo....|        7483 Non Av.|     2022|              Marche|         Chile| 100|gravida molestie ...|          9|  $13.22| SZP14JQK8UK|\n",
      "|    Adele Barton|(243) 622-4148|      id@hotmail.net|P.O. Box 354, 745...|     2386|     West-Vlaanderen|United Kingdom| 100|libero. Integer i...|          6|   $1.67| KDF56DBK5RX|\n",
      "| Althea Davidson|(358) 674-9179|    class@yahoo.couk|Ap #116-9362 Dapi...|   523311|       Daman and Diu|        Sweden| 100|Quisque varius. N...|          5|  $11.92| BQX63EYD6CE|\n",
      "|     Amela Rojas|(487) 636-5345|elit.fermentum.ri...|Ap #885-4315 Dui,...|     6169|                FATA|       Nigeria| 100|nisi sem semper e...|          6|  $56.25| UMS56IUF8JV|\n",
      "|     Ariana Bean|(600) 868-5876|nullam.enim.sed@y...| 711-5635 Id, Avenue|    72791|             Georgia|        Canada| 100|Proin eget odio. ...|          6|  $48.90| VGT48HQP9TS|\n",
      "|     Ashton Shaw|(768) 388-0739| vulputate@yahoo.edu|Ap #838-6751 Lito...|  E4C 0M4|               Cesar|        France| 100|Sed molestie. Sed...|          3|  $97.69| HQE56LWY4BQ|\n",
      "|   Aurelia Combs|(818) 147-3806|purus.gravida@icl...|951-7278 Risus. Road|    62744|           Innlandet|       Ukraine| 100|lorem, eget molli...|          1|  $40.00| BJO33IPL2AV|\n",
      "|    Belle Norris|(972) 368-5514|posuere.at.velit@...|P.O. Box 980, 620...|   342272|          Valparaíso|  South Africa| 100|Integer aliquam a...|          4|  $10.76| EGE45ISW7TD|\n",
      "|    Cairo Church|1-566-216-0485|velit.aliquam@pro...|   2397 Lacinia. Rd.|   741616|             Cartago|       Belgium| 100|Donec dignissim m...|          6|  $36.93| EDD86ZGW5PX|\n",
      "|    Caleb Dillon|1-561-374-9279|cum.sociis.natoqu...|Ap #733-5548 Id, Ave| AE22 4QY|          Vorarlberg|        Sweden| 100|nisl. Quisque fri...|          5|  $30.91| GCP02KLS4YQ|\n",
      "|    Cole Mcguire|(785) 443-3344|nullam.scelerisqu...| 399-5434 Sociis Ave|  Q7H 2TF|      Dunbartonshire|     Singapore| 100|sapien molestie o...|          4|  $15.05| FTU93QIN3VI|\n",
      "|    Craig Walker|(215) 490-8112|        et@yahoo.edu|P.O. Box 726, 505...|   223208|         Brandenburg|      Colombia| 100|metus sit amet an...|          6|  $70.63| UWR29COB9FE|\n",
      "|    David Morrow|(586) 717-1458|     rutrum@aol.couk|Ap #266-5626 Mole...|    61581|             Gauteng|        Canada| 100|ac libero nec lig...|          5|  $91.88| ESO82IGX2IY|\n",
      "|Elizabeth Keller|1-352-766-3254|ipsum.primis.in@o...|     6230 Litora St.|    24037| Trentino-Alto Adige|        Canada| 100|pharetra. Nam ac ...|          7|  $80.95| SFC42KJY5TR|\n",
      "|   Felicia Hurst|(523) 356-7883|tempor.arcu@iclou...|     875-7289 Et St.|    25253|             Sicilia|        Mexico| 100|id nunc interdum ...|          1|  $67.99| TOE78JDR9VL|\n",
      "|     Felix Henry|(208) 345-6447|ultrices.vivamus@...|722-7036 Aliquam Rd.|    35534|Vestfold og Telemark|       Belgium| 100|Proin sed turpis ...|          3|  $90.52| KHU81KWX1RY|\n",
      "|    Gavin Wagner|1-396-876-4745|primis.in.faucibu...|Ap #656-5585 Done...|     2256|           Berkshire|        Turkey| 100|vulputate eu, odi...|          5|  $71.10| TIO84FFI6HN|\n",
      "| Halee Christian|1-756-649-5978|orci.quis@protonm...|  4158 Lobortis. Av.| YV70 6RE|       Northern Cape|        Poland| 100|eget lacus. Mauri...|          6|   $3.70| TFB01UUD2VJ|\n",
      "|   Halee Lindsay|(171) 686-3735|mauris.integer@ho...|Ap #665-2962 Susp...|   487787|              Banten|        Mexico| 100|nunc sit amet met...|          6|   $8.62| XLQ24PXV3PF|\n",
      "|   Hashim Snyder|1-136-344-7111|pellentesque.sed@...| 949-5239 Sed Street|    45751|         Tuyên Quang|        Turkey| 100|vehicula risus. N...|          7|  $28.87| LUW84SFS2RB|\n",
      "+----------------+--------------+--------------------+--------------------+---------+--------------------+--------------+----+--------------------+-----------+--------+------------+\n",
      "only showing top 20 rows\n",
      "\n"
     ]
    }
   ],
   "source": [
    "dataFrames[0].union(dataFrames[1]).show()"
   ]
  },
  {
   "cell_type": "code",
   "execution_count": 134,
   "id": "f3011e68",
   "metadata": {},
   "outputs": [
    {
     "name": "stdout",
     "output_type": "stream",
     "text": [
      "+-----+---+\n",
      "| Name|Age|\n",
      "+-----+---+\n",
      "|Alice| 25|\n",
      "|  Bob| 30|\n",
      "+-----+---+\n",
      "only showing top 2 rows\n",
      "\n",
      "+-------------+---+\n",
      "|         Name|Age|\n",
      "+-------------+---+\n",
      "|        Alice| 25|\n",
      "|          Bob| 30|\n",
      "|      Charlie| 35|\n",
      "|  New Country| 85|\n",
      "|New Country 2|851|\n",
      "+-------------+---+\n",
      "\n"
     ]
    }
   ],
   "source": [
    "# Create a list of data\n",
    "data = [(\"Alice\", 25), (\"Bob\", 30), (\"Charlie\", 35)]\n",
    "\n",
    "# Create a DataFrame from the data\n",
    "df1 = spark.createDataFrame(data, [\"Name\", \"Age\"])\n",
    "\n",
    "# Show the DataFrame\n",
    "df1.show(2)\n",
    "\n",
    "from pyspark.sql import Row\n",
    "schema = df1.schema\n",
    "newRows = [\n",
    "    Row(\"New Country\",85),\n",
    "    Row(\"New Country 2\",851)\n",
    "]\n",
    "parallelizedRows = spark.sparkContext.parallelize(newRows)\n",
    "newDF = spark.createDataFrame(parallelizedRows, schema)\n",
    "\n",
    "df1.union(newDF).show()"
   ]
  },
  {
   "cell_type": "code",
   "execution_count": 148,
   "id": "0aedc683",
   "metadata": {},
   "outputs": [
    {
     "data": {
      "text/plain": [
       "Column<'(((list + 5) * 200) - 6)'>"
      ]
     },
     "execution_count": 148,
     "metadata": {},
     "output_type": "execute_result"
    }
   ],
   "source": [
    "from pyspark.sql.functions import expr\n",
    "expr(\"(((list + 5) * 200) - 6)\")"
   ]
  },
  {
   "cell_type": "code",
   "execution_count": 154,
   "id": "d3c1ad68",
   "metadata": {},
   "outputs": [
    {
     "data": {
      "text/plain": [
       "[Row(name='Aurelia Combs', phone='(818) 147-3806', email='purus.gravida@icloud.com', address='951-7278 Risus. Road', postalZip='62744', region='Innlandet', country='Ukraine', list='100', text='lorem, eget mollis lectus pede et risus. Quisque libero lacus,', numberrange='1', currency='$40.00', alphanumeric='BJO33IPL2AV'),\n",
       " Row(name='Cairo Church', phone='1-566-216-0485', email='velit.aliquam@protonmail.com', address='2397 Lacinia. Rd.', postalZip='741616', region='Cartago', country='Belgium', list='100', text='Donec dignissim magna a tortor. Nunc commodo auctor velit. Aliquam', numberrange='6', currency='$36.93', alphanumeric='EDD86ZGW5PX')]"
      ]
     },
     "execution_count": 154,
     "metadata": {},
     "output_type": "execute_result"
    }
   ],
   "source": [
    "random_data_df.repartition(5)\n",
    "random_data_df.take(2)"
   ]
  },
  {
   "cell_type": "code",
   "execution_count": 156,
   "id": "b2aaeb36",
   "metadata": {},
   "outputs": [
    {
     "data": {
      "text/plain": [
       "DataFrame[name: string, phone: string, email: string, address: string, postalZip: string, region: string, country: string, list: string, text: string, numberrange: string, currency: string, alphanumeric: string]"
      ]
     },
     "execution_count": 156,
     "metadata": {},
     "output_type": "execute_result"
    }
   ],
   "source": [
    "random_data_df.repartition(col(\"name\"))\n"
   ]
  },
  {
   "cell_type": "code",
   "execution_count": 164,
   "id": "d542cec8",
   "metadata": {},
   "outputs": [
    {
     "data": {
      "text/plain": [
       "[Row(name='Aurelia Combs', phone='(818) 147-3806', email='purus.gravida@icloud.com', address='951-7278 Risus. Road', postalZip='62744', region='Innlandet', country='Ukraine', list='100', text='lorem, eget mollis lectus pede et risus. Quisque libero lacus,', numberrange='1', currency='$40.00', alphanumeric='BJO33IPL2AV'),\n",
       " Row(name='Cairo Church', phone='1-566-216-0485', email='velit.aliquam@protonmail.com', address='2397 Lacinia. Rd.', postalZip='741616', region='Cartago', country='Belgium', list='100', text='Donec dignissim magna a tortor. Nunc commodo auctor velit. Aliquam', numberrange='6', currency='$36.93', alphanumeric='EDD86ZGW5PX')]"
      ]
     },
     "execution_count": 164,
     "metadata": {},
     "output_type": "execute_result"
    }
   ],
   "source": [
    "random_data_df.repartition(5, col(\"name\"))\n",
    "\n",
    "random_data_df.take(2)"
   ]
  },
  {
   "cell_type": "code",
   "execution_count": 173,
   "id": "0b5e4419",
   "metadata": {},
   "outputs": [
    {
     "data": {
      "text/plain": [
       "[Row(name='Aurelia Combs', phone='(818) 147-3806', email='purus.gravida@icloud.com', address='951-7278 Risus. Road', postalZip='62744', region='Innlandet', country='Ukraine', list='100', text='lorem, eget mollis lectus pede et risus. Quisque libero lacus,', numberrange='1', currency='$40.00', alphanumeric='BJO33IPL2AV'),\n",
       " Row(name='Cairo Church', phone='1-566-216-0485', email='velit.aliquam@protonmail.com', address='2397 Lacinia. Rd.', postalZip='741616', region='Cartago', country='Belgium', list='100', text='Donec dignissim magna a tortor. Nunc commodo auctor velit. Aliquam', numberrange='6', currency='$36.93', alphanumeric='EDD86ZGW5PX'),\n",
       " Row(name='Halee Christian', phone='1-756-649-5978', email='orci.quis@protonmail.couk', address='4158 Lobortis. Av.', postalZip='YV70 6RE', region='Northern Cape', country='Poland', list='100', text='eget lacus. Mauris non dui nec urna suscipit nonummy. Fusce', numberrange='6', currency='$3.70', alphanumeric='TFB01UUD2VJ'),\n",
       " Row(name='Rhoda Shepard', phone='(672) 207-6423', email='ut.pellentesque@outlook.ca', address='685-8555 Justo St.', postalZip='32771', region='Nordland', country='Philippines', list='100', text='morbi tristique senectus et netus et malesuada fames ac turpis', numberrange='0', currency='$69.93', alphanumeric='HBQ93XCT3SS')]"
      ]
     },
     "execution_count": 173,
     "metadata": {},
     "output_type": "execute_result"
    }
   ],
   "source": [
    "random_data_df.repartition(5, col(\"name\")).coalesce(3)\n",
    "random_data_df.take(4)"
   ]
  },
  {
   "cell_type": "code",
   "execution_count": 174,
   "id": "94141fc6",
   "metadata": {},
   "outputs": [
    {
     "name": "stdout",
     "output_type": "stream",
     "text": [
      "+---------------+--------------+--------------------+--------------------+-----------+--------------------+-----------+----+--------------------+-----------+--------+------------+\n",
      "|           name|         phone|               email|             address|  postalZip|              region|    country|list|                text|numberrange|currency|alphanumeric|\n",
      "+---------------+--------------+--------------------+--------------------+-----------+--------------------+-----------+----+--------------------+-----------+--------+------------+\n",
      "|  Aurelia Combs|(818) 147-3806|purus.gravida@icl...|951-7278 Risus. Road|      62744|           Innlandet|    Ukraine| 100|lorem, eget molli...|          1|  $40.00| BJO33IPL2AV|\n",
      "|   Cairo Church|1-566-216-0485|velit.aliquam@pro...|   2397 Lacinia. Rd.|     741616|             Cartago|    Belgium| 100|Donec dignissim m...|          6|  $36.93| EDD86ZGW5PX|\n",
      "|Halee Christian|1-756-649-5978|orci.quis@protonm...|  4158 Lobortis. Av.|   YV70 6RE|       Northern Cape|     Poland| 100|eget lacus. Mauri...|          6|   $3.70| TFB01UUD2VJ|\n",
      "|  Rhoda Shepard|(672) 207-6423|ut.pellentesque@o...|  685-8555 Justo St.|      32771|            Nordland|Philippines| 100|morbi tristique s...|          0|  $69.93| HBQ93XCT3SS|\n",
      "|Farrah Humphrey|(705) 234-7697|   cras.eu@yahoo.edu|658-9777 Mauris, Rd.|      79717|           Karnataka|     France| 100|molestie tortor n...|          4|  $78.78| JLD85LUU7MG|\n",
      "|    Lucian Cote|1-146-221-5813|iaculis.lacus.ped...|552-2193 Ligula. St.|       8124|      Poltava oblast|  Singapore| 100|lectus. Cum socii...|          4|  $84.38| XYP60QTY5WB|\n",
      "|    Ariana Bean|(600) 868-5876|nullam.enim.sed@y...| 711-5635 Id, Avenue|      72791|             Georgia|     Canada| 100|Proin eget odio. ...|          6|  $48.90| VGT48HQP9TS|\n",
      "|   Miranda Burt|(230) 548-6532|cum.sociis.natoqu...|      8334 Donec Rd.|05441-55792|             Alberta|  Singapore| 100|eu dolor egestas ...|          3|  $95.74| VDS45MYL0RG|\n",
      "|  Hiram Maxwell|(883) 348-8867|lorem.fringilla.o...|   394-1911 Sed Road|      62505|        Dolnośląskie|  Singapore| 100|Aliquam gravida m...|          8|  $11.58| VZJ34OBG1KT|\n",
      "|    Felix Henry|(208) 345-6447|ultrices.vivamus@...|722-7036 Aliquam Rd.|      35534|Vestfold og Telemark|    Belgium| 100|Proin sed turpis ...|          3|  $90.52| KHU81KWX1RY|\n",
      "+---------------+--------------+--------------------+--------------------+-----------+--------------------+-----------+----+--------------------+-----------+--------+------------+\n",
      "\n",
      "+---------------+--------------+----------------------------+--------------------+---------+-------------+-----------+----+------------------------------------------------------------------+-----------+--------+------------+\n",
      "|name           |phone         |email                       |address             |postalZip|region       |country    |list|text                                                              |numberrange|currency|alphanumeric|\n",
      "+---------------+--------------+----------------------------+--------------------+---------+-------------+-----------+----+------------------------------------------------------------------+-----------+--------+------------+\n",
      "|Aurelia Combs  |(818) 147-3806|purus.gravida@icloud.com    |951-7278 Risus. Road|62744    |Innlandet    |Ukraine    |100 |lorem, eget mollis lectus pede et risus. Quisque libero lacus,    |1          |$40.00  |BJO33IPL2AV |\n",
      "|Cairo Church   |1-566-216-0485|velit.aliquam@protonmail.com|2397 Lacinia. Rd.   |741616   |Cartago      |Belgium    |100 |Donec dignissim magna a tortor. Nunc commodo auctor velit. Aliquam|6          |$36.93  |EDD86ZGW5PX |\n",
      "|Halee Christian|1-756-649-5978|orci.quis@protonmail.couk   |4158 Lobortis. Av.  |YV70 6RE |Northern Cape|Poland     |100 |eget lacus. Mauris non dui nec urna suscipit nonummy. Fusce       |6          |$3.70   |TFB01UUD2VJ |\n",
      "|Rhoda Shepard  |(672) 207-6423|ut.pellentesque@outlook.ca  |685-8555 Justo St.  |32771    |Nordland     |Philippines|100 |morbi tristique senectus et netus et malesuada fames ac turpis    |0          |$69.93  |HBQ93XCT3SS |\n",
      "|Farrah Humphrey|(705) 234-7697|cras.eu@yahoo.edu           |658-9777 Mauris, Rd.|79717    |Karnataka    |France     |100 |molestie tortor nibh sit amet orci. Ut sagittis lobortis mauris.  |4          |$78.78  |JLD85LUU7MG |\n",
      "+---------------+--------------+----------------------------+--------------------+---------+-------------+-----------+----+------------------------------------------------------------------+-----------+--------+------------+\n",
      "only showing top 5 rows\n",
      "\n"
     ]
    },
    {
     "data": {
      "text/plain": [
       "[Row(name='Aurelia Combs', phone='(818) 147-3806', email='purus.gravida@icloud.com', address='951-7278 Risus. Road', postalZip='62744', region='Innlandet', country='Ukraine', list='100', text='lorem, eget mollis lectus pede et risus. Quisque libero lacus,', numberrange='1', currency='$40.00', alphanumeric='BJO33IPL2AV'),\n",
       " Row(name='Cairo Church', phone='1-566-216-0485', email='velit.aliquam@protonmail.com', address='2397 Lacinia. Rd.', postalZip='741616', region='Cartago', country='Belgium', list='100', text='Donec dignissim magna a tortor. Nunc commodo auctor velit. Aliquam', numberrange='6', currency='$36.93', alphanumeric='EDD86ZGW5PX'),\n",
       " Row(name='Halee Christian', phone='1-756-649-5978', email='orci.quis@protonmail.couk', address='4158 Lobortis. Av.', postalZip='YV70 6RE', region='Northern Cape', country='Poland', list='100', text='eget lacus. Mauris non dui nec urna suscipit nonummy. Fusce', numberrange='6', currency='$3.70', alphanumeric='TFB01UUD2VJ'),\n",
       " Row(name='Rhoda Shepard', phone='(672) 207-6423', email='ut.pellentesque@outlook.ca', address='685-8555 Justo St.', postalZip='32771', region='Nordland', country='Philippines', list='100', text='morbi tristique senectus et netus et malesuada fames ac turpis', numberrange='0', currency='$69.93', alphanumeric='HBQ93XCT3SS'),\n",
       " Row(name='Farrah Humphrey', phone='(705) 234-7697', email='cras.eu@yahoo.edu', address='658-9777 Mauris, Rd.', postalZip='79717', region='Karnataka', country='France', list='100', text='molestie tortor nibh sit amet orci. Ut sagittis lobortis mauris.', numberrange='4', currency='$78.78', alphanumeric='JLD85LUU7MG'),\n",
       " Row(name='Lucian Cote', phone='1-146-221-5813', email='iaculis.lacus.pede@aol.net', address='552-2193 Ligula. St.', postalZip='8124', region='Poltava oblast', country='Singapore', list='100', text='lectus. Cum sociis natoque penatibus et magnis dis parturient montes,', numberrange='4', currency='$84.38', alphanumeric='XYP60QTY5WB'),\n",
       " Row(name='Ariana Bean', phone='(600) 868-5876', email='nullam.enim.sed@yahoo.edu', address='711-5635 Id, Avenue', postalZip='72791', region='Georgia', country='Canada', list='100', text='Proin eget odio. Aliquam vulputate ullamcorper magna. Sed eu eros.', numberrange='6', currency='$48.90', alphanumeric='VGT48HQP9TS'),\n",
       " Row(name='Miranda Burt', phone='(230) 548-6532', email='cum.sociis.natoque@icloud.couk', address='8334 Donec Rd.', postalZip='05441-55792', region='Alberta', country='Singapore', list='100', text='eu dolor egestas rhoncus. Proin nisl sem, consequat nec, mollis', numberrange='3', currency='$95.74', alphanumeric='VDS45MYL0RG'),\n",
       " Row(name='Hiram Maxwell', phone='(883) 348-8867', email='lorem.fringilla.ornare@aol.com', address='394-1911 Sed Road', postalZip='62505', region='Dolnośląskie', country='Singapore', list='100', text='Aliquam gravida mauris ut mi. Duis risus odio, auctor vitae,', numberrange='8', currency='$11.58', alphanumeric='VZJ34OBG1KT'),\n",
       " Row(name='Felix Henry', phone='(208) 345-6447', email='ultrices.vivamus@yahoo.ca', address='722-7036 Aliquam Rd.', postalZip='35534', region='Vestfold og Telemark', country='Belgium', list='100', text='Proin sed turpis nec mauris blandit mattis. Cras eget nisi', numberrange='3', currency='$90.52', alphanumeric='KHU81KWX1RY')]"
      ]
     },
     "execution_count": 174,
     "metadata": {},
     "output_type": "execute_result"
    }
   ],
   "source": [
    "collectDF = random_data_df.limit(10)\n",
    "collectDF.take(5) # take works with an Integer count\n",
    "collectDF.show() # this prints it out nicely\n",
    "collectDF.show(5, False)\n",
    "collectDF.collect()"
   ]
  },
  {
   "cell_type": "code",
   "execution_count": 175,
   "id": "106a4afc",
   "metadata": {},
   "outputs": [
    {
     "data": {
      "text/plain": [
       "<generator object _local_iterator_from_socket.<locals>.PyLocalIterable.__iter__ at 0x7f3c4b3c1700>"
      ]
     },
     "execution_count": 175,
     "metadata": {},
     "output_type": "execute_result"
    }
   ],
   "source": [
    "collectDF.toLocalIterator()"
   ]
  },
  {
   "cell_type": "code",
   "execution_count": 176,
   "id": "5e0ce0cc",
   "metadata": {},
   "outputs": [
    {
     "data": {
      "text/plain": [
       "<generator object _local_iterator_from_socket.<locals>.PyLocalIterable.__iter__ at 0x7f3c4b3c1230>"
      ]
     },
     "execution_count": 176,
     "metadata": {},
     "output_type": "execute_result"
    }
   ],
   "source": [
    "collectDF = random_data_df.limit(40)\n",
    "collectDF.toLocalIterator()"
   ]
  },
  {
   "cell_type": "code",
   "execution_count": null,
   "id": "291bdc93",
   "metadata": {},
   "outputs": [],
   "source": []
  },
  {
   "cell_type": "code",
   "execution_count": null,
   "id": "597607a4",
   "metadata": {},
   "outputs": [],
   "source": []
  }
 ],
 "metadata": {
  "kernelspec": {
   "display_name": "Python 3 (ipykernel)",
   "language": "python",
   "name": "python3"
  },
  "language_info": {
   "codemirror_mode": {
    "name": "ipython",
    "version": 3
   },
   "file_extension": ".py",
   "mimetype": "text/x-python",
   "name": "python",
   "nbconvert_exporter": "python",
   "pygments_lexer": "ipython3",
   "version": "3.10.6"
  }
 },
 "nbformat": 4,
 "nbformat_minor": 5
}
