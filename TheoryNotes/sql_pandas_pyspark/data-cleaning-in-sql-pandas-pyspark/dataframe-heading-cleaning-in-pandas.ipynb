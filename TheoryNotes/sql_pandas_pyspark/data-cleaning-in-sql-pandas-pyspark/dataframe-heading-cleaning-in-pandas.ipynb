{
 "cells": [
  {
   "cell_type": "code",
   "execution_count": 1,
   "metadata": {},
   "outputs": [],
   "source": [
    "import pandas as pd"
   ]
  },
  {
   "cell_type": "code",
   "execution_count": 2,
   "metadata": {},
   "outputs": [],
   "source": [
    "csv_file_path = 'input-data/person_data.csv'"
   ]
  },
  {
   "cell_type": "code",
   "execution_count": 9,
   "metadata": {},
   "outputs": [
    {
     "data": {
      "text/plain": [
       "Person@ ID             int64\n",
       "First, Name           object\n",
       "Last! Name            object\n",
       "Date* Of Birth        object\n",
       "Gender#               object\n",
       "Email$ Address        object\n",
       "Phone% Number          int64\n",
       "Address^              object\n",
       "City (State)          object\n",
       "Zip Code|             object\n",
       "Country~              object\n",
       "Nationality`          object\n",
       "Occupation_           object\n",
       "Education+            object\n",
       "Marital-Status        object\n",
       "Registration. Date    object\n",
       "Registration TIme     object\n",
       "dtype: object"
      ]
     },
     "execution_count": 9,
     "metadata": {},
     "output_type": "execute_result"
    }
   ],
   "source": [
    "# Reading the CSV file with various parameters\n",
    "df = pd.read_csv(\n",
    "    csv_file_path,  # The file path to the CSV file\n",
    "    sep=',',    # Separator (default is ',')\n",
    "    header=0,   # Row number to use as column names (0 for the first row)\n",
    "    index_col=None,  # Set to None to not use any column as the index\n",
    "    usecols=None,    # List of column names to read, None to read all columns\n",
    "    skiprows=None,   # Number of rows to skip at the beginning\n",
    "    nrows=None,      # Number of rows to read (None to read all)\n",
    "    encoding='utf-8',  # Encoding of the CSV file (default is 'utf-8')\n",
    "    dtype={'Person@ ID': int, 'Date* Of Birth': str, 'Zip Code|': str},\n",
    "    na_values=['N/A', 'NA'],  # List of values to treat as NaN (default is None)\n",
    ")\n",
    "df.dtypes"
   ]
  },
  {
   "cell_type": "code",
   "execution_count": 5,
   "metadata": {},
   "outputs": [
    {
     "data": {
      "text/plain": [
       "person_id             int64\n",
       "first_name           object\n",
       "last_name            object\n",
       "date_of_birth        object\n",
       "gender               object\n",
       "email_address        object\n",
       "phone_number          int64\n",
       "address              object\n",
       "city_state           object\n",
       "zip_code             object\n",
       "country              object\n",
       "nationality          object\n",
       "occupation           object\n",
       "education            object\n",
       "maritalstatus        object\n",
       "registration_date    object\n",
       "registration_time    object\n",
       "dtype: object"
      ]
     },
     "execution_count": 5,
     "metadata": {},
     "output_type": "execute_result"
    }
   ],
   "source": [
    "import re\n",
    "def remove_special_characters_in_column_names(df, remove_special_chars=True):\n",
    "    if remove_special_chars:\n",
    "        df.columns = [re.sub(r'[^\\w\\s]', '', col) for col in df.columns]\n",
    "    return df\n",
    "df = remove_special_characters_in_column_names(df)\n",
    "df.dtypes\n",
    "\n",
    "def remove_leading_trailing_underscores_from_column_names(df, leading_trailing_underscores=True):\n",
    "    if leading_trailing_underscores:\n",
    "        df.columns = [col.lstrip('_').rstrip('_') for col in df.columns]\n",
    "    return df\n",
    "df = remove_leading_trailing_underscores_from_column_names(df)\n",
    "df.dtypes\n",
    "def remove_leading_trailing_spaces_from_column_names(df,leading_trailing_spaces=True):\n",
    "    if leading_trailing_spaces:\n",
    "        df.columns = [col.strip() for col in df.columns]\n",
    "    return df\n",
    "df = remove_leading_trailing_spaces_from_column_names(df)\n",
    "df.dtypes\n",
    "\n",
    "def join_words_with_spaces_in_column_names(df, join_by_space=True):\n",
    "    if join_by_space:\n",
    "        df.columns = ['_'.join(col.split(' ')) for col in df.columns]\n",
    "    return df\n",
    "df = join_words_with_spaces_in_column_names(df)\n",
    "df.dtypes\n",
    "\n",
    "def lowercase_dataframe_column_names(df, lower_case=True):\n",
    "    if lower_case:\n",
    "        df.columns = [col.lower() for col in df.columns]\n",
    "    return df\n",
    "df = lowercase_dataframe_column_names(df)\n",
    "df.dtypes"
   ]
  },
  {
   "cell_type": "code",
   "execution_count": 6,
   "metadata": {},
   "outputs": [
    {
     "data": {
      "text/plain": [
       "Person@ ID             int64\n",
       "First, Name           object\n",
       "Last! Name            object\n",
       "Date* Of Birth        object\n",
       "Gender#               object\n",
       "Email$ Address        object\n",
       "Phone% Number          int64\n",
       "Address^              object\n",
       "City (State)          object\n",
       "Zip Code|             object\n",
       "Country~              object\n",
       "Nationality`          object\n",
       "Occupation_           object\n",
       "Education+            object\n",
       "Marital-Status        object\n",
       "Registration. Date    object\n",
       "Registration TIme     object\n",
       "dtype: object"
      ]
     },
     "execution_count": 6,
     "metadata": {},
     "output_type": "execute_result"
    }
   ],
   "source": [
    "# Reading the CSV file with various parameters\n",
    "df = pd.read_csv(\n",
    "    csv_file_path,  # The file path to the CSV file\n",
    "    sep=',',    # Separator (default is ',')\n",
    "    header=0,   # Row number to use as column names (0 for the first row)\n",
    "    index_col=None,  # Set to None to not use any column as the index\n",
    "    usecols=None,    # List of column names to read, None to read all columns\n",
    "    skiprows=None,   # Number of rows to skip at the beginning\n",
    "    nrows=None,      # Number of rows to read (None to read all)\n",
    "    encoding='utf-8',  # Encoding of the CSV file (default is 'utf-8')\n",
    "    dtype={'Person@ ID': int, 'Date* Of Birth': str, 'Zip Code|': str},\n",
    "    na_values=['N/A', 'NA'],  # List of values to treat as NaN (default is None)\n",
    ")\n",
    "df.dtypes"
   ]
  },
  {
   "cell_type": "code",
   "execution_count": 11,
   "metadata": {},
   "outputs": [
    {
     "data": {
      "text/plain": [
       "person_id             int64\n",
       "first_name           object\n",
       "last_name            object\n",
       "date_of_birth        object\n",
       "gender               object\n",
       "email_address        object\n",
       "phone_number          int64\n",
       "address              object\n",
       "city_state           object\n",
       "zip_code             object\n",
       "country              object\n",
       "nationality          object\n",
       "occupation           object\n",
       "education            object\n",
       "marital_status       object\n",
       "registration_date    object\n",
       "registration_time    object\n",
       "dtype: object"
      ]
     },
     "execution_count": 11,
     "metadata": {},
     "output_type": "execute_result"
    }
   ],
   "source": [
    "import re\n",
    "\n",
    "# Define a custom function to clean column names\n",
    "def clean_and_transform_column_names(\n",
    "        df,\n",
    "        remove_special_chars=True, \n",
    "        remove_underscores=True,\n",
    "        remove_spaces=True, \n",
    "        join_with_underscores=True, \n",
    "        lowercase=True\n",
    "        ):\n",
    "    for col in df.columns:\n",
    "        new_col_name = col\n",
    "        # Remove special characters and replace spaces with \"\"\n",
    "        if remove_special_chars:\n",
    "            new_col_name = re.sub(r'[^a-zA-Z0-9]+', ' ', new_col_name)\n",
    "        # Remove leading and trailing underscores\n",
    "        if remove_underscores:\n",
    "            new_col_name = new_col_name.strip('_')\n",
    "        # Remove leading and trailing spaces\n",
    "        if remove_spaces:\n",
    "            new_col_name = new_col_name.strip()\n",
    "        # Join words with underscores\n",
    "        if join_with_underscores:\n",
    "            new_col_name = \"_\".join(new_col_name.split())\n",
    "        # Convert to lowercase\n",
    "        if lowercase:\n",
    "            new_col_name = new_col_name.lower()\n",
    "        # Rename the column\n",
    "        df.rename(columns={col: new_col_name}, inplace=True)\n",
    "    return df\n",
    "\n",
    "# Clean and transform column names using a single function\n",
    "df = clean_and_transform_column_names(df)\n",
    "\n",
    "# Show the DataFrame Schema\n",
    "df.dtypes"
   ]
  }
 ],
 "metadata": {
  "kernelspec": {
   "display_name": "Python 3",
   "language": "python",
   "name": "python3"
  },
  "language_info": {
   "codemirror_mode": {
    "name": "ipython",
    "version": 3
   },
   "file_extension": ".py",
   "mimetype": "text/x-python",
   "name": "python",
   "nbconvert_exporter": "python",
   "pygments_lexer": "ipython3",
   "version": "3.10.12"
  }
 },
 "nbformat": 4,
 "nbformat_minor": 2
}
